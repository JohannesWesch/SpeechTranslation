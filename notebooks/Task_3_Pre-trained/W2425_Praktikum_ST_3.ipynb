{
  "cells": [
    {
      "cell_type": "markdown",
      "id": "857b2aa3-ca0a-4f0a-8d9b-707496294cae",
      "metadata": {
        "id": "857b2aa3-ca0a-4f0a-8d9b-707496294cae"
      },
      "source": [
        "# Section 1. Getting Started\n",
        "\n",
        "Disclaimer: Unfortunately, the notebook for this praktikum is not readily-executable for you. It cannot be ran on Google Colab due to its memory requirement. You can however use it as instruction to set up your own implementation on bwUniCluster.\n",
        "\n",
        "## 1.1. Install SALMONN\n",
        "\n",
        "First, clone the repository:"
      ]
    },
    {
      "cell_type": "code",
      "execution_count": null,
      "id": "ae76996d-10a2-454e-bf03-889b091bd445",
      "metadata": {
        "id": "ae76996d-10a2-454e-bf03-889b091bd445"
      },
      "outputs": [],
      "source": [
        "# !git clone https://github.com/bytedance/SALMONN.git\n",
        "# %cd SALMONN"
      ]
    },
    {
      "cell_type": "markdown",
      "id": "6269ec81-7fca-4586-9ad6-920c98840068",
      "metadata": {
        "id": "6269ec81-7fca-4586-9ad6-920c98840068"
      },
      "source": [
        "Install the necessary packages. You should mostly follow the instruction from the [SALMONN repository](https://github.com/bytedance/SALMONN/), however, a few modifications is required as follows.\n",
        "\n",
        "First create a python `3.9.17` environment, for example with:"
      ]
    },
    {
      "cell_type": "code",
      "execution_count": null,
      "id": "dadc6d40-fb89-41c9-a724-5aa8606837cb",
      "metadata": {
        "id": "dadc6d40-fb89-41c9-a724-5aa8606837cb"
      },
      "outputs": [],
      "source": [
        "# !conda create -n salmonn python=3.9.17\n",
        "# !conda activate salmonn"
      ]
    },
    {
      "cell_type": "markdown",
      "id": "cc1c3959-388c-4af2-a245-53731caeec23",
      "metadata": {
        "id": "cc1c3959-388c-4af2-a245-53731caeec23"
      },
      "source": [
        "Contradicting to the instruction from the SALMONN repository, install the **updated version** of `torch` and `torchaudio` according to the [Pytorch website](https://pytorch.org/get-started/locally/), for example:"
      ]
    },
    {
      "cell_type": "code",
      "execution_count": null,
      "id": "d5b386b2-39ee-4e3f-803e-eb150430e9c4",
      "metadata": {
        "id": "d5b386b2-39ee-4e3f-803e-eb150430e9c4"
      },
      "outputs": [],
      "source": [
        "# !conda install pytorch torchaudio pytorch-cuda=12.1 -c pytorch -c nvidia"
      ]
    },
    {
      "cell_type": "markdown",
      "id": "d753353c-6ec8-4350-9d86-fe1665398f9a",
      "metadata": {
        "id": "d753353c-6ec8-4350-9d86-fe1665398f9a"
      },
      "source": [
        "Install the rest of the packages according to the `requirements.txt` files provided in the SALMONN repository."
      ]
    },
    {
      "cell_type": "code",
      "execution_count": null,
      "id": "ea6d8634-98c5-40cb-857e-dab2ee865cae",
      "metadata": {
        "id": "ea6d8634-98c5-40cb-857e-dab2ee865cae"
      },
      "outputs": [],
      "source": [
        "# !pip install peft==0.3.0\n",
        "# !pip install soundfile\n",
        "# !pip install librosa\n",
        "# !pip install transformers==4.28.0\n",
        "# !pip install sentencepiece==0.1.97\n",
        "# !pip install accelerate==0.20.3\n",
        "# !pip install bitsandbytes==0.35.0\n",
        "# !pip install gradio==3.23.0"
      ]
    },
    {
      "cell_type": "markdown",
      "id": "e9d0ee0e-3b45-4135-aede-2af22d3b3749",
      "metadata": {
        "id": "e9d0ee0e-3b45-4135-aede-2af22d3b3749"
      },
      "source": [
        "Install other necessary packages:"
      ]
    },
    {
      "cell_type": "code",
      "execution_count": null,
      "id": "e57ad1f3-11ec-461a-8130-2da91ce90045",
      "metadata": {
        "id": "e57ad1f3-11ec-461a-8130-2da91ce90045"
      },
      "outputs": [],
      "source": [
        "# !pip install omegaconf"
      ]
    },
    {
      "cell_type": "markdown",
      "id": "46ed799e-2ad8-42ae-bc31-f11bd367f584",
      "metadata": {
        "id": "46ed799e-2ad8-42ae-bc31-f11bd367f584"
      },
      "source": [
        "## 1.2. Download models"
      ]
    },
    {
      "cell_type": "markdown",
      "id": "fe6d3c37-f4ff-45d3-9911-7ddb8ded63e6",
      "metadata": {
        "id": "fe6d3c37-f4ff-45d3-9911-7ddb8ded63e6"
      },
      "source": [
        "To reduce the computational cost, we will work with the smaller version of SALMONN, with 7B parameters. We need to download the required pre-trained models. Most of them are available on Huggingface:"
      ]
    },
    {
      "cell_type": "code",
      "execution_count": null,
      "id": "a2cafc74-2860-4bd3-9eb1-8b1fcd474e71",
      "metadata": {
        "id": "a2cafc74-2860-4bd3-9eb1-8b1fcd474e71"
      },
      "outputs": [],
      "source": [
        "# !huggingface-cli download openai/whisper-large-v2\n",
        "# !huggingface-cli download lmsys/vicuna-7b-v1.5\n",
        "# !huggingface-cli download tsinghua-ee/SALMONN-7B"
      ]
    },
    {
      "cell_type": "markdown",
      "id": "0a4c84ee-c621-4f46-b1d4-013402a3a168",
      "metadata": {
        "id": "0a4c84ee-c621-4f46-b1d4-013402a3a168"
      },
      "source": [
        "The `BEATs` model can be downloaded from this [link](https://1drv.ms/u/s!AqeByhGUtINrgcpj8ujXH1YUtxooEg?e=E9Ncea)."
      ]
    },
    {
      "cell_type": "markdown",
      "id": "8a2696ba-0f0b-4ed6-90b4-ed6ba62c8300",
      "metadata": {
        "id": "8a2696ba-0f0b-4ed6-90b4-ed6ba62c8300"
      },
      "source": [
        "# Section 2. Data Preparation"
      ]
    },
    {
      "cell_type": "markdown",
      "id": "90d361f3-d540-4dc2-a08b-2858a50a6a32",
      "metadata": {
        "id": "90d361f3-d540-4dc2-a08b-2858a50a6a32"
      },
      "source": [
        "Our data should be put into a standard format. An example is provided by SALMONN, which can be found in `data/example_data.json`. Let's have a look:"
      ]
    },
    {
      "cell_type": "code",
      "execution_count": null,
      "id": "7e609182-3fcf-4bdb-8aa3-b64cd81607d5",
      "metadata": {
        "id": "7e609182-3fcf-4bdb-8aa3-b64cd81607d5",
        "outputId": "aaf37a18-a220-4dfb-bf4c-1af2b91ac3de"
      },
      "outputs": [
        {
          "data": {
            "text/plain": [
              "{'annotation': [{'path': '/data/LibriSpeech/train-clean-100/103/1240/103-1240-0000.flac',\n",
              "   'text': 'Chapter one missus rachel lynde is surprised missus rachel lynde lived just where the avonlea main road dipped down into a little hollow fringed with alders and ladies eardrops and traversed by a brook',\n",
              "   'task': 'asr'},\n",
              "  {'path': '/data/LibriSpeech/train-clean-100/103/1240/103-1240-0001.flac',\n",
              "   'text': \"That had its source away back in the woods of the old cuthbert place it was reputed to be an intricate headlong brook in its earlier course through those woods with dark secrets of pool and cascade but by the time it reached lynde's hollow it was a quiet well conducted little stream\",\n",
              "   'task': 'asr'}]}"
            ]
          },
          "execution_count": 7,
          "metadata": {},
          "output_type": "execute_result"
        }
      ],
      "source": [
        "import json\n",
        "with open(\"data/example_data.json\", 'r') as f:\n",
        "    data = json.load(f)\n",
        "data"
      ]
    },
    {
      "cell_type": "markdown",
      "id": "0f4edc0a-0ee6-4baa-ad87-21888a12a866",
      "metadata": {
        "id": "0f4edc0a-0ee6-4baa-ad87-21888a12a866"
      },
      "source": [
        "As can be seen, we should format our data such that each sample consist of:\n",
        "- Path to the audio\n",
        "- Target text (translation in our case)\n",
        "- Task name. The task name should maps with the keys provided in the prompt files, which can be found in the `prompts/` directory.\n"
      ]
    },
    {
      "cell_type": "markdown",
      "id": "52ba0401-e578-4c94-a7aa-4aaca1e860a5",
      "metadata": {
        "id": "52ba0401-e578-4c94-a7aa-4aaca1e860a5"
      },
      "source": [
        "I have created a minimal example of the data required for speech translation fine-tuning. The data is a subset of [CoVoST2](https://github.com/facebookresearch/covost), English-to-German translation. Note that this is a dummy dataset, with only 30 samples for training, 10 for dev and 10 for testing. It is only used for demonstration, not to develop actual working ST systems.\n",
        "\n",
        "You can download it from [here](https://drive.google.com/file/d/19QTZy63Y1oejH_7g1ziCpkrEuyJARQZD/view?usp=sharing) for inspiration to format your own dataset."
      ]
    },
    {
      "cell_type": "markdown",
      "id": "de5dd071-dcbd-449a-a338-ebedccc24abf",
      "metadata": {
        "id": "de5dd071-dcbd-449a-a338-ebedccc24abf"
      },
      "source": [
        "## Section 3. Translation with raw SALMONN\n",
        "\n",
        "It is expected that SALMONN should already have the capability to do translation, given the large data it was pre-trained on. Let's see how SALMONN performs on translating CoVoST English audio to German text, without any fine-tuning.\n",
        "\n",
        "To use SALMONN for inference, we should make use of the `cli_inference.py` script, and change the config file at `configs/decode_config.yaml` according to our usecase. Specifically, in `configs/decode_config.yaml`, we should change:\n",
        "- `llama_path`: path to the vicuna model, which should be `lmsys/vicuna-7b-v1.5`\n",
        "- `whisper_path`: path to the Whisper model, which should be `openai/whisper-large-v2`\n",
        "- `beats_path`: path to the downloaded BEATs model above\n",
        "- `ckpt`: path to the SALMONN model checkpoint (the `*.pth` file, and not the outter directory)\n",
        "\n",
        "To lower the computational cost, we can also set:\n",
        "- `low_resource: True`\n",
        "- `lora_alpha: 28`\n",
        "\n",
        "After that, we can run the inference script:"
      ]
    },
    {
      "cell_type": "code",
      "execution_count": null,
      "id": "6f1f8052-1c25-40e4-a51f-8b25209eafbb",
      "metadata": {
        "id": "6f1f8052-1c25-40e4-a51f-8b25209eafbb",
        "outputId": "f01ebff3-39a4-4e8b-fe9e-c1098035528b"
      },
      "outputs": [
        {
          "name": "stdout",
          "output_type": "stream",
          "text": [
            "Loading checkpoint shards: 100%|██████████████████| 2/2 [00:12<00:00,  6.47s/it]\n",
            "trainable params: 4194304 || all params: 6742618112 || trainable%: 0.06220586618327525\n",
            "/home/sparta/anaconda3/envs/salmon2/lib/python3.9/site-packages/torch/nn/utils/weight_norm.py:28: UserWarning: torch.nn.utils.weight_norm is deprecated in favor of torch.nn.utils.parametrizations.weight_norm.\n",
            "  warnings.warn(\"torch.nn.utils.weight_norm is deprecated in favor of torch.nn.utils.parametrizations.weight_norm.\")\n",
            "Loading training prompts done!\n",
            "=====================================\n",
            "Your Wav Path:\n",
            "data/covost2-test-en-de_proccessed/SRCAUDIO.en/audio_30.wav\n",
            "Your Prompt:\n",
            "Listen to the speech and translate it into German.\n",
            "Output:\n",
            "<s> Was haben Sie mir empfohlen, Herr?</s>\n"
          ]
        }
      ],
      "source": [
        "!python3 cli_inference.py --cfg-path configs/decode_config.yaml"
      ]
    },
    {
      "cell_type": "markdown",
      "id": "40f09036-2a63-4c0f-a2e1-acda690ed656",
      "metadata": {
        "id": "40f09036-2a63-4c0f-a2e1-acda690ed656"
      },
      "source": [
        "Let's have a look at the sample we just provided to the model:"
      ]
    },
    {
      "cell_type": "code",
      "execution_count": null,
      "id": "6514b51e-eee1-472a-a275-37da23ab8bad",
      "metadata": {
        "id": "6514b51e-eee1-472a-a275-37da23ab8bad",
        "outputId": "a07703eb-3c24-44ff-95fa-80856158e694"
      },
      "outputs": [
        {
          "data": {
            "text/plain": [
              "{'path': 'data/covost2-test-en-de_proccessed/SRCAUDIO.en/audio_30.wav',\n",
              " 'text': 'Was raten Sie mir, mein Herr?',\n",
              " 'task': 'translation_en2de'}"
            ]
          },
          "execution_count": 9,
          "metadata": {},
          "output_type": "execute_result"
        }
      ],
      "source": [
        "with open(\"data/dev_data.json\", 'r') as f:\n",
        "    dev_data = json.load(f)\n",
        "dev_data['annotation'][0]"
      ]
    },
    {
      "cell_type": "code",
      "execution_count": null,
      "id": "9ac755bf-3951-4f91-b57c-af08520a38f9",
      "metadata": {
        "id": "9ac755bf-3951-4f91-b57c-af08520a38f9",
        "outputId": "465e8262-0a54-4fa0-b83d-faf565fc0392"
      },
      "outputs": [
        {
          "data": {
            "text/html": [
              "\n",
              "                <audio  controls=\"controls\" >\n",
              "                    <source src=\"data:audio/x-wav;base64,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\" type=\"audio/x-wav\" />\n",
              "                    Your browser does not support the audio element.\n",
              "                </audio>\n",
              "              "
            ],
            "text/plain": [
              "<IPython.lib.display.Audio object>"
            ]
          },
          "execution_count": 10,
          "metadata": {},
          "output_type": "execute_result"
        }
      ],
      "source": [
        "import IPython\n",
        "IPython.display.Audio(\"data/covost2-test-en-de_proccessed/SRCAUDIO.en/audio_30.wav\")"
      ]
    },
    {
      "cell_type": "markdown",
      "id": "77cf3da3-f538-4be0-9abe-cbf51ba29177",
      "metadata": {
        "id": "77cf3da3-f538-4be0-9abe-cbf51ba29177"
      },
      "source": [
        "As can be seen, the model can already do English-German translation on this one sample."
      ]
    },
    {
      "cell_type": "markdown",
      "id": "b9aa407c-a70d-4845-a07f-77d8347ef03e",
      "metadata": {
        "id": "b9aa407c-a70d-4845-a07f-77d8347ef03e"
      },
      "source": [
        "## Section 4. Fine-tuning\n",
        "\n",
        "Fine-tuning can potentially help improving the performance of SALMONN on translation task, e.g., when the translation domain is rare. In this section, we will try to fine-tune SALMONN on the tiny subset of CoVoST.\n",
        "\n",
        "To fine-tune SALMONN, we should make use of the `train.py` script, and change the config file at `configs/config.yaml` according to our usecase.\n",
        "\n",
        "### Changes in `configs/config.yaml`\n",
        "- `llama_path`, `whisper_path`, `beats_path`, `ckpt`: similar to Section 3\n",
        "- `train_ann_path`, `valid_ann_path`, `test_ann_path`: points to the path of the formatted data in Section 2\n",
        "- `output_dir`: path to output directory\n",
        "\n",
        "To lower the computational cost, we can also set:\n",
        "- `low_resource: True`\n",
        "- `lora_alpha: 28`\n",
        "\n",
        "You can have a closer look into the config files to change the hyperparameters according to your needs.\n",
        "\n",
        "\n",
        "### Add prompts to our task\n",
        "\n",
        "We should add the prompts for training to the files in `prompts/`, under the same key as the task name in our training data. For example:\n",
        "```\n",
        "\"translation_en2de\": [\n",
        "    \"<Speech><SpeechHere></Speech> Can you translate the speech into German?\",\n",
        "    \"<Speech><SpeechHere></Speech> Listen to the speech and translate it into German.\",\n",
        "    \"<Speech><SpeechHere></Speech> Bitte übersetzen Sie den Inhalt dieser Aufnahme ins Deutsche.\",\n",
        "],\n",
        "```\n",
        "\n",
        "### Run the inference script"
      ]
    },
    {
      "cell_type": "code",
      "execution_count": null,
      "id": "8d5980c9-820f-45be-96c3-4af55653a55b",
      "metadata": {
        "id": "8d5980c9-820f-45be-96c3-4af55653a55b",
        "outputId": "03dd233d-5de1-4b63-9996-845894c7f684"
      },
      "outputs": [
        {
          "name": "stdout",
          "output_type": "stream",
          "text": [
            "Not using distributed mode\n",
            "2024-11-26 21:43:44,835 [INFO] \n",
            "=====  Running Parameters    =====\n",
            "2024-11-26 21:43:44,836 [INFO] {\n",
            "    \"accum_grad_iters\": 1,\n",
            "    \"amp\": true,\n",
            "    \"batch_size_eval\": 4,\n",
            "    \"batch_size_train\": 4,\n",
            "    \"device\": \"cuda\",\n",
            "    \"dist_url\": \"env://\",\n",
            "    \"epoch_based\": false,\n",
            "    \"evaluate\": false,\n",
            "    \"iters_per_epoch\": 100,\n",
            "    \"log_freq\": 5,\n",
            "    \"num_workers\": 8,\n",
            "    \"optims\": {\n",
            "        \"beta2\": 0.999,\n",
            "        \"init_lr\": 3e-05,\n",
            "        \"max_epoch\": 30,\n",
            "        \"min_lr\": 1e-05,\n",
            "        \"warmup_start_lr\": 1e-06,\n",
            "        \"warmup_steps\": 3000,\n",
            "        \"weight_decay\": 0.05\n",
            "    },\n",
            "    \"output_dir\": \"out\",\n",
            "    \"seed\": 42,\n",
            "    \"use_distributed\": false,\n",
            "    \"world_size\": 1\n",
            "}\n",
            "2024-11-26 21:43:44,836 [INFO] \n",
            "======  Dataset Attributes  ======\n",
            "2024-11-26 21:43:44,836 [INFO] {\n",
            "    \"test_ann_path\": \"data/test_data.json\",\n",
            "    \"train_ann_path\": \"data/train_data.json\",\n",
            "    \"valid_ann_path\": \"data/dev_data.json\",\n",
            "    \"whisper_path\": \"openai/whisper-large-v2\"\n",
            "}\n",
            "2024-11-26 21:43:44,836 [INFO] \n",
            "======  Model Attributes  ======\n",
            "2024-11-26 21:43:44,837 [INFO] {\n",
            "    \"beats_path\": \"/project/OML/tdinh/models/BEATs_iter3_plus_AS2M_finetuned_on_AS2M_cpt2.pt\",\n",
            "    \"ckpt\": \"/project/OML/tdinh/.cache/huggingface/hub/models--tsinghua-ee--SALMONN-7B/snapshots/ed583f2c565c1110b3bf5772ed42d6744f3cc443/salmonn_7b_v0.pth\",\n",
            "    \"end_sym\": \"</s>\",\n",
            "    \"freeze_beats\": true,\n",
            "    \"freeze_speech_QFormer\": false,\n",
            "    \"freeze_speech_llama_proj\": false,\n",
            "    \"freeze_whisper\": true,\n",
            "    \"llama_path\": \"lmsys/vicuna-7b-v1.5\",\n",
            "    \"lora\": true,\n",
            "    \"lora_alpha\": 28,\n",
            "    \"lora_dropout\": 0.1,\n",
            "    \"lora_rank\": 8,\n",
            "    \"low_resource\": true,\n",
            "    \"max_txt_len\": 300,\n",
            "    \"multi_prompt\": true,\n",
            "    \"num_speech_query_token\": 1,\n",
            "    \"prompt_path\": \"prompts/train_prompt.json\",\n",
            "    \"prompt_template\": \"USER: {}\\nASSISTANT:\",\n",
            "    \"second_per_window\": 0.333333,\n",
            "    \"second_stride\": 0.333333,\n",
            "    \"speech_llama_proj_model\": \"\",\n",
            "    \"test_prompt_path\": \"prompts/test_prompt.json\",\n",
            "    \"use_speech_Qformer\": true,\n",
            "    \"whisper_path\": \"openai/whisper-large-v2\",\n",
            "    \"window_level_Qformer\": true\n",
            "}\n",
            "2024-11-26 21:43:44,837 [INFO] Loading LLaMA Tokenizer\n",
            "2024-11-26 21:43:45,077 [INFO] Loading LLaMA Model\n",
            "Loading checkpoint shards: 100%|██████████████████| 2/2 [00:12<00:00,  6.40s/it]\n",
            "2024-11-26 21:44:01,886 [INFO] Loading LLaMA Done\n",
            "trainable params: 4194304 || all params: 6742618112 || trainable%: 0.06220586618327525\n",
            "2024-11-26 21:44:09,563 [INFO] LoRA Training\n",
            "2024-11-26 21:44:09,563 [INFO] Loading Whisper Model\n",
            "2024-11-26 21:44:21,483 [INFO] freeze Whisper\n",
            "2024-11-26 21:44:21,483 [INFO] Loading BEATs Model\n",
            "2024-11-26 21:44:21,627 [INFO] BEATs Config: {'input_patch_size': 16, 'embed_dim': 512, 'conv_bias': False, 'encoder_layers': 12, 'encoder_embed_dim': 768, 'encoder_ffn_embed_dim': 3072, 'encoder_attention_heads': 12, 'activation_fn': 'gelu', 'layer_wise_gradient_decay_ratio': 0.6, 'layer_norm_first': False, 'deep_norm': True, 'dropout': 0.0, 'attention_dropout': 0.0, 'activation_dropout': 0.0, 'encoder_layerdrop': 0.05, 'dropout_input': 0.0, 'conv_pos': 128, 'conv_pos_groups': 16, 'relative_position_embedding': True, 'num_buckets': 320, 'max_distance': 800, 'gru_rel_pos': True, 'finetuned_model': True, 'predictor_dropout': 0.0, 'predictor_class': 527}\n",
            "/home/sparta/anaconda3/envs/salmon2/lib/python3.9/site-packages/torch/nn/utils/weight_norm.py:28: UserWarning: torch.nn.utils.weight_norm is deprecated in favor of torch.nn.utils.parametrizations.weight_norm.\n",
            "  warnings.warn(\"torch.nn.utils.weight_norm is deprecated in favor of torch.nn.utils.parametrizations.weight_norm.\")\n",
            "2024-11-26 21:44:23,679 [INFO] freeze BEATs\n",
            "2024-11-26 21:44:24,844 [INFO] Loading speech LLAMA proj\n",
            "Loading training prompts done!\n",
            "2024-11-26 21:44:24,864 [INFO] Load SALMONN ckpt from: /project/OML/tdinh/.cache/huggingface/hub/models--tsinghua-ee--SALMONN-7B/snapshots/ed583f2c565c1110b3bf5772ed42d6744f3cc443/salmonn_7b_v0.pth\n",
            "speech_query_tokens\n",
            "llama_model.base_model.model.model.layers.0.self_attn.q_proj.lora_A.default.weight\n",
            "llama_model.base_model.model.model.layers.0.self_attn.q_proj.lora_B.default.weight\n",
            "llama_model.base_model.model.model.layers.0.self_attn.v_proj.lora_A.default.weight\n",
            "llama_model.base_model.model.model.layers.0.self_attn.v_proj.lora_B.default.weight\n",
            "llama_model.base_model.model.model.layers.1.self_attn.q_proj.lora_A.default.weight\n",
            "llama_model.base_model.model.model.layers.1.self_attn.q_proj.lora_B.default.weight\n",
            "llama_model.base_model.model.model.layers.1.self_attn.v_proj.lora_A.default.weight\n",
            "llama_model.base_model.model.model.layers.1.self_attn.v_proj.lora_B.default.weight\n",
            "llama_model.base_model.model.model.layers.2.self_attn.q_proj.lora_A.default.weight\n",
            "llama_model.base_model.model.model.layers.2.self_attn.q_proj.lora_B.default.weight\n",
            "llama_model.base_model.model.model.layers.2.self_attn.v_proj.lora_A.default.weight\n",
            "llama_model.base_model.model.model.layers.2.self_attn.v_proj.lora_B.default.weight\n",
            "llama_model.base_model.model.model.layers.3.self_attn.q_proj.lora_A.default.weight\n",
            "llama_model.base_model.model.model.layers.3.self_attn.q_proj.lora_B.default.weight\n",
            "llama_model.base_model.model.model.layers.3.self_attn.v_proj.lora_A.default.weight\n",
            "llama_model.base_model.model.model.layers.3.self_attn.v_proj.lora_B.default.weight\n",
            "llama_model.base_model.model.model.layers.4.self_attn.q_proj.lora_A.default.weight\n",
            "llama_model.base_model.model.model.layers.4.self_attn.q_proj.lora_B.default.weight\n",
            "llama_model.base_model.model.model.layers.4.self_attn.v_proj.lora_A.default.weight\n",
            "llama_model.base_model.model.model.layers.4.self_attn.v_proj.lora_B.default.weight\n",
            "llama_model.base_model.model.model.layers.5.self_attn.q_proj.lora_A.default.weight\n",
            "llama_model.base_model.model.model.layers.5.self_attn.q_proj.lora_B.default.weight\n",
            "llama_model.base_model.model.model.layers.5.self_attn.v_proj.lora_A.default.weight\n",
            "llama_model.base_model.model.model.layers.5.self_attn.v_proj.lora_B.default.weight\n",
            "llama_model.base_model.model.model.layers.6.self_attn.q_proj.lora_A.default.weight\n",
            "llama_model.base_model.model.model.layers.6.self_attn.q_proj.lora_B.default.weight\n",
            "llama_model.base_model.model.model.layers.6.self_attn.v_proj.lora_A.default.weight\n",
            "llama_model.base_model.model.model.layers.6.self_attn.v_proj.lora_B.default.weight\n",
            "llama_model.base_model.model.model.layers.7.self_attn.q_proj.lora_A.default.weight\n",
            "llama_model.base_model.model.model.layers.7.self_attn.q_proj.lora_B.default.weight\n",
            "llama_model.base_model.model.model.layers.7.self_attn.v_proj.lora_A.default.weight\n",
            "llama_model.base_model.model.model.layers.7.self_attn.v_proj.lora_B.default.weight\n",
            "llama_model.base_model.model.model.layers.8.self_attn.q_proj.lora_A.default.weight\n",
            "llama_model.base_model.model.model.layers.8.self_attn.q_proj.lora_B.default.weight\n",
            "llama_model.base_model.model.model.layers.8.self_attn.v_proj.lora_A.default.weight\n",
            "llama_model.base_model.model.model.layers.8.self_attn.v_proj.lora_B.default.weight\n",
            "llama_model.base_model.model.model.layers.9.self_attn.q_proj.lora_A.default.weight\n",
            "llama_model.base_model.model.model.layers.9.self_attn.q_proj.lora_B.default.weight\n",
            "llama_model.base_model.model.model.layers.9.self_attn.v_proj.lora_A.default.weight\n",
            "llama_model.base_model.model.model.layers.9.self_attn.v_proj.lora_B.default.weight\n",
            "llama_model.base_model.model.model.layers.10.self_attn.q_proj.lora_A.default.weight\n",
            "llama_model.base_model.model.model.layers.10.self_attn.q_proj.lora_B.default.weight\n",
            "llama_model.base_model.model.model.layers.10.self_attn.v_proj.lora_A.default.weight\n",
            "llama_model.base_model.model.model.layers.10.self_attn.v_proj.lora_B.default.weight\n",
            "llama_model.base_model.model.model.layers.11.self_attn.q_proj.lora_A.default.weight\n",
            "llama_model.base_model.model.model.layers.11.self_attn.q_proj.lora_B.default.weight\n",
            "llama_model.base_model.model.model.layers.11.self_attn.v_proj.lora_A.default.weight\n",
            "llama_model.base_model.model.model.layers.11.self_attn.v_proj.lora_B.default.weight\n",
            "llama_model.base_model.model.model.layers.12.self_attn.q_proj.lora_A.default.weight\n",
            "llama_model.base_model.model.model.layers.12.self_attn.q_proj.lora_B.default.weight\n",
            "llama_model.base_model.model.model.layers.12.self_attn.v_proj.lora_A.default.weight\n",
            "llama_model.base_model.model.model.layers.12.self_attn.v_proj.lora_B.default.weight\n",
            "llama_model.base_model.model.model.layers.13.self_attn.q_proj.lora_A.default.weight\n",
            "llama_model.base_model.model.model.layers.13.self_attn.q_proj.lora_B.default.weight\n",
            "llama_model.base_model.model.model.layers.13.self_attn.v_proj.lora_A.default.weight\n",
            "llama_model.base_model.model.model.layers.13.self_attn.v_proj.lora_B.default.weight\n",
            "llama_model.base_model.model.model.layers.14.self_attn.q_proj.lora_A.default.weight\n",
            "llama_model.base_model.model.model.layers.14.self_attn.q_proj.lora_B.default.weight\n",
            "llama_model.base_model.model.model.layers.14.self_attn.v_proj.lora_A.default.weight\n",
            "llama_model.base_model.model.model.layers.14.self_attn.v_proj.lora_B.default.weight\n",
            "llama_model.base_model.model.model.layers.15.self_attn.q_proj.lora_A.default.weight\n",
            "llama_model.base_model.model.model.layers.15.self_attn.q_proj.lora_B.default.weight\n",
            "llama_model.base_model.model.model.layers.15.self_attn.v_proj.lora_A.default.weight\n",
            "llama_model.base_model.model.model.layers.15.self_attn.v_proj.lora_B.default.weight\n",
            "llama_model.base_model.model.model.layers.16.self_attn.q_proj.lora_A.default.weight\n",
            "llama_model.base_model.model.model.layers.16.self_attn.q_proj.lora_B.default.weight\n",
            "llama_model.base_model.model.model.layers.16.self_attn.v_proj.lora_A.default.weight\n",
            "llama_model.base_model.model.model.layers.16.self_attn.v_proj.lora_B.default.weight\n",
            "llama_model.base_model.model.model.layers.17.self_attn.q_proj.lora_A.default.weight\n",
            "llama_model.base_model.model.model.layers.17.self_attn.q_proj.lora_B.default.weight\n",
            "llama_model.base_model.model.model.layers.17.self_attn.v_proj.lora_A.default.weight\n",
            "llama_model.base_model.model.model.layers.17.self_attn.v_proj.lora_B.default.weight\n",
            "llama_model.base_model.model.model.layers.18.self_attn.q_proj.lora_A.default.weight\n",
            "llama_model.base_model.model.model.layers.18.self_attn.q_proj.lora_B.default.weight\n",
            "llama_model.base_model.model.model.layers.18.self_attn.v_proj.lora_A.default.weight\n",
            "llama_model.base_model.model.model.layers.18.self_attn.v_proj.lora_B.default.weight\n",
            "llama_model.base_model.model.model.layers.19.self_attn.q_proj.lora_A.default.weight\n",
            "llama_model.base_model.model.model.layers.19.self_attn.q_proj.lora_B.default.weight\n",
            "llama_model.base_model.model.model.layers.19.self_attn.v_proj.lora_A.default.weight\n",
            "llama_model.base_model.model.model.layers.19.self_attn.v_proj.lora_B.default.weight\n",
            "llama_model.base_model.model.model.layers.20.self_attn.q_proj.lora_A.default.weight\n",
            "llama_model.base_model.model.model.layers.20.self_attn.q_proj.lora_B.default.weight\n",
            "llama_model.base_model.model.model.layers.20.self_attn.v_proj.lora_A.default.weight\n",
            "llama_model.base_model.model.model.layers.20.self_attn.v_proj.lora_B.default.weight\n",
            "llama_model.base_model.model.model.layers.21.self_attn.q_proj.lora_A.default.weight\n",
            "llama_model.base_model.model.model.layers.21.self_attn.q_proj.lora_B.default.weight\n",
            "llama_model.base_model.model.model.layers.21.self_attn.v_proj.lora_A.default.weight\n",
            "llama_model.base_model.model.model.layers.21.self_attn.v_proj.lora_B.default.weight\n",
            "llama_model.base_model.model.model.layers.22.self_attn.q_proj.lora_A.default.weight\n",
            "llama_model.base_model.model.model.layers.22.self_attn.q_proj.lora_B.default.weight\n",
            "llama_model.base_model.model.model.layers.22.self_attn.v_proj.lora_A.default.weight\n",
            "llama_model.base_model.model.model.layers.22.self_attn.v_proj.lora_B.default.weight\n",
            "llama_model.base_model.model.model.layers.23.self_attn.q_proj.lora_A.default.weight\n",
            "llama_model.base_model.model.model.layers.23.self_attn.q_proj.lora_B.default.weight\n",
            "llama_model.base_model.model.model.layers.23.self_attn.v_proj.lora_A.default.weight\n",
            "llama_model.base_model.model.model.layers.23.self_attn.v_proj.lora_B.default.weight\n",
            "llama_model.base_model.model.model.layers.24.self_attn.q_proj.lora_A.default.weight\n",
            "llama_model.base_model.model.model.layers.24.self_attn.q_proj.lora_B.default.weight\n",
            "llama_model.base_model.model.model.layers.24.self_attn.v_proj.lora_A.default.weight\n",
            "llama_model.base_model.model.model.layers.24.self_attn.v_proj.lora_B.default.weight\n",
            "llama_model.base_model.model.model.layers.25.self_attn.q_proj.lora_A.default.weight\n",
            "llama_model.base_model.model.model.layers.25.self_attn.q_proj.lora_B.default.weight\n",
            "llama_model.base_model.model.model.layers.25.self_attn.v_proj.lora_A.default.weight\n",
            "llama_model.base_model.model.model.layers.25.self_attn.v_proj.lora_B.default.weight\n",
            "llama_model.base_model.model.model.layers.26.self_attn.q_proj.lora_A.default.weight\n",
            "llama_model.base_model.model.model.layers.26.self_attn.q_proj.lora_B.default.weight\n",
            "llama_model.base_model.model.model.layers.26.self_attn.v_proj.lora_A.default.weight\n",
            "llama_model.base_model.model.model.layers.26.self_attn.v_proj.lora_B.default.weight\n",
            "llama_model.base_model.model.model.layers.27.self_attn.q_proj.lora_A.default.weight\n",
            "llama_model.base_model.model.model.layers.27.self_attn.q_proj.lora_B.default.weight\n",
            "llama_model.base_model.model.model.layers.27.self_attn.v_proj.lora_A.default.weight\n",
            "llama_model.base_model.model.model.layers.27.self_attn.v_proj.lora_B.default.weight\n",
            "llama_model.base_model.model.model.layers.28.self_attn.q_proj.lora_A.default.weight\n",
            "llama_model.base_model.model.model.layers.28.self_attn.q_proj.lora_B.default.weight\n",
            "llama_model.base_model.model.model.layers.28.self_attn.v_proj.lora_A.default.weight\n",
            "llama_model.base_model.model.model.layers.28.self_attn.v_proj.lora_B.default.weight\n",
            "llama_model.base_model.model.model.layers.29.self_attn.q_proj.lora_A.default.weight\n",
            "llama_model.base_model.model.model.layers.29.self_attn.q_proj.lora_B.default.weight\n",
            "llama_model.base_model.model.model.layers.29.self_attn.v_proj.lora_A.default.weight\n",
            "llama_model.base_model.model.model.layers.29.self_attn.v_proj.lora_B.default.weight\n",
            "llama_model.base_model.model.model.layers.30.self_attn.q_proj.lora_A.default.weight\n",
            "llama_model.base_model.model.model.layers.30.self_attn.q_proj.lora_B.default.weight\n",
            "llama_model.base_model.model.model.layers.30.self_attn.v_proj.lora_A.default.weight\n",
            "llama_model.base_model.model.model.layers.30.self_attn.v_proj.lora_B.default.weight\n",
            "llama_model.base_model.model.model.layers.31.self_attn.q_proj.lora_A.default.weight\n",
            "llama_model.base_model.model.model.layers.31.self_attn.q_proj.lora_B.default.weight\n",
            "llama_model.base_model.model.model.layers.31.self_attn.v_proj.lora_A.default.weight\n",
            "llama_model.base_model.model.model.layers.31.self_attn.v_proj.lora_B.default.weight\n",
            "ln_speech.weight\n",
            "ln_speech.bias\n",
            "ln_audio.weight\n",
            "ln_audio.bias\n",
            "speech_Qformer.bert.embeddings.LayerNorm.weight\n",
            "speech_Qformer.bert.embeddings.LayerNorm.bias\n",
            "speech_Qformer.bert.encoder.layer.0.attention.self.query.weight\n",
            "speech_Qformer.bert.encoder.layer.0.attention.self.query.bias\n",
            "speech_Qformer.bert.encoder.layer.0.attention.self.key.weight\n",
            "speech_Qformer.bert.encoder.layer.0.attention.self.key.bias\n",
            "speech_Qformer.bert.encoder.layer.0.attention.self.value.weight\n",
            "speech_Qformer.bert.encoder.layer.0.attention.self.value.bias\n",
            "speech_Qformer.bert.encoder.layer.0.attention.output.dense.weight\n",
            "speech_Qformer.bert.encoder.layer.0.attention.output.dense.bias\n",
            "speech_Qformer.bert.encoder.layer.0.attention.output.LayerNorm.weight\n",
            "speech_Qformer.bert.encoder.layer.0.attention.output.LayerNorm.bias\n",
            "speech_Qformer.bert.encoder.layer.0.crossattention.self.query.weight\n",
            "speech_Qformer.bert.encoder.layer.0.crossattention.self.query.bias\n",
            "speech_Qformer.bert.encoder.layer.0.crossattention.self.key.weight\n",
            "speech_Qformer.bert.encoder.layer.0.crossattention.self.key.bias\n",
            "speech_Qformer.bert.encoder.layer.0.crossattention.self.value.weight\n",
            "speech_Qformer.bert.encoder.layer.0.crossattention.self.value.bias\n",
            "speech_Qformer.bert.encoder.layer.0.crossattention.output.dense.weight\n",
            "speech_Qformer.bert.encoder.layer.0.crossattention.output.dense.bias\n",
            "speech_Qformer.bert.encoder.layer.0.crossattention.output.LayerNorm.weight\n",
            "speech_Qformer.bert.encoder.layer.0.crossattention.output.LayerNorm.bias\n",
            "speech_Qformer.bert.encoder.layer.0.intermediate_query.dense.weight\n",
            "speech_Qformer.bert.encoder.layer.0.intermediate_query.dense.bias\n",
            "speech_Qformer.bert.encoder.layer.0.output_query.dense.weight\n",
            "speech_Qformer.bert.encoder.layer.0.output_query.dense.bias\n",
            "speech_Qformer.bert.encoder.layer.0.output_query.LayerNorm.weight\n",
            "speech_Qformer.bert.encoder.layer.0.output_query.LayerNorm.bias\n",
            "speech_Qformer.bert.encoder.layer.1.attention.self.query.weight\n",
            "speech_Qformer.bert.encoder.layer.1.attention.self.query.bias\n",
            "speech_Qformer.bert.encoder.layer.1.attention.self.key.weight\n",
            "speech_Qformer.bert.encoder.layer.1.attention.self.key.bias\n",
            "speech_Qformer.bert.encoder.layer.1.attention.self.value.weight\n",
            "speech_Qformer.bert.encoder.layer.1.attention.self.value.bias\n",
            "speech_Qformer.bert.encoder.layer.1.attention.output.dense.weight\n",
            "speech_Qformer.bert.encoder.layer.1.attention.output.dense.bias\n",
            "speech_Qformer.bert.encoder.layer.1.attention.output.LayerNorm.weight\n",
            "speech_Qformer.bert.encoder.layer.1.attention.output.LayerNorm.bias\n",
            "speech_Qformer.bert.encoder.layer.1.crossattention.self.query.weight\n",
            "speech_Qformer.bert.encoder.layer.1.crossattention.self.query.bias\n",
            "speech_Qformer.bert.encoder.layer.1.crossattention.self.key.weight\n",
            "speech_Qformer.bert.encoder.layer.1.crossattention.self.key.bias\n",
            "speech_Qformer.bert.encoder.layer.1.crossattention.self.value.weight\n",
            "speech_Qformer.bert.encoder.layer.1.crossattention.self.value.bias\n",
            "speech_Qformer.bert.encoder.layer.1.crossattention.output.dense.weight\n",
            "speech_Qformer.bert.encoder.layer.1.crossattention.output.dense.bias\n",
            "speech_Qformer.bert.encoder.layer.1.crossattention.output.LayerNorm.weight\n",
            "speech_Qformer.bert.encoder.layer.1.crossattention.output.LayerNorm.bias\n",
            "speech_Qformer.bert.encoder.layer.1.intermediate_query.dense.weight\n",
            "speech_Qformer.bert.encoder.layer.1.intermediate_query.dense.bias\n",
            "speech_Qformer.bert.encoder.layer.1.output_query.dense.weight\n",
            "speech_Qformer.bert.encoder.layer.1.output_query.dense.bias\n",
            "speech_Qformer.bert.encoder.layer.1.output_query.LayerNorm.weight\n",
            "speech_Qformer.bert.encoder.layer.1.output_query.LayerNorm.bias\n",
            "speech_llama_proj.weight\n",
            "speech_llama_proj.bias\n",
            "2024-11-26 21:44:27,538 [INFO] number of trainable parameters: 30186240\n",
            "2024-11-26 21:44:28,235 [INFO] Training Phase\n",
            "2024-11-26 21:44:28,241 [INFO] Start training epoch 0, 100 iters per inner epoch.\n",
            "Train: data epoch: [0]  [  0/100]  eta: 0:05:09  lr: 0.000001  loss: 1.4993  time: 3.0999  data: 0.0000  max mem: 16116\n",
            "Train: data epoch: [0]  [  5/100]  eta: 0:02:21  lr: 0.000001  loss: 1.0296  time: 1.4845  data: 0.0000  max mem: 17855\n",
            "Train: data epoch: [0]  [ 10/100]  eta: 0:02:27  lr: 0.000001  loss: 1.7688  time: 1.6354  data: 0.0000  max mem: 17943\n",
            "Train: data epoch: [0]  [ 15/100]  eta: 0:02:23  lr: 0.000001  loss: 1.7119  time: 1.6880  data: 0.0000  max mem: 17943\n",
            "Train: data epoch: [0]  [ 20/100]  eta: 0:02:04  lr: 0.000001  loss: 1.1791  time: 1.4854  data: 0.0000  max mem: 17943\n",
            "Train: data epoch: [0]  [ 25/100]  eta: 0:02:00  lr: 0.000001  loss: 1.2646  time: 1.6515  data: 0.0000  max mem: 17943\n",
            "Train: data epoch: [0]  [ 30/100]  eta: 0:01:55  lr: 0.000001  loss: 1.1357  time: 1.6497  data: 0.0000  max mem: 17943\n",
            "Train: data epoch: [0]  [ 35/100]  eta: 0:01:48  lr: 0.000001  loss: 1.1658  time: 1.6584  data: 0.0000  max mem: 17943\n",
            "Train: data epoch: [0]  [ 40/100]  eta: 0:01:36  lr: 0.000001  loss: 1.2198  time: 1.6678  data: 0.0000  max mem: 17943\n",
            "Train: data epoch: [0]  [ 45/100]  eta: 0:01:30  lr: 0.000001  loss: 1.4160  time: 1.6688  data: 0.0000  max mem: 17943\n",
            "Train: data epoch: [0]  [ 50/100]  eta: 0:01:22  lr: 0.000001  loss: 1.6924  time: 1.6808  data: 0.0000  max mem: 17943\n",
            "Train: data epoch: [0]  [ 55/100]  eta: 0:01:12  lr: 0.000002  loss: 1.4612  time: 1.5117  data: 0.0000  max mem: 17943\n",
            "Train: data epoch: [0]  [ 60/100]  eta: 0:01:05  lr: 0.000002  loss: 1.2435  time: 1.6647  data: 0.0000  max mem: 17943\n",
            "Train: data epoch: [0]  [ 65/100]  eta: 0:00:57  lr: 0.000002  loss: 1.1504  time: 1.6643  data: 0.0000  max mem: 17943\n",
            "Train: data epoch: [0]  [ 70/100]  eta: 0:00:49  lr: 0.000002  loss: 0.9776  time: 1.6569  data: 0.0000  max mem: 17943\n",
            "Train: data epoch: [0]  [ 75/100]  eta: 0:00:40  lr: 0.000002  loss: 1.0444  time: 1.6616  data: 0.0000  max mem: 17943\n",
            "Train: data epoch: [0]  [ 80/100]  eta: 0:00:32  lr: 0.000002  loss: 1.1295  time: 1.6677  data: 0.0000  max mem: 17943\n",
            "Train: data epoch: [0]  [ 85/100]  eta: 0:00:24  lr: 0.000002  loss: 1.0471  time: 1.6740  data: 0.0000  max mem: 17943\n",
            "Train: data epoch: [0]  [ 90/100]  eta: 0:00:16  lr: 0.000002  loss: 1.1201  time: 1.5086  data: 0.0000  max mem: 17943\n",
            "Train: data epoch: [0]  [ 95/100]  eta: 0:00:08  lr: 0.000002  loss: 1.1339  time: 1.6771  data: 0.0000  max mem: 17943\n",
            "Train: data epoch: [0]  [ 99/100]  eta: 0:00:01  lr: 0.000002  loss: 1.0829  time: 1.6751  data: 0.0000  max mem: 17943\n",
            "Train: data epoch: [0] Total time: 0:02:45 (1.6519 s / it)\n",
            "2024-11-26 21:47:13,434 [INFO] Averaged stats: lr: 0.0000  loss: 1.2917\n",
            "2024-11-26 21:47:13,444 [INFO] Validating Phase\n",
            "Eval: data epoch: [0]  [0/3]  eta: 0:00:05    time: 1.6784  data: 0.9248  max mem: 17943\n",
            "Eval: data epoch: [0]  [2/3]  eta: 0:00:00    time: 0.9794  data: 0.3083  max mem: 17943\n",
            "Eval: data epoch: [0] Total time: 0:00:03 (1.0349 s / it)\n",
            "2024-11-26 21:47:16,585 [INFO] Saving checkpoint at epoch 0 to out/202411262143/checkpoint_best.pth.\n",
            "2024-11-26 21:47:20,214 [INFO] Saving checkpoint at epoch 0 to out/202411262143/checkpoint_0.pth.\n",
            "2024-11-26 21:47:23,875 [INFO] Training Phase\n",
            "2024-11-26 21:47:23,887 [INFO] Start training epoch 1, 100 iters per inner epoch.\n",
            "Train: data epoch: [1]  [  0/100]  eta: 0:02:00  lr: 0.000001  loss: 1.2203  time: 1.2100  data: 0.0000  max mem: 17943\n",
            "Train: data epoch: [1]  [  5/100]  eta: 0:02:43  lr: 0.000001  loss: 1.1425  time: 1.7187  data: 0.0000  max mem: 17943\n",
            "Train: data epoch: [1]  [ 10/100]  eta: 0:02:12  lr: 0.000001  loss: 0.7637  time: 1.4686  data: 0.0000  max mem: 17943\n",
            "Train: data epoch: [1]  [ 15/100]  eta: 0:02:14  lr: 0.000001  loss: 1.4225  time: 1.5794  data: 0.0000  max mem: 17943\n",
            "Train: data epoch: [1]  [ 20/100]  eta: 0:02:11  lr: 0.000001  loss: 0.9452  time: 1.6613  data: 0.0000  max mem: 17943\n",
            "Train: data epoch: [1]  [ 25/100]  eta: 0:01:56  lr: 0.000001  loss: 0.9884  time: 1.4984  data: 0.0000  max mem: 17943\n",
            "Train: data epoch: [1]  [ 30/100]  eta: 0:01:51  lr: 0.000001  loss: 0.9578  time: 1.6713  data: 0.0000  max mem: 17943\n",
            "Train: data epoch: [1]  [ 35/100]  eta: 0:01:46  lr: 0.000001  loss: 0.5537  time: 1.6731  data: 0.0000  max mem: 17943\n",
            "Train: data epoch: [1]  [ 40/100]  eta: 0:01:39  lr: 0.000001  loss: 1.1773  time: 1.6745  data: 0.0000  max mem: 17943\n",
            "Train: data epoch: [1]  [ 45/100]  eta: 0:01:28  lr: 0.000001  loss: 1.2058  time: 1.6857  data: 0.0000  max mem: 17943\n",
            "Train: data epoch: [1]  [ 50/100]  eta: 0:01:21  lr: 0.000001  loss: 0.8557  time: 1.6808  data: 0.0000  max mem: 17943\n",
            "Train: data epoch: [1]  [ 55/100]  eta: 0:01:14  lr: 0.000002  loss: 1.0909  time: 1.6828  data: 0.0000  max mem: 17943\n",
            "Train: data epoch: [1]  [ 60/100]  eta: 0:01:04  lr: 0.000002  loss: 0.9813  time: 1.5142  data: 0.0000  max mem: 17943\n",
            "Train: data epoch: [1]  [ 65/100]  eta: 0:00:57  lr: 0.000002  loss: 1.0841  time: 1.6763  data: 0.0000  max mem: 17959\n",
            "Train: data epoch: [1]  [ 70/100]  eta: 0:00:49  lr: 0.000002  loss: 0.5331  time: 1.6817  data: 0.0000  max mem: 17959\n",
            "Train: data epoch: [1]  [ 75/100]  eta: 0:00:41  lr: 0.000002  loss: 0.5753  time: 1.6883  data: 0.0000  max mem: 17959\n",
            "Train: data epoch: [1]  [ 80/100]  eta: 0:00:32  lr: 0.000002  loss: 1.2807  time: 1.6958  data: 0.0000  max mem: 17959\n",
            "Train: data epoch: [1]  [ 85/100]  eta: 0:00:24  lr: 0.000002  loss: 0.7952  time: 1.6914  data: 0.0000  max mem: 17959\n",
            "Train: data epoch: [1]  [ 90/100]  eta: 0:00:16  lr: 0.000002  loss: 1.3313  time: 1.6796  data: 0.0000  max mem: 17959\n",
            "Train: data epoch: [1]  [ 95/100]  eta: 0:00:08  lr: 0.000002  loss: 0.8917  time: 1.5087  data: 0.0000  max mem: 17959\n",
            "Train: data epoch: [1]  [ 99/100]  eta: 0:00:01  lr: 0.000002  loss: 0.7684  time: 1.6668  data: 0.0000  max mem: 17959\n",
            "Train: data epoch: [1] Total time: 0:02:44 (1.6433 s / it)\n",
            "2024-11-26 21:50:08,223 [INFO] Averaged stats: lr: 0.0000  loss: 0.9503\n",
            "2024-11-26 21:50:08,231 [INFO] Validating Phase\n",
            "Eval: data epoch: [1]  [0/3]  eta: 0:00:04    time: 1.6658  data: 0.9178  max mem: 17959\n",
            "Eval: data epoch: [1]  [2/3]  eta: 0:00:00    time: 0.9687  data: 0.3060  max mem: 17959\n",
            "Eval: data epoch: [1] Total time: 0:00:03 (1.0238 s / it)\n",
            "2024-11-26 21:50:11,338 [INFO] Saving checkpoint at epoch 1 to out/202411262143/checkpoint_1.pth.\n",
            "2024-11-26 21:50:14,959 [INFO] Training Phase\n",
            "2024-11-26 21:50:14,970 [INFO] Start training epoch 2, 100 iters per inner epoch.\n",
            "Train: data epoch: [2]  [  0/100]  eta: 0:01:58  lr: 0.000001  loss: 1.1159  time: 1.1868  data: 0.0000  max mem: 17959\n",
            "Train: data epoch: [2]  [  5/100]  eta: 0:02:43  lr: 0.000001  loss: 0.4373  time: 1.7229  data: 0.0000  max mem: 17959\n",
            "Train: data epoch: [2]  [ 10/100]  eta: 0:02:39  lr: 0.000001  loss: 0.9616  time: 1.7713  data: 0.0000  max mem: 17959\n",
            "Train: data epoch: [2]  [ 15/100]  eta: 0:02:14  lr: 0.000001  loss: 0.8429  time: 1.5809  data: 0.0000  max mem: 17959\n",
            "Train: data epoch: [2]  [ 20/100]  eta: 0:02:11  lr: 0.000001  loss: 0.6661  time: 1.6608  data: 0.0000  max mem: 17959\n",
            "Train: data epoch: [2]  [ 25/100]  eta: 0:02:05  lr: 0.000001  loss: 0.8250  time: 1.6600  data: 0.0000  max mem: 17959\n",
            "Train: data epoch: [2]  [ 30/100]  eta: 0:01:51  lr: 0.000001  loss: 0.4880  time: 1.5053  data: 0.0000  max mem: 17959\n",
            "Train: data epoch: [2]  [ 35/100]  eta: 0:01:46  lr: 0.000001  loss: 0.9915  time: 1.6756  data: 0.0000  max mem: 17959\n",
            "Train: data epoch: [2]  [ 40/100]  eta: 0:01:39  lr: 0.000001  loss: 1.2878  time: 1.6784  data: 0.0000  max mem: 17959\n",
            "Train: data epoch: [2]  [ 45/100]  eta: 0:01:32  lr: 0.000001  loss: 0.6329  time: 1.6807  data: 0.0000  max mem: 17959\n",
            "Train: data epoch: [2]  [ 50/100]  eta: 0:01:21  lr: 0.000001  loss: 0.1983  time: 1.6759  data: 0.0000  max mem: 17959\n",
            "Train: data epoch: [2]  [ 55/100]  eta: 0:01:14  lr: 0.000002  loss: 0.8654  time: 1.6681  data: 0.0000  max mem: 17959\n",
            "Train: data epoch: [2]  [ 60/100]  eta: 0:01:06  lr: 0.000002  loss: 0.8523  time: 1.6721  data: 0.0000  max mem: 17959\n",
            "Train: data epoch: [2]  [ 65/100]  eta: 0:00:56  lr: 0.000002  loss: 0.4301  time: 1.5075  data: 0.0000  max mem: 17959\n",
            "Train: data epoch: [2]  [ 70/100]  eta: 0:00:49  lr: 0.000002  loss: 0.5574  time: 1.6662  data: 0.0000  max mem: 17959\n",
            "Train: data epoch: [2]  [ 75/100]  eta: 0:00:41  lr: 0.000002  loss: 0.5769  time: 1.6710  data: 0.0000  max mem: 17959\n",
            "Train: data epoch: [2]  [ 80/100]  eta: 0:00:33  lr: 0.000002  loss: 0.7001  time: 1.6637  data: 0.0000  max mem: 17959\n",
            "Train: data epoch: [2]  [ 85/100]  eta: 0:00:24  lr: 0.000002  loss: 0.5523  time: 1.6627  data: 0.0000  max mem: 17959\n",
            "Train: data epoch: [2]  [ 90/100]  eta: 0:00:16  lr: 0.000002  loss: 0.7020  time: 1.6640  data: 0.0000  max mem: 17959\n",
            "Train: data epoch: [2]  [ 95/100]  eta: 0:00:08  lr: 0.000002  loss: 0.5300  time: 1.6624  data: 0.0000  max mem: 17959\n",
            "Train: data epoch: [2]  [ 99/100]  eta: 0:00:01  lr: 0.000002  loss: 0.5046  time: 1.6633  data: 0.0000  max mem: 17959\n",
            "Train: data epoch: [2] Total time: 0:02:43 (1.6353 s / it)\n",
            "2024-11-26 21:52:58,502 [INFO] Averaged stats: lr: 0.0000  loss: 0.7205\n",
            "2024-11-26 21:52:58,510 [INFO] Validating Phase\n",
            "Eval: data epoch: [2]  [0/3]  eta: 0:00:04    time: 1.6438  data: 0.9201  max mem: 17959\n",
            "Eval: data epoch: [2]  [2/3]  eta: 0:00:00    time: 0.9463  data: 0.3068  max mem: 17959\n",
            "Eval: data epoch: [2] Total time: 0:00:03 (1.0036 s / it)\n",
            "2024-11-26 21:53:01,553 [INFO] Saving checkpoint at epoch 2 to out/202411262143/checkpoint_2.pth.\n",
            "2024-11-26 21:53:05,166 [INFO] Training Phase\n",
            "2024-11-26 21:53:05,181 [INFO] Start training epoch 3, 100 iters per inner epoch.\n",
            "Train: data epoch: [3]  [  0/100]  eta: 0:01:58  lr: 0.000001  loss: 0.8085  time: 1.1891  data: 0.0000  max mem: 17959\n",
            "Train: data epoch: [3]  [  5/100]  eta: 0:02:45  lr: 0.000001  loss: 0.5849  time: 1.7387  data: 0.0000  max mem: 17959\n",
            "Train: data epoch: [3]  [ 10/100]  eta: 0:02:40  lr: 0.000001  loss: 0.6517  time: 1.7798  data: 0.0000  max mem: 17959\n",
            "Train: data epoch: [3]  [ 15/100]  eta: 0:02:33  lr: 0.000001  loss: 0.4690  time: 1.8045  data: 0.0000  max mem: 17959\n",
            "Train: data epoch: [3]  [ 20/100]  eta: 0:02:12  lr: 0.000001  loss: 0.6003  time: 1.6773  data: 0.0000  max mem: 17959\n",
            "Train: data epoch: [3]  [ 25/100]  eta: 0:02:06  lr: 0.000001  loss: 0.4576  time: 1.6772  data: 0.0000  max mem: 17959\n",
            "Train: data epoch: [3]  [ 30/100]  eta: 0:01:59  lr: 0.000001  loss: 0.6595  time: 1.6765  data: 0.0000  max mem: 17959\n",
            "Train: data epoch: [3]  [ 35/100]  eta: 0:01:46  lr: 0.000001  loss: 0.3257  time: 1.5064  data: 0.0000  max mem: 17959\n",
            "Train: data epoch: [3]  [ 40/100]  eta: 0:01:39  lr: 0.000001  loss: 0.7828  time: 1.6769  data: 0.0000  max mem: 17959\n",
            "Train: data epoch: [3]  [ 45/100]  eta: 0:01:32  lr: 0.000001  loss: 0.4540  time: 1.6813  data: 0.0000  max mem: 17959\n",
            "Train: data epoch: [3]  [ 50/100]  eta: 0:01:25  lr: 0.000001  loss: 0.6752  time: 1.6940  data: 0.0000  max mem: 17959\n",
            "Train: data epoch: [3]  [ 55/100]  eta: 0:01:14  lr: 0.000002  loss: 0.2714  time: 1.6956  data: 0.0000  max mem: 17959\n",
            "Train: data epoch: [3]  [ 60/100]  eta: 0:01:07  lr: 0.000002  loss: 0.7394  time: 1.6957  data: 0.0000  max mem: 17959\n",
            "Train: data epoch: [3]  [ 65/100]  eta: 0:00:59  lr: 0.000002  loss: 0.3932  time: 1.6857  data: 0.0000  max mem: 17959\n",
            "Train: data epoch: [3]  [ 70/100]  eta: 0:00:49  lr: 0.000002  loss: 0.6432  time: 1.5110  data: 0.0000  max mem: 17959\n",
            "Train: data epoch: [3]  [ 75/100]  eta: 0:00:41  lr: 0.000002  loss: 0.5195  time: 1.6734  data: 0.0000  max mem: 17959\n",
            "Train: data epoch: [3]  [ 80/100]  eta: 0:00:33  lr: 0.000002  loss: 0.4530  time: 1.6674  data: 0.0000  max mem: 17959\n",
            "Train: data epoch: [3]  [ 85/100]  eta: 0:00:25  lr: 0.000002  loss: 0.4426  time: 1.6804  data: 0.0000  max mem: 17959\n",
            "Train: data epoch: [3]  [ 90/100]  eta: 0:00:16  lr: 0.000002  loss: 0.5745  time: 1.6826  data: 0.0000  max mem: 17959\n",
            "Train: data epoch: [3]  [ 95/100]  eta: 0:00:08  lr: 0.000002  loss: 0.2601  time: 1.6887  data: 0.0000  max mem: 17959\n",
            "Train: data epoch: [3]  [ 99/100]  eta: 0:00:01  lr: 0.000002  loss: 0.5888  time: 1.6870  data: 0.0000  max mem: 17959\n",
            "Train: data epoch: [3] Total time: 0:02:48 (1.6815 s / it)\n",
            "2024-11-26 21:55:53,333 [INFO] Averaged stats: lr: 0.0000  loss: 0.5471\n",
            "2024-11-26 21:55:53,342 [INFO] Validating Phase\n",
            "Eval: data epoch: [3]  [0/3]  eta: 0:00:05    time: 1.7466  data: 0.9925  max mem: 17959\n",
            "Eval: data epoch: [3]  [2/3]  eta: 0:00:01    time: 1.0001  data: 0.3309  max mem: 17959\n",
            "Eval: data epoch: [3] Total time: 0:00:03 (1.0581 s / it)\n",
            "2024-11-26 21:55:56,556 [INFO] Saving checkpoint at epoch 3 to out/202411262143/checkpoint_3.pth.\n",
            "2024-11-26 21:56:00,186 [INFO] Training Phase\n",
            "2024-11-26 21:56:00,197 [INFO] Start training epoch 4, 100 iters per inner epoch.\n",
            "Train: data epoch: [4]  [  0/100]  eta: 0:02:01  lr: 0.000001  loss: 0.3682  time: 1.2190  data: 0.0000  max mem: 17959\n",
            "Train: data epoch: [4]  [  5/100]  eta: 0:01:52  lr: 0.000001  loss: 0.4355  time: 1.1850  data: 0.0000  max mem: 17959\n",
            "Train: data epoch: [4]  [ 10/100]  eta: 0:02:13  lr: 0.000001  loss: 0.2778  time: 1.4857  data: 0.0000  max mem: 17959\n",
            "Train: data epoch: [4]  [ 15/100]  eta: 0:02:15  lr: 0.000001  loss: 0.2798  time: 1.5919  data: 0.0000  max mem: 17959\n",
            "Train: data epoch: [4]  [ 20/100]  eta: 0:02:12  lr: 0.000001  loss: 0.4832  time: 1.6718  data: 0.0000  max mem: 17959\n",
            "Train: data epoch: [4]  [ 25/100]  eta: 0:01:57  lr: 0.000001  loss: 0.4728  time: 1.6733  data: 0.0000  max mem: 17959\n",
            "Train: data epoch: [4]  [ 30/100]  eta: 0:01:52  lr: 0.000001  loss: 0.2910  time: 1.6829  data: 0.0000  max mem: 17959\n",
            "Train: data epoch: [4]  [ 35/100]  eta: 0:01:47  lr: 0.000001  loss: 0.2874  time: 1.6918  data: 0.0000  max mem: 17959\n",
            "Train: data epoch: [4]  [ 40/100]  eta: 0:01:35  lr: 0.000001  loss: 0.3227  time: 1.5280  data: 0.0000  max mem: 17959\n",
            "Train: data epoch: [4]  [ 45/100]  eta: 0:01:28  lr: 0.000001  loss: 0.2778  time: 1.6813  data: 0.0000  max mem: 17959\n",
            "Train: data epoch: [4]  [ 50/100]  eta: 0:01:21  lr: 0.000001  loss: 0.3592  time: 1.6646  data: 0.0000  max mem: 17959\n",
            "Train: data epoch: [4]  [ 55/100]  eta: 0:01:14  lr: 0.000002  loss: 0.3473  time: 1.6589  data: 0.0000  max mem: 17959\n",
            "Train: data epoch: [4]  [ 60/100]  eta: 0:01:04  lr: 0.000002  loss: 0.2843  time: 1.6553  data: 0.0000  max mem: 17959\n",
            "Train: data epoch: [4]  [ 65/100]  eta: 0:00:56  lr: 0.000002  loss: 0.3761  time: 1.6572  data: 0.0000  max mem: 17959\n",
            "Train: data epoch: [4]  [ 70/100]  eta: 0:00:49  lr: 0.000002  loss: 0.3818  time: 1.6567  data: 0.0000  max mem: 17959\n",
            "Train: data epoch: [4]  [ 75/100]  eta: 0:00:40  lr: 0.000002  loss: 0.3424  time: 1.4926  data: 0.0000  max mem: 17959\n",
            "Train: data epoch: [4]  [ 80/100]  eta: 0:00:32  lr: 0.000002  loss: 0.4000  time: 1.6657  data: 0.0000  max mem: 17959\n",
            "Train: data epoch: [4]  [ 85/100]  eta: 0:00:24  lr: 0.000002  loss: 0.4432  time: 1.6817  data: 0.0000  max mem: 17959\n",
            "Train: data epoch: [4]  [ 90/100]  eta: 0:00:16  lr: 0.000002  loss: 0.1917  time: 1.6810  data: 0.0000  max mem: 17959\n",
            "Train: data epoch: [4]  [ 95/100]  eta: 0:00:08  lr: 0.000002  loss: 0.3179  time: 1.6746  data: 0.0000  max mem: 17959\n",
            "Train: data epoch: [4]  [ 99/100]  eta: 0:00:01  lr: 0.000002  loss: 0.1857  time: 1.6674  data: 0.0000  max mem: 17959\n",
            "Train: data epoch: [4] Total time: 0:02:43 (1.6384 s / it)\n",
            "2024-11-26 21:58:44,036 [INFO] Averaged stats: lr: 0.0000  loss: 0.3919\n",
            "2024-11-26 21:58:44,162 [INFO] Validating Phase\n",
            "Eval: data epoch: [4]  [0/3]  eta: 0:00:07    time: 2.4864  data: 1.7250  max mem: 17959\n",
            "Eval: data epoch: [4]  [2/3]  eta: 0:00:01    time: 1.2362  data: 0.5751  max mem: 17959\n",
            "Eval: data epoch: [4] Total time: 0:00:03 (1.2908 s / it)\n",
            "2024-11-26 21:58:48,210 [INFO] Saving checkpoint at epoch 4 to out/202411262143/checkpoint_4.pth.\n",
            "2024-11-26 21:58:52,287 [INFO] Training Phase\n",
            "2024-11-26 21:58:52,300 [INFO] Start training epoch 5, 100 iters per inner epoch.\n",
            "Train: data epoch: [5]  [  0/100]  eta: 0:01:58  lr: 0.000001  loss: 0.3067  time: 1.1808  data: 0.0000  max mem: 17959\n",
            "Train: data epoch: [5]  [  5/100]  eta: 0:02:42  lr: 0.000001  loss: 0.2605  time: 1.7062  data: 0.0000  max mem: 17959\n",
            "Train: data epoch: [5]  [ 10/100]  eta: 0:02:12  lr: 0.000001  loss: 0.1873  time: 1.4667  data: 0.0000  max mem: 17959\n",
            "Train: data epoch: [5]  [ 15/100]  eta: 0:02:15  lr: 0.000001  loss: 0.4063  time: 1.5971  data: 0.0000  max mem: 17959\n",
            "Train: data epoch: [5]  [ 20/100]  eta: 0:02:11  lr: 0.000001  loss: 0.4830  time: 1.6728  data: 0.0000  max mem: 17959\n",
            "Train: data epoch: [5]  [ 25/100]  eta: 0:02:06  lr: 0.000001  loss: 0.2948  time: 1.6743  data: 0.0000  max mem: 17959\n",
            "Train: data epoch: [5]  [ 30/100]  eta: 0:01:51  lr: 0.000001  loss: 0.4318  time: 1.6709  data: 0.0000  max mem: 17959\n",
            "Train: data epoch: [5]  [ 35/100]  eta: 0:01:46  lr: 0.000001  loss: 0.2047  time: 1.6591  data: 0.0000  max mem: 17959\n",
            "Train: data epoch: [5]  [ 40/100]  eta: 0:01:39  lr: 0.000001  loss: 0.2230  time: 1.6598  data: 0.0000  max mem: 17959\n",
            "Train: data epoch: [5]  [ 45/100]  eta: 0:01:28  lr: 0.000001  loss: 0.2870  time: 1.4995  data: 0.0000  max mem: 17959\n",
            "Train: data epoch: [5]  [ 50/100]  eta: 0:01:21  lr: 0.000001  loss: 0.1697  time: 1.6708  data: 0.0000  max mem: 17959\n",
            "Train: data epoch: [5]  [ 55/100]  eta: 0:01:14  lr: 0.000002  loss: 0.2313  time: 1.6813  data: 0.0000  max mem: 17959\n",
            "Train: data epoch: [5]  [ 60/100]  eta: 0:01:06  lr: 0.000002  loss: 0.0945  time: 1.6908  data: 0.0000  max mem: 17959\n",
            "Train: data epoch: [5]  [ 65/100]  eta: 0:00:57  lr: 0.000002  loss: 0.1611  time: 1.6912  data: 0.0000  max mem: 17959\n",
            "Train: data epoch: [5]  [ 70/100]  eta: 0:00:49  lr: 0.000002  loss: 0.1114  time: 1.6883  data: 0.0000  max mem: 17959\n",
            "Train: data epoch: [5]  [ 75/100]  eta: 0:00:41  lr: 0.000002  loss: 0.2327  time: 1.6782  data: 0.0000  max mem: 17959\n",
            "Train: data epoch: [5]  [ 80/100]  eta: 0:00:32  lr: 0.000002  loss: 0.2624  time: 1.5117  data: 0.0000  max mem: 17959\n",
            "Train: data epoch: [5]  [ 85/100]  eta: 0:00:24  lr: 0.000002  loss: 0.2063  time: 1.6807  data: 0.0000  max mem: 17959\n",
            "Train: data epoch: [5]  [ 90/100]  eta: 0:00:16  lr: 0.000002  loss: 0.3366  time: 1.6804  data: 0.0000  max mem: 17959\n",
            "Train: data epoch: [5]  [ 95/100]  eta: 0:00:08  lr: 0.000002  loss: 0.2450  time: 1.6866  data: 0.0000  max mem: 17959\n",
            "Train: data epoch: [5]  [ 99/100]  eta: 0:00:01  lr: 0.000002  loss: 0.2084  time: 1.6836  data: 0.0000  max mem: 17962\n",
            "Train: data epoch: [5] Total time: 0:02:44 (1.6441 s / it)\n",
            "2024-11-26 22:01:36,709 [INFO] Averaged stats: lr: 0.0000  loss: 0.2823\n",
            "2024-11-26 22:01:36,960 [INFO] Validating Phase\n",
            "Eval: data epoch: [5]  [0/3]  eta: 0:00:05    time: 1.8980  data: 1.1281  max mem: 17962\n",
            "Eval: data epoch: [5]  [2/3]  eta: 0:00:01    time: 1.0527  data: 0.3761  max mem: 17962\n",
            "Eval: data epoch: [5] Total time: 0:00:03 (1.1126 s / it)\n",
            "2024-11-26 22:01:40,501 [INFO] Saving checkpoint at epoch 5 to out/202411262143/checkpoint_5.pth.\n",
            "2024-11-26 22:01:44,357 [INFO] Training Phase\n",
            "2024-11-26 22:01:44,365 [INFO] Start training epoch 6, 100 iters per inner epoch.\n",
            "Train: data epoch: [6]  [  0/100]  eta: 0:01:58  lr: 0.000001  loss: 0.2867  time: 1.1820  data: 0.0000  max mem: 17962\n",
            "Train: data epoch: [6]  [  5/100]  eta: 0:02:45  lr: 0.000001  loss: 0.2529  time: 1.7421  data: 0.0000  max mem: 17962\n",
            "Train: data epoch: [6]  [ 10/100]  eta: 0:02:40  lr: 0.000001  loss: 0.1240  time: 1.7825  data: 0.0000  max mem: 17962\n",
            "Train: data epoch: [6]  [ 15/100]  eta: 0:02:15  lr: 0.000001  loss: 0.2422  time: 1.5940  data: 0.0000  max mem: 17962\n",
            "Train: data epoch: [6]  [ 20/100]  eta: 0:02:12  lr: 0.000001  loss: 0.1954  time: 1.6811  data: 0.0000  max mem: 17967\n",
            "Train: data epoch: [6]  [ 25/100]  eta: 0:02:06  lr: 0.000001  loss: 0.2296  time: 1.6768  data: 0.0000  max mem: 17967\n",
            "Train: data epoch: [6]  [ 30/100]  eta: 0:02:00  lr: 0.000001  loss: 0.1128  time: 1.6907  data: 0.0000  max mem: 17967\n",
            "Train: data epoch: [6]  [ 35/100]  eta: 0:01:47  lr: 0.000001  loss: 0.2275  time: 1.6907  data: 0.0000  max mem: 17967\n",
            "Train: data epoch: [6]  [ 40/100]  eta: 0:01:40  lr: 0.000001  loss: 0.1363  time: 1.6907  data: 0.0000  max mem: 17967\n",
            "Train: data epoch: [6]  [ 45/100]  eta: 0:01:33  lr: 0.000001  loss: 0.2473  time: 1.6927  data: 0.0000  max mem: 17967\n",
            "Train: data epoch: [6]  [ 50/100]  eta: 0:01:22  lr: 0.000001  loss: 0.3662  time: 1.5170  data: 0.0000  max mem: 17967\n",
            "Train: data epoch: [6]  [ 55/100]  eta: 0:01:14  lr: 0.000002  loss: 0.1530  time: 1.6815  data: 0.0000  max mem: 17967\n",
            "Train: data epoch: [6]  [ 60/100]  eta: 0:01:07  lr: 0.000002  loss: 0.2125  time: 1.6834  data: 0.0000  max mem: 17967\n",
            "Train: data epoch: [6]  [ 65/100]  eta: 0:00:59  lr: 0.000002  loss: 0.3428  time: 1.6821  data: 0.0000  max mem: 17967\n",
            "Train: data epoch: [6]  [ 70/100]  eta: 0:00:49  lr: 0.000002  loss: 0.1106  time: 1.6830  data: 0.0000  max mem: 17967\n",
            "Train: data epoch: [6]  [ 75/100]  eta: 0:00:41  lr: 0.000002  loss: 0.2786  time: 1.6879  data: 0.0000  max mem: 17967\n",
            "Train: data epoch: [6]  [ 80/100]  eta: 0:00:33  lr: 0.000002  loss: 0.1319  time: 1.6866  data: 0.0000  max mem: 17967\n",
            "Train: data epoch: [6]  [ 85/100]  eta: 0:00:24  lr: 0.000002  loss: 0.3261  time: 1.5233  data: 0.0000  max mem: 17967\n",
            "Train: data epoch: [6]  [ 90/100]  eta: 0:00:16  lr: 0.000002  loss: 0.1018  time: 1.6862  data: 0.0000  max mem: 17967\n",
            "Train: data epoch: [6]  [ 95/100]  eta: 0:00:08  lr: 0.000002  loss: 0.3110  time: 1.6790  data: 0.0000  max mem: 17967\n",
            "Train: data epoch: [6]  [ 99/100]  eta: 0:00:01  lr: 0.000002  loss: 0.1184  time: 1.5051  data: 0.0000  max mem: 17967\n",
            "Train: data epoch: [6] Total time: 0:02:44 (1.6499 s / it)\n",
            "2024-11-26 22:04:29,353 [INFO] Averaged stats: lr: 0.0000  loss: 0.1893\n",
            "2024-11-26 22:04:29,697 [INFO] Validating Phase\n",
            "Eval: data epoch: [6]  [0/3]  eta: 0:00:05    time: 1.8904  data: 1.1317  max mem: 17967\n",
            "Eval: data epoch: [6]  [2/3]  eta: 0:00:01    time: 1.0307  data: 0.3773  max mem: 17967\n",
            "Eval: data epoch: [6] Total time: 0:00:03 (1.0780 s / it)\n",
            "2024-11-26 22:04:33,099 [INFO] Saving checkpoint at epoch 6 to out/202411262143/checkpoint_6.pth.\n",
            "2024-11-26 22:04:37,171 [INFO] Training Phase\n",
            "2024-11-26 22:04:37,184 [INFO] Start training epoch 7, 100 iters per inner epoch.\n",
            "Train: data epoch: [7]  [  0/100]  eta: 0:07:25  lr: 0.000001  loss: 0.1573  time: 4.4565  data: 0.0000  max mem: 17967\n",
            "Train: data epoch: [7]  [  5/100]  eta: 0:02:45  lr: 0.000001  loss: 0.1987  time: 1.7376  data: 0.0000  max mem: 17967\n",
            "Train: data epoch: [7]  [ 10/100]  eta: 0:02:42  lr: 0.000001  loss: 0.1569  time: 1.8024  data: 0.0000  max mem: 17967\n",
            "Train: data epoch: [7]  [ 15/100]  eta: 0:02:34  lr: 0.000001  loss: 0.1380  time: 1.8147  data: 0.0000  max mem: 17967\n",
            "Train: data epoch: [7]  [ 20/100]  eta: 0:02:12  lr: 0.000001  loss: 0.0680  time: 1.5174  data: 0.0000  max mem: 17967\n",
            "Train: data epoch: [7]  [ 25/100]  eta: 0:02:06  lr: 0.000001  loss: 0.3042  time: 1.6758  data: 0.0000  max mem: 17967\n",
            "Train: data epoch: [7]  [ 30/100]  eta: 0:01:59  lr: 0.000001  loss: 0.0771  time: 1.6642  data: 0.0000  max mem: 17967\n",
            "Train: data epoch: [7]  [ 35/100]  eta: 0:01:52  lr: 0.000001  loss: 0.1554  time: 1.6616  data: 0.0000  max mem: 17967\n",
            "Train: data epoch: [7]  [ 40/100]  eta: 0:01:39  lr: 0.000001  loss: 0.0729  time: 1.6632  data: 0.0000  max mem: 17967\n",
            "Train: data epoch: [7]  [ 45/100]  eta: 0:01:32  lr: 0.000001  loss: 0.0656  time: 1.6607  data: 0.0000  max mem: 17967\n",
            "Train: data epoch: [7]  [ 50/100]  eta: 0:01:24  lr: 0.000001  loss: 0.0607  time: 1.6631  data: 0.0000  max mem: 17967\n",
            "Train: data epoch: [7]  [ 55/100]  eta: 0:01:14  lr: 0.000002  loss: 0.1045  time: 1.5039  data: 0.0000  max mem: 17967\n",
            "Train: data epoch: [7]  [ 60/100]  eta: 0:01:06  lr: 0.000002  loss: 0.1789  time: 1.6690  data: 0.0000  max mem: 17967\n",
            "Train: data epoch: [7]  [ 65/100]  eta: 0:00:58  lr: 0.000002  loss: 0.1545  time: 1.6654  data: 0.0000  max mem: 17967\n",
            "Train: data epoch: [7]  [ 70/100]  eta: 0:00:50  lr: 0.000002  loss: 0.0593  time: 1.6595  data: 0.0000  max mem: 17967\n",
            "Train: data epoch: [7]  [ 75/100]  eta: 0:00:41  lr: 0.000002  loss: 0.1369  time: 1.6543  data: 0.0000  max mem: 17967\n",
            "Train: data epoch: [7]  [ 80/100]  eta: 0:00:33  lr: 0.000002  loss: 0.1620  time: 1.6483  data: 0.0000  max mem: 17967\n",
            "Train: data epoch: [7]  [ 85/100]  eta: 0:00:25  lr: 0.000002  loss: 0.0496  time: 1.6561  data: 0.0000  max mem: 17967\n",
            "Train: data epoch: [7]  [ 90/100]  eta: 0:00:16  lr: 0.000002  loss: 0.2062  time: 1.4955  data: 0.0000  max mem: 17967\n",
            "Train: data epoch: [7]  [ 95/100]  eta: 0:00:08  lr: 0.000002  loss: 0.0667  time: 1.6729  data: 0.0000  max mem: 17967\n",
            "Train: data epoch: [7]  [ 99/100]  eta: 0:00:01  lr: 0.000002  loss: 0.0469  time: 1.6746  data: 0.0000  max mem: 17967\n",
            "Train: data epoch: [7] Total time: 0:02:46 (1.6680 s / it)\n",
            "2024-11-26 22:07:23,985 [INFO] Averaged stats: lr: 0.0000  loss: 0.1267\n",
            "2024-11-26 22:07:24,257 [INFO] Validating Phase\n",
            "Eval: data epoch: [7]  [0/3]  eta: 0:00:06    time: 2.3218  data: 1.5711  max mem: 17967\n",
            "Eval: data epoch: [7]  [2/3]  eta: 0:00:01    time: 1.1763  data: 0.5238  max mem: 17967\n",
            "Eval: data epoch: [7] Total time: 0:00:03 (1.2301 s / it)\n",
            "2024-11-26 22:07:28,041 [INFO] Saving checkpoint at epoch 7 to out/202411262143/checkpoint_7.pth.\n",
            "2024-11-26 22:07:32,122 [INFO] Training Phase\n",
            "2024-11-26 22:07:32,136 [INFO] Start training epoch 8, 100 iters per inner epoch.\n",
            "Train: data epoch: [8]  [  0/100]  eta: 0:01:57  lr: 0.000001  loss: 0.1423  time: 1.1765  data: 0.0000  max mem: 17967\n",
            "Train: data epoch: [8]  [  5/100]  eta: 0:02:43  lr: 0.000001  loss: 0.1273  time: 1.7199  data: 0.0000  max mem: 17967\n",
            "Train: data epoch: [8]  [ 10/100]  eta: 0:02:11  lr: 0.000001  loss: 0.1294  time: 1.4630  data: 0.0000  max mem: 17967\n",
            "Train: data epoch: [8]  [ 15/100]  eta: 0:02:14  lr: 0.000001  loss: 0.0506  time: 1.5807  data: 0.0000  max mem: 17967\n",
            "Train: data epoch: [8]  [ 20/100]  eta: 0:02:11  lr: 0.000001  loss: 0.0824  time: 1.6660  data: 0.0000  max mem: 17967\n",
            "Train: data epoch: [8]  [ 25/100]  eta: 0:01:56  lr: 0.000001  loss: 0.1633  time: 1.5002  data: 0.0000  max mem: 17967\n",
            "Train: data epoch: [8]  [ 30/100]  eta: 0:01:52  lr: 0.000001  loss: 0.1263  time: 1.6790  data: 0.0000  max mem: 17967\n",
            "Train: data epoch: [8]  [ 35/100]  eta: 0:01:46  lr: 0.000001  loss: 0.1174  time: 1.6790  data: 0.0000  max mem: 17967\n",
            "Train: data epoch: [8]  [ 40/100]  eta: 0:01:39  lr: 0.000001  loss: 0.1063  time: 1.6734  data: 0.0000  max mem: 17967\n",
            "Train: data epoch: [8]  [ 45/100]  eta: 0:01:28  lr: 0.000001  loss: 0.0513  time: 1.6778  data: 0.0000  max mem: 17967\n",
            "Train: data epoch: [8]  [ 50/100]  eta: 0:01:21  lr: 0.000001  loss: 0.0972  time: 1.6736  data: 0.0000  max mem: 17967\n",
            "Train: data epoch: [8]  [ 55/100]  eta: 0:01:14  lr: 0.000002  loss: 0.1183  time: 1.6760  data: 0.0000  max mem: 17967\n",
            "Train: data epoch: [8]  [ 60/100]  eta: 0:01:04  lr: 0.000002  loss: 0.0373  time: 1.5154  data: 0.0000  max mem: 17967\n",
            "Train: data epoch: [8]  [ 65/100]  eta: 0:00:56  lr: 0.000002  loss: 0.0272  time: 1.6777  data: 0.0000  max mem: 17967\n",
            "Train: data epoch: [8]  [ 70/100]  eta: 0:00:49  lr: 0.000002  loss: 0.0861  time: 1.6783  data: 0.0000  max mem: 17967\n",
            "Train: data epoch: [8]  [ 75/100]  eta: 0:00:41  lr: 0.000002  loss: 0.1109  time: 1.6767  data: 0.0000  max mem: 17967\n",
            "Train: data epoch: [8]  [ 80/100]  eta: 0:00:32  lr: 0.000002  loss: 0.0557  time: 1.6698  data: 0.0000  max mem: 17967\n",
            "Train: data epoch: [8]  [ 85/100]  eta: 0:00:24  lr: 0.000002  loss: 0.0937  time: 1.6709  data: 0.0000  max mem: 17967\n",
            "Train: data epoch: [8]  [ 90/100]  eta: 0:00:16  lr: 0.000002  loss: 0.0703  time: 1.6655  data: 0.0000  max mem: 17967\n",
            "Train: data epoch: [8]  [ 95/100]  eta: 0:00:08  lr: 0.000002  loss: 0.0753  time: 1.4916  data: 0.0000  max mem: 17967\n",
            "Train: data epoch: [8]  [ 99/100]  eta: 0:00:01  lr: 0.000002  loss: 0.0429  time: 1.6635  data: 0.0000  max mem: 17967\n",
            "Train: data epoch: [8] Total time: 0:02:43 (1.6384 s / it)\n",
            "2024-11-26 22:10:15,980 [INFO] Averaged stats: lr: 0.0000  loss: 0.0819\n",
            "2024-11-26 22:10:16,300 [INFO] Validating Phase\n",
            "Eval: data epoch: [8]  [0/3]  eta: 0:00:07    time: 2.5788  data: 1.7937  max mem: 17967\n",
            "Eval: data epoch: [8]  [2/3]  eta: 0:00:01    time: 1.2645  data: 0.5980  max mem: 17967\n",
            "Eval: data epoch: [8] Total time: 0:00:03 (1.3233 s / it)\n",
            "2024-11-26 22:10:20,480 [INFO] Saving checkpoint at epoch 8 to out/202411262143/checkpoint_8.pth.\n",
            "2024-11-26 22:10:24,411 [INFO] Training Phase\n",
            "2024-11-26 22:10:24,426 [INFO] Start training epoch 9, 100 iters per inner epoch.\n",
            "Train: data epoch: [9]  [  0/100]  eta: 0:01:58  lr: 0.000001  loss: 0.0890  time: 1.1849  data: 0.0000  max mem: 17967\n",
            "Train: data epoch: [9]  [  5/100]  eta: 0:02:43  lr: 0.000001  loss: 0.1076  time: 1.7222  data: 0.0000  max mem: 17967\n",
            "Train: data epoch: [9]  [ 10/100]  eta: 0:02:38  lr: 0.000001  loss: 0.0706  time: 1.7664  data: 0.0000  max mem: 17967\n",
            "Train: data epoch: [9]  [ 15/100]  eta: 0:02:13  lr: 0.000001  loss: 0.0344  time: 1.5732  data: 0.0000  max mem: 17967\n",
            "Train: data epoch: [9]  [ 20/100]  eta: 0:02:10  lr: 0.000001  loss: 0.0802  time: 1.6581  data: 0.0000  max mem: 17967\n",
            "Train: data epoch: [9]  [ 25/100]  eta: 0:02:05  lr: 0.000001  loss: 0.0258  time: 1.6617  data: 0.0000  max mem: 17967\n",
            "Train: data epoch: [9]  [ 30/100]  eta: 0:01:51  lr: 0.000001  loss: 0.0692  time: 1.5008  data: 0.0000  max mem: 17967\n",
            "Train: data epoch: [9]  [ 35/100]  eta: 0:01:45  lr: 0.000001  loss: 0.1112  time: 1.6732  data: 0.0000  max mem: 17967\n",
            "Train: data epoch: [9]  [ 40/100]  eta: 0:01:39  lr: 0.000001  loss: 0.0755  time: 1.6830  data: 0.0000  max mem: 17967\n",
            "Train: data epoch: [9]  [ 45/100]  eta: 0:01:32  lr: 0.000001  loss: 0.0434  time: 1.6856  data: 0.0000  max mem: 17967\n",
            "Train: data epoch: [9]  [ 50/100]  eta: 0:01:21  lr: 0.000001  loss: 0.0384  time: 1.6884  data: 0.0000  max mem: 17967\n",
            "Train: data epoch: [9]  [ 55/100]  eta: 0:01:14  lr: 0.000002  loss: 0.0352  time: 1.6897  data: 0.0000  max mem: 17967\n",
            "Train: data epoch: [9]  [ 60/100]  eta: 0:01:06  lr: 0.000002  loss: 0.0697  time: 1.6826  data: 0.0000  max mem: 17967\n",
            "Train: data epoch: [9]  [ 65/100]  eta: 0:00:57  lr: 0.000002  loss: 0.0499  time: 1.5132  data: 0.0000  max mem: 17967\n",
            "Train: data epoch: [9]  [ 70/100]  eta: 0:00:49  lr: 0.000002  loss: 0.0860  time: 1.6853  data: 0.0000  max mem: 17967\n",
            "Train: data epoch: [9]  [ 75/100]  eta: 0:00:41  lr: 0.000002  loss: 0.0285  time: 1.6940  data: 0.0000  max mem: 17967\n",
            "Train: data epoch: [9]  [ 80/100]  eta: 0:00:33  lr: 0.000002  loss: 0.0512  time: 1.6951  data: 0.0000  max mem: 17967\n",
            "Train: data epoch: [9]  [ 85/100]  eta: 0:00:24  lr: 0.000002  loss: 0.0793  time: 1.7020  data: 0.0000  max mem: 17967\n",
            "Train: data epoch: [9]  [ 90/100]  eta: 0:00:16  lr: 0.000002  loss: 0.0730  time: 1.6973  data: 0.0000  max mem: 17967\n",
            "Train: data epoch: [9]  [ 95/100]  eta: 0:00:08  lr: 0.000002  loss: 0.0314  time: 1.6847  data: 0.0000  max mem: 17967\n",
            "Train: data epoch: [9]  [ 99/100]  eta: 0:00:01  lr: 0.000002  loss: 0.0433  time: 1.6793  data: 0.0000  max mem: 17967\n",
            "Train: data epoch: [9] Total time: 0:02:44 (1.6471 s / it)\n",
            "2024-11-26 22:13:09,132 [INFO] Averaged stats: lr: 0.0000  loss: 0.0560\n",
            "2024-11-26 22:13:09,139 [INFO] Validating Phase\n",
            "Eval: data epoch: [9]  [0/3]  eta: 0:00:06    time: 2.0315  data: 1.2745  max mem: 17967\n",
            "Eval: data epoch: [9]  [2/3]  eta: 0:00:01    time: 1.1095  data: 0.4249  max mem: 17967\n",
            "Eval: data epoch: [9] Total time: 0:00:03 (1.1631 s / it)\n",
            "2024-11-26 22:13:12,818 [INFO] Saving checkpoint at epoch 9 to out/202411262143/checkpoint_9.pth.\n",
            "2024-11-26 22:13:16,580 [INFO] Training Phase\n",
            "2024-11-26 22:13:16,592 [INFO] Start training epoch 10, 100 iters per inner epoch.\n",
            "Train: data epoch: [10]  [  0/100]  eta: 0:02:00  lr: 0.000001  loss: 0.0611  time: 1.2042  data: 0.0000  max mem: 17967\n",
            "Train: data epoch: [10]  [  5/100]  eta: 0:02:43  lr: 0.000001  loss: 0.0543  time: 1.7195  data: 0.0000  max mem: 17967\n",
            "Train: data epoch: [10]  [ 10/100]  eta: 0:02:39  lr: 0.000001  loss: 0.0300  time: 1.7710  data: 0.0000  max mem: 17967\n",
            "Train: data epoch: [10]  [ 15/100]  eta: 0:02:31  lr: 0.000001  loss: 0.0626  time: 1.7861  data: 0.0000  max mem: 17967\n",
            "Train: data epoch: [10]  [ 20/100]  eta: 0:02:10  lr: 0.000001  loss: 0.0348  time: 1.6577  data: 0.0000  max mem: 17967\n",
            "^C\n",
            "Traceback (most recent call last):\n",
            "  File \"/project/OML/tdinh/SALMONN/train.py\", line 91, in <module>\n",
            "    main()\n",
            "  File \"/project/OML/tdinh/SALMONN/train.py\", line 87, in main\n",
            "    runner.train()\n",
            "  File \"/project/OML/tdinh/SALMONN/runner.py\", line 276, in train\n",
            "    train_stats = self.train_epoch(cur_epoch)\n",
            "  File \"/project/OML/tdinh/SALMONN/runner.py\", line 125, in train_epoch\n",
            "    self.scaler.scale(loss).backward()\n",
            "  File \"/home/sparta/anaconda3/envs/salmon2/lib/python3.9/site-packages/torch/_tensor.py\", line 522, in backward\n"
          ]
        }
      ],
      "source": [
        "!python3 train.py --cfg-path configs/config.yaml"
      ]
    },
    {
      "cell_type": "markdown",
      "id": "e440d79a-793a-4f9d-9e4a-08adaac9e421",
      "metadata": {
        "id": "e440d79a-793a-4f9d-9e4a-08adaac9e421"
      },
      "source": [
        "Let's try decoding with our newly fine-tuned model. This is done the same way as in Section 3, but just change the SALMONN checkpoint path from the decoding config file."
      ]
    },
    {
      "cell_type": "code",
      "execution_count": null,
      "id": "91550a63-7d8b-4bb9-8dca-9f4e28c1fd3b",
      "metadata": {
        "id": "91550a63-7d8b-4bb9-8dca-9f4e28c1fd3b",
        "outputId": "7919f53d-7e70-465c-97f1-a8388b7aa2ca"
      },
      "outputs": [
        {
          "name": "stdout",
          "output_type": "stream",
          "text": [
            "Loading checkpoint shards: 100%|██████████████████| 2/2 [00:13<00:00,  6.80s/it]\n",
            "trainable params: 4194304 || all params: 6742618112 || trainable%: 0.06220586618327525\n",
            "/home/sparta/anaconda3/envs/salmon2/lib/python3.9/site-packages/torch/nn/utils/weight_norm.py:28: UserWarning: torch.nn.utils.weight_norm is deprecated in favor of torch.nn.utils.parametrizations.weight_norm.\n",
            "  warnings.warn(\"torch.nn.utils.weight_norm is deprecated in favor of torch.nn.utils.parametrizations.weight_norm.\")\n",
            "Loading training prompts done!\n",
            "=====================================\n",
            "Your Wav Path:\n",
            "data/covost2-test-en-de_proccessed/SRCAUDIO.en/audio_30.wav\n",
            "Your Prompt:\n",
            "Listen to the speech and translate it into German.\n",
            "Output:\n",
            "<s> Was haben Sie mir empfohlen, Herr?</s>\n"
          ]
        }
      ],
      "source": [
        "!python3 cli_inference.py --cfg-path configs/decode_config_ft.yaml"
      ]
    },
    {
      "cell_type": "markdown",
      "id": "0d1903c0-5e5c-4508-a2a0-7a62bfa30892",
      "metadata": {
        "id": "0d1903c0-5e5c-4508-a2a0-7a62bfa30892"
      },
      "source": [
        "# Section 5. Action items\n",
        "\n",
        "- Modify the `cli_inference.py` script to handle multiple samples from a test set\n",
        "- Evaluate SALMONN on your test set before and after finetuning. Did the performance improve? Provide your insights.\n",
        "- **One page** should be enough to cover the important information\n",
        "- Mail to Tu Anh Dinh: tu.dinh@kit.edu"
      ]
    },
    {
      "cell_type": "code",
      "execution_count": null,
      "id": "d84ae3f1-ead0-4f3f-a6f7-e0326aefc1b4",
      "metadata": {
        "id": "d84ae3f1-ead0-4f3f-a6f7-e0326aefc1b4"
      },
      "outputs": [],
      "source": []
    }
  ],
  "metadata": {
    "kernelspec": {
      "display_name": "Python 3 (ipykernel)",
      "language": "python",
      "name": "python3"
    },
    "language_info": {
      "codemirror_mode": {
        "name": "ipython",
        "version": 3
      },
      "file_extension": ".py",
      "mimetype": "text/x-python",
      "name": "python",
      "nbconvert_exporter": "python",
      "pygments_lexer": "ipython3",
      "version": "3.9.17"
    },
    "colab": {
      "provenance": []
    }
  },
  "nbformat": 4,
  "nbformat_minor": 5
}