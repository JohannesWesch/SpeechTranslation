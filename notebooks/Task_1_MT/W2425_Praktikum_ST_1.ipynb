{
  "nbformat": 4,
  "nbformat_minor": 0,
  "metadata": {
    "colab": {
      "provenance": []
    },
    "kernelspec": {
      "name": "python3",
      "display_name": "Python 3"
    },
    "language_info": {
      "name": "python"
    },
    "accelerator": "GPU"
  },
  "cells": [
    {
      "cell_type": "markdown",
      "source": [
        "# Section 1. Getting Started"
      ],
      "metadata": {
        "id": "ic2B2u5mHMQ1"
      }
    },
    {
      "cell_type": "markdown",
      "source": [
        "##1.1 Introduction Jupyter notebook\n",
        "In a Jupyter notebook, **Cells** are Python code chunks that you can run interactively.\n"
      ],
      "metadata": {
        "id": "TbpANphbHOly"
      }
    },
    {
      "cell_type": "markdown",
      "source": [
        "First, make a copy of this notebook to your Google drive:\n",
        "- Navigate to \"**File**\" → \"**Save a copy in...**\""
      ],
      "metadata": {
        "id": "xvPGXbdxHS2t"
      }
    },
    {
      "cell_type": "markdown",
      "source": [
        "To run the notebook, there are two options:\n",
        "1.   connect to a **hosted** runtime, i.e. a remote virtual machine (**recommended**);\n",
        "2.   connect to your **local** runtime.\n",
        "\n",
        "You can configure this at the top right corner of this page:\n",
        "\n",
        "![Screenshot from 2020-12-21 19-20-10.png](data:image/png;base64,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)\n",
        "\n",
        "\n",
        "\n",
        "\n"
      ],
      "metadata": {
        "id": "EeIaUlIkHXIp"
      }
    },
    {
      "cell_type": "markdown",
      "source": [
        "After setting up the runtime, try this one below:"
      ],
      "metadata": {
        "id": "jOsXLMUyHhVn"
      }
    },
    {
      "cell_type": "code",
      "source": [
        "print('Hello from Praktikum ST.')"
      ],
      "metadata": {
        "id": "ZijPd-KjHkB7",
        "colab": {
          "base_uri": "https://localhost:8080/"
        },
        "outputId": "bdea45a3-44b0-4995-8235-8ca0580c9bd3"
      },
      "execution_count": null,
      "outputs": [
        {
          "output_type": "stream",
          "name": "stdout",
          "text": [
            "Hello from Praktikum ST.\n"
          ]
        }
      ]
    },
    {
      "cell_type": "markdown",
      "source": [
        "Before starting, let's list the available packages in the environment.\n",
        "\n",
        "Verify that **`torch`** is there, since we'll need it for training our models."
      ],
      "metadata": {
        "id": "pVbuIf8nHqF_"
      }
    },
    {
      "cell_type": "code",
      "source": [
        "!pip install pip==24.0\n",
        "!pip list -v"
      ],
      "metadata": {
        "id": "Oezugwj7HpNx",
        "colab": {
          "base_uri": "https://localhost:8080/"
        },
        "outputId": "5aec7182-c00a-4fe2-e9a0-e335ca73f647"
      },
      "execution_count": null,
      "outputs": [
        {
          "output_type": "stream",
          "name": "stdout",
          "text": [
            "Collecting pip==24.0\n",
            "  Downloading pip-24.0-py3-none-any.whl.metadata (3.6 kB)\n",
            "Downloading pip-24.0-py3-none-any.whl (2.1 MB)\n",
            "\u001b[?25l   \u001b[90m━━━━━━━━━━━━━━━━━━━━━━━━━━━━━━━━━━━━━━━━\u001b[0m \u001b[32m0.0/2.1 MB\u001b[0m \u001b[31m?\u001b[0m eta \u001b[36m-:--:--\u001b[0m\r\u001b[2K   \u001b[91m━━━━\u001b[0m\u001b[90m╺\u001b[0m\u001b[90m━━━━━━━━━━━━━━━━━━━━━━━━━━━━━━━━━━━\u001b[0m \u001b[32m0.2/2.1 MB\u001b[0m \u001b[31m6.6 MB/s\u001b[0m eta \u001b[36m0:00:01\u001b[0m\r\u001b[2K   \u001b[91m━━━━━━━━━━━━━━━━━━━━━━━━━━━━━━━━━━━━━━━\u001b[0m\u001b[91m╸\u001b[0m \u001b[32m2.1/2.1 MB\u001b[0m \u001b[31m34.5 MB/s\u001b[0m eta \u001b[36m0:00:01\u001b[0m\r\u001b[2K   \u001b[90m━━━━━━━━━━━━━━━━━━━━━━━━━━━━━━━━━━━━━━━━\u001b[0m \u001b[32m2.1/2.1 MB\u001b[0m \u001b[31m26.0 MB/s\u001b[0m eta \u001b[36m0:00:00\u001b[0m\n",
            "\u001b[?25hInstalling collected packages: pip\n",
            "  Attempting uninstall: pip\n",
            "    Found existing installation: pip 24.1.2\n",
            "    Uninstalling pip-24.1.2:\n",
            "      Successfully uninstalled pip-24.1.2\n",
            "Successfully installed pip-24.0\n",
            "Package                            Version              Location                                Installer\n",
            "---------------------------------- -------------------- --------------------------------------- ---------\n",
            "absl-py                            1.4.0                /usr/local/lib/python3.10/dist-packages uv\n",
            "accelerate                         0.34.2               /usr/local/lib/python3.10/dist-packages uv\n",
            "aiohappyeyeballs                   2.4.3                /usr/local/lib/python3.10/dist-packages uv\n",
            "aiohttp                            3.10.10              /usr/local/lib/python3.10/dist-packages uv\n",
            "aiosignal                          1.3.1                /usr/local/lib/python3.10/dist-packages uv\n",
            "alabaster                          0.7.16               /usr/local/lib/python3.10/dist-packages uv\n",
            "albucore                           0.0.16               /usr/local/lib/python3.10/dist-packages uv\n",
            "albumentations                     1.4.15               /usr/local/lib/python3.10/dist-packages uv\n",
            "altair                             4.2.2                /usr/local/lib/python3.10/dist-packages uv\n",
            "annotated-types                    0.7.0                /usr/local/lib/python3.10/dist-packages uv\n",
            "anyio                              3.7.1                /usr/local/lib/python3.10/dist-packages uv\n",
            "argon2-cffi                        23.1.0               /usr/local/lib/python3.10/dist-packages uv\n",
            "argon2-cffi-bindings               21.2.0               /usr/local/lib/python3.10/dist-packages uv\n",
            "array_record                       0.5.1                /usr/local/lib/python3.10/dist-packages uv\n",
            "arviz                              0.19.0               /usr/local/lib/python3.10/dist-packages uv\n",
            "astropy                            6.1.4                /usr/local/lib/python3.10/dist-packages uv\n",
            "astropy-iers-data                  0.2024.10.14.0.32.55 /usr/local/lib/python3.10/dist-packages uv\n",
            "astunparse                         1.6.3                /usr/local/lib/python3.10/dist-packages uv\n",
            "async-timeout                      4.0.3                /usr/local/lib/python3.10/dist-packages uv\n",
            "atpublic                           4.1.0                /usr/local/lib/python3.10/dist-packages uv\n",
            "attrs                              24.2.0               /usr/local/lib/python3.10/dist-packages uv\n",
            "audioread                          3.0.1                /usr/local/lib/python3.10/dist-packages uv\n",
            "autograd                           1.7.0                /usr/local/lib/python3.10/dist-packages uv\n",
            "babel                              2.16.0               /usr/local/lib/python3.10/dist-packages uv\n",
            "backcall                           0.2.0                /usr/local/lib/python3.10/dist-packages uv\n",
            "beautifulsoup4                     4.12.3               /usr/local/lib/python3.10/dist-packages uv\n",
            "bigframes                          1.22.0               /usr/local/lib/python3.10/dist-packages uv\n",
            "bigquery-magics                    0.4.0                /usr/local/lib/python3.10/dist-packages uv\n",
            "bleach                             6.1.0                /usr/local/lib/python3.10/dist-packages uv\n",
            "blinker                            1.4                  /usr/lib/python3/dist-packages\n",
            "blis                               0.7.11               /usr/local/lib/python3.10/dist-packages uv\n",
            "blosc2                             2.0.0                /usr/local/lib/python3.10/dist-packages uv\n",
            "bokeh                              3.4.3                /usr/local/lib/python3.10/dist-packages uv\n",
            "Bottleneck                         1.4.2                /usr/local/lib/python3.10/dist-packages uv\n",
            "bqplot                             0.12.43              /usr/local/lib/python3.10/dist-packages uv\n",
            "branca                             0.8.0                /usr/local/lib/python3.10/dist-packages uv\n",
            "CacheControl                       0.14.0               /usr/local/lib/python3.10/dist-packages uv\n",
            "cachetools                         5.5.0                /usr/local/lib/python3.10/dist-packages uv\n",
            "catalogue                          2.0.10               /usr/local/lib/python3.10/dist-packages uv\n",
            "certifi                            2024.8.30            /usr/local/lib/python3.10/dist-packages uv\n",
            "cffi                               1.17.1               /usr/local/lib/python3.10/dist-packages uv\n",
            "chardet                            5.2.0                /usr/local/lib/python3.10/dist-packages uv\n",
            "charset-normalizer                 3.4.0                /usr/local/lib/python3.10/dist-packages uv\n",
            "chex                               0.1.87               /usr/local/lib/python3.10/dist-packages uv\n",
            "clarabel                           0.9.0                /usr/local/lib/python3.10/dist-packages uv\n",
            "click                              8.1.7                /usr/local/lib/python3.10/dist-packages uv\n",
            "cloudpathlib                       0.19.0               /usr/local/lib/python3.10/dist-packages uv\n",
            "cloudpickle                        3.1.0                /usr/local/lib/python3.10/dist-packages uv\n",
            "cmake                              3.30.4               /usr/local/lib/python3.10/dist-packages uv\n",
            "cmdstanpy                          1.2.4                /usr/local/lib/python3.10/dist-packages uv\n",
            "colorcet                           3.1.0                /usr/local/lib/python3.10/dist-packages uv\n",
            "colorlover                         0.3.0                /usr/local/lib/python3.10/dist-packages uv\n",
            "colour                             0.1.5                /usr/local/lib/python3.10/dist-packages uv\n",
            "community                          1.0.0b1              /usr/local/lib/python3.10/dist-packages uv\n",
            "confection                         0.1.5                /usr/local/lib/python3.10/dist-packages uv\n",
            "cons                               0.4.6                /usr/local/lib/python3.10/dist-packages uv\n",
            "contourpy                          1.3.0                /usr/local/lib/python3.10/dist-packages uv\n",
            "cryptography                       43.0.1               /usr/local/lib/python3.10/dist-packages uv\n",
            "cuda-python                        12.2.1               /usr/local/lib/python3.10/dist-packages uv\n",
            "cudf-cu12                          24.10.1              /usr/local/lib/python3.10/dist-packages uv\n",
            "cufflinks                          0.17.3               /usr/local/lib/python3.10/dist-packages uv\n",
            "cupy-cuda12x                       12.2.0               /usr/local/lib/python3.10/dist-packages uv\n",
            "cvxopt                             1.3.2                /usr/local/lib/python3.10/dist-packages uv\n",
            "cvxpy                              1.5.3                /usr/local/lib/python3.10/dist-packages uv\n",
            "cycler                             0.12.1               /usr/local/lib/python3.10/dist-packages uv\n",
            "cymem                              2.0.8                /usr/local/lib/python3.10/dist-packages uv\n",
            "Cython                             3.0.11               /usr/local/lib/python3.10/dist-packages uv\n",
            "dask                               2024.8.2             /usr/local/lib/python3.10/dist-packages uv\n",
            "datascience                        0.17.6               /usr/local/lib/python3.10/dist-packages uv\n",
            "db-dtypes                          1.3.0                /usr/local/lib/python3.10/dist-packages uv\n",
            "dbus-python                        1.2.18               /usr/lib/python3/dist-packages\n",
            "debugpy                            1.6.6                /usr/local/lib/python3.10/dist-packages uv\n",
            "decorator                          4.4.2                /usr/local/lib/python3.10/dist-packages uv\n",
            "defusedxml                         0.7.1                /usr/local/lib/python3.10/dist-packages uv\n",
            "Deprecated                         1.2.14               /usr/local/lib/python3.10/dist-packages uv\n",
            "diffusers                          0.30.3               /usr/local/lib/python3.10/dist-packages uv\n",
            "distro                             1.7.0                /usr/lib/python3/dist-packages\n",
            "dlib                               19.24.2              /usr/local/lib/python3.10/dist-packages uv\n",
            "dm-tree                            0.1.8                /usr/local/lib/python3.10/dist-packages uv\n",
            "docker-pycreds                     0.4.0                /usr/local/lib/python3.10/dist-packages uv\n",
            "docstring_parser                   0.16                 /usr/local/lib/python3.10/dist-packages uv\n",
            "docutils                           0.18.1               /usr/local/lib/python3.10/dist-packages uv\n",
            "dopamine_rl                        4.0.9                /usr/local/lib/python3.10/dist-packages uv\n",
            "duckdb                             1.1.2                /usr/local/lib/python3.10/dist-packages uv\n",
            "earthengine-api                    1.0.0                /usr/local/lib/python3.10/dist-packages uv\n",
            "easydict                           1.13                 /usr/local/lib/python3.10/dist-packages uv\n",
            "ecos                               2.0.14               /usr/local/lib/python3.10/dist-packages uv\n",
            "editdistance                       0.8.1                /usr/local/lib/python3.10/dist-packages uv\n",
            "eerepr                             0.0.4                /usr/local/lib/python3.10/dist-packages uv\n",
            "einops                             0.8.0                /usr/local/lib/python3.10/dist-packages uv\n",
            "en-core-web-sm                     3.7.1                /usr/local/lib/python3.10/dist-packages pip\n",
            "entrypoints                        0.4                  /usr/local/lib/python3.10/dist-packages uv\n",
            "et-xmlfile                         1.1.0                /usr/local/lib/python3.10/dist-packages uv\n",
            "etils                              1.10.0               /usr/local/lib/python3.10/dist-packages uv\n",
            "etuples                            0.3.9                /usr/local/lib/python3.10/dist-packages uv\n",
            "eval_type_backport                 0.2.0                /usr/local/lib/python3.10/dist-packages uv\n",
            "exceptiongroup                     1.2.2                /usr/local/lib/python3.10/dist-packages uv\n",
            "fastai                             2.7.17               /usr/local/lib/python3.10/dist-packages uv\n",
            "fastcore                           1.7.19               /usr/local/lib/python3.10/dist-packages uv\n",
            "fastdownload                       0.0.7                /usr/local/lib/python3.10/dist-packages uv\n",
            "fastjsonschema                     2.20.0               /usr/local/lib/python3.10/dist-packages uv\n",
            "fastprogress                       1.0.3                /usr/local/lib/python3.10/dist-packages uv\n",
            "fastrlock                          0.8.2                /usr/local/lib/python3.10/dist-packages uv\n",
            "filelock                           3.16.1               /usr/local/lib/python3.10/dist-packages uv\n",
            "firebase-admin                     6.5.0                /usr/local/lib/python3.10/dist-packages uv\n",
            "Flask                              2.2.5                /usr/local/lib/python3.10/dist-packages uv\n",
            "flatbuffers                        24.3.25              /usr/local/lib/python3.10/dist-packages uv\n",
            "flax                               0.8.5                /usr/local/lib/python3.10/dist-packages uv\n",
            "folium                             0.17.0               /usr/local/lib/python3.10/dist-packages uv\n",
            "fonttools                          4.54.1               /usr/local/lib/python3.10/dist-packages uv\n",
            "frozendict                         2.4.6                /usr/local/lib/python3.10/dist-packages uv\n",
            "frozenlist                         1.4.1                /usr/local/lib/python3.10/dist-packages uv\n",
            "fsspec                             2024.6.1             /usr/local/lib/python3.10/dist-packages uv\n",
            "future                             1.0.0                /usr/local/lib/python3.10/dist-packages uv\n",
            "gast                               0.6.0                /usr/local/lib/python3.10/dist-packages uv\n",
            "gcsfs                              2024.6.1             /usr/local/lib/python3.10/dist-packages uv\n",
            "GDAL                               3.6.4                /usr/local/lib/python3.10/dist-packages uv\n",
            "gdown                              5.2.0                /usr/local/lib/python3.10/dist-packages uv\n",
            "geemap                             0.34.5               /usr/local/lib/python3.10/dist-packages uv\n",
            "gensim                             4.3.3                /usr/local/lib/python3.10/dist-packages uv\n",
            "geocoder                           1.38.1               /usr/local/lib/python3.10/dist-packages uv\n",
            "geographiclib                      2.0                  /usr/local/lib/python3.10/dist-packages uv\n",
            "geopandas                          1.0.1                /usr/local/lib/python3.10/dist-packages uv\n",
            "geopy                              2.4.1                /usr/local/lib/python3.10/dist-packages uv\n",
            "gin-config                         0.5.0                /usr/local/lib/python3.10/dist-packages uv\n",
            "gitdb                              4.0.11               /usr/local/lib/python3.10/dist-packages uv\n",
            "GitPython                          3.1.43               /usr/local/lib/python3.10/dist-packages uv\n",
            "glob2                              0.7                  /usr/local/lib/python3.10/dist-packages uv\n",
            "google                             2.0.3                /usr/local/lib/python3.10/dist-packages uv\n",
            "google-ai-generativelanguage       0.6.10               /usr/local/lib/python3.10/dist-packages uv\n",
            "google-api-core                    2.19.2               /usr/local/lib/python3.10/dist-packages uv\n",
            "google-api-python-client           2.137.0              /usr/local/lib/python3.10/dist-packages uv\n",
            "google-auth                        2.27.0               /usr/local/lib/python3.10/dist-packages uv\n",
            "google-auth-httplib2               0.2.0                /usr/local/lib/python3.10/dist-packages uv\n",
            "google-auth-oauthlib               1.2.1                /usr/local/lib/python3.10/dist-packages uv\n",
            "google-cloud-aiplatform            1.70.0               /usr/local/lib/python3.10/dist-packages uv\n",
            "google-cloud-bigquery              3.25.0               /usr/local/lib/python3.10/dist-packages uv\n",
            "google-cloud-bigquery-connection   1.15.5               /usr/local/lib/python3.10/dist-packages uv\n",
            "google-cloud-bigquery-storage      2.27.0               /usr/local/lib/python3.10/dist-packages uv\n",
            "google-cloud-bigtable              2.26.0               /usr/local/lib/python3.10/dist-packages uv\n",
            "google-cloud-core                  2.4.1                /usr/local/lib/python3.10/dist-packages uv\n",
            "google-cloud-datastore             2.19.0               /usr/local/lib/python3.10/dist-packages uv\n",
            "google-cloud-firestore             2.16.1               /usr/local/lib/python3.10/dist-packages uv\n",
            "google-cloud-functions             1.16.5               /usr/local/lib/python3.10/dist-packages uv\n",
            "google-cloud-iam                   2.15.2               /usr/local/lib/python3.10/dist-packages uv\n",
            "google-cloud-language              2.13.4               /usr/local/lib/python3.10/dist-packages uv\n",
            "google-cloud-pubsub                2.25.0               /usr/local/lib/python3.10/dist-packages uv\n",
            "google-cloud-resource-manager      1.12.5               /usr/local/lib/python3.10/dist-packages uv\n",
            "google-cloud-storage               2.8.0                /usr/local/lib/python3.10/dist-packages uv\n",
            "google-cloud-translate             3.15.5               /usr/local/lib/python3.10/dist-packages uv\n",
            "google-colab                       1.0.0                /usr/local/lib/python3.10/dist-packages uv\n",
            "google-crc32c                      1.6.0                /usr/local/lib/python3.10/dist-packages uv\n",
            "google-generativeai                0.8.3                /usr/local/lib/python3.10/dist-packages uv\n",
            "google-pasta                       0.2.0                /usr/local/lib/python3.10/dist-packages uv\n",
            "google-resumable-media             2.7.2                /usr/local/lib/python3.10/dist-packages uv\n",
            "googleapis-common-protos           1.65.0               /usr/local/lib/python3.10/dist-packages uv\n",
            "googledrivedownloader              0.4                  /usr/local/lib/python3.10/dist-packages uv\n",
            "graphviz                           0.20.3               /usr/local/lib/python3.10/dist-packages uv\n",
            "greenlet                           3.1.1                /usr/local/lib/python3.10/dist-packages uv\n",
            "grpc-google-iam-v1                 0.13.1               /usr/local/lib/python3.10/dist-packages uv\n",
            "grpcio                             1.64.1               /usr/local/lib/python3.10/dist-packages uv\n",
            "grpcio-status                      1.48.2               /usr/local/lib/python3.10/dist-packages uv\n",
            "gspread                            6.0.2                /usr/local/lib/python3.10/dist-packages uv\n",
            "gspread-dataframe                  3.3.1                /usr/local/lib/python3.10/dist-packages uv\n",
            "gym                                0.25.2               /usr/local/lib/python3.10/dist-packages uv\n",
            "gym-notices                        0.0.8                /usr/local/lib/python3.10/dist-packages uv\n",
            "h5netcdf                           1.4.0                /usr/local/lib/python3.10/dist-packages uv\n",
            "h5py                               3.11.0               /usr/local/lib/python3.10/dist-packages uv\n",
            "holidays                           0.58                 /usr/local/lib/python3.10/dist-packages uv\n",
            "holoviews                          1.19.1               /usr/local/lib/python3.10/dist-packages uv\n",
            "html5lib                           1.1                  /usr/local/lib/python3.10/dist-packages uv\n",
            "httpimport                         1.4.0                /usr/local/lib/python3.10/dist-packages uv\n",
            "httplib2                           0.22.0               /usr/local/lib/python3.10/dist-packages uv\n",
            "huggingface-hub                    0.24.7               /usr/local/lib/python3.10/dist-packages uv\n",
            "humanize                           4.10.0               /usr/local/lib/python3.10/dist-packages uv\n",
            "hyperopt                           0.2.7                /usr/local/lib/python3.10/dist-packages uv\n",
            "ibis-framework                     9.2.0                /usr/local/lib/python3.10/dist-packages uv\n",
            "idna                               3.10                 /usr/local/lib/python3.10/dist-packages uv\n",
            "imageio                            2.35.1               /usr/local/lib/python3.10/dist-packages uv\n",
            "imageio-ffmpeg                     0.5.1                /usr/local/lib/python3.10/dist-packages uv\n",
            "imagesize                          1.4.1                /usr/local/lib/python3.10/dist-packages uv\n",
            "imbalanced-learn                   0.12.4               /usr/local/lib/python3.10/dist-packages uv\n",
            "imgaug                             0.4.0                /usr/local/lib/python3.10/dist-packages uv\n",
            "immutabledict                      4.2.0                /usr/local/lib/python3.10/dist-packages uv\n",
            "importlib_metadata                 8.5.0                /usr/local/lib/python3.10/dist-packages uv\n",
            "importlib_resources                6.4.5                /usr/local/lib/python3.10/dist-packages uv\n",
            "imutils                            0.5.4                /usr/local/lib/python3.10/dist-packages uv\n",
            "inflect                            7.4.0                /usr/local/lib/python3.10/dist-packages uv\n",
            "iniconfig                          2.0.0                /usr/local/lib/python3.10/dist-packages uv\n",
            "intel-cmplr-lib-ur                 2024.2.1             /usr/local/lib/python3.10/dist-packages uv\n",
            "intel-openmp                       2024.2.1             /usr/local/lib/python3.10/dist-packages uv\n",
            "ipyevents                          2.0.2                /usr/local/lib/python3.10/dist-packages uv\n",
            "ipyfilechooser                     0.6.0                /usr/local/lib/python3.10/dist-packages uv\n",
            "ipykernel                          5.5.6                /usr/local/lib/python3.10/dist-packages uv\n",
            "ipyleaflet                         0.19.2               /usr/local/lib/python3.10/dist-packages uv\n",
            "ipyparallel                        8.8.0                /usr/local/lib/python3.10/dist-packages uv\n",
            "ipython                            7.34.0               /usr/local/lib/python3.10/dist-packages uv\n",
            "ipython-genutils                   0.2.0                /usr/local/lib/python3.10/dist-packages uv\n",
            "ipython-sql                        0.5.0                /usr/local/lib/python3.10/dist-packages uv\n",
            "ipytree                            0.2.2                /usr/local/lib/python3.10/dist-packages uv\n",
            "ipywidgets                         7.7.1                /usr/local/lib/python3.10/dist-packages uv\n",
            "itsdangerous                       2.2.0                /usr/local/lib/python3.10/dist-packages uv\n",
            "jax                                0.4.33               /usr/local/lib/python3.10/dist-packages uv\n",
            "jax-cuda12-pjrt                    0.4.33               /usr/local/lib/python3.10/dist-packages uv\n",
            "jax-cuda12-plugin                  0.4.33               /usr/local/lib/python3.10/dist-packages uv\n",
            "jaxlib                             0.4.33               /usr/local/lib/python3.10/dist-packages uv\n",
            "jeepney                            0.7.1                /usr/lib/python3/dist-packages          flit\n",
            "jellyfish                          1.1.0                /usr/local/lib/python3.10/dist-packages uv\n",
            "jieba                              0.42.1               /usr/local/lib/python3.10/dist-packages uv\n",
            "Jinja2                             3.1.4                /usr/local/lib/python3.10/dist-packages uv\n",
            "joblib                             1.4.2                /usr/local/lib/python3.10/dist-packages uv\n",
            "jsonpickle                         3.3.0                /usr/local/lib/python3.10/dist-packages uv\n",
            "jsonschema                         4.23.0               /usr/local/lib/python3.10/dist-packages uv\n",
            "jsonschema-specifications          2024.10.1            /usr/local/lib/python3.10/dist-packages uv\n",
            "jupyter-client                     6.1.12               /usr/local/lib/python3.10/dist-packages uv\n",
            "jupyter-console                    6.1.0                /usr/local/lib/python3.10/dist-packages uv\n",
            "jupyter_core                       5.7.2                /usr/local/lib/python3.10/dist-packages uv\n",
            "jupyter-leaflet                    0.19.2               /usr/local/lib/python3.10/dist-packages uv\n",
            "jupyter-server                     1.24.0               /usr/local/lib/python3.10/dist-packages uv\n",
            "jupyterlab_pygments                0.3.0                /usr/local/lib/python3.10/dist-packages uv\n",
            "jupyterlab_widgets                 3.0.13               /usr/local/lib/python3.10/dist-packages uv\n",
            "kaggle                             1.6.17               /usr/local/lib/python3.10/dist-packages uv\n",
            "kagglehub                          0.3.3                /usr/local/lib/python3.10/dist-packages uv\n",
            "keras                              3.4.1                /usr/local/lib/python3.10/dist-packages uv\n",
            "keyring                            23.5.0               /usr/lib/python3/dist-packages\n",
            "kiwisolver                         1.4.7                /usr/local/lib/python3.10/dist-packages uv\n",
            "langcodes                          3.4.1                /usr/local/lib/python3.10/dist-packages uv\n",
            "language_data                      1.2.0                /usr/local/lib/python3.10/dist-packages uv\n",
            "launchpadlib                       1.10.16              /usr/lib/python3/dist-packages\n",
            "lazr.restfulclient                 0.14.4               /usr/lib/python3/dist-packages\n",
            "lazr.uri                           1.0.6                /usr/lib/python3/dist-packages\n",
            "lazy_loader                        0.4                  /usr/local/lib/python3.10/dist-packages uv\n",
            "libclang                           18.1.1               /usr/local/lib/python3.10/dist-packages uv\n",
            "libcudf-cu12                       24.10.1              /usr/local/lib/python3.10/dist-packages uv\n",
            "librosa                            0.10.2.post1         /usr/local/lib/python3.10/dist-packages uv\n",
            "lightgbm                           4.5.0                /usr/local/lib/python3.10/dist-packages uv\n",
            "linkify-it-py                      2.0.3                /usr/local/lib/python3.10/dist-packages uv\n",
            "llvmlite                           0.43.0               /usr/local/lib/python3.10/dist-packages uv\n",
            "locket                             1.0.0                /usr/local/lib/python3.10/dist-packages uv\n",
            "logical-unification                0.4.6                /usr/local/lib/python3.10/dist-packages uv\n",
            "lxml                               4.9.4                /usr/local/lib/python3.10/dist-packages uv\n",
            "marisa-trie                        1.2.1                /usr/local/lib/python3.10/dist-packages uv\n",
            "Markdown                           3.7                  /usr/local/lib/python3.10/dist-packages uv\n",
            "markdown-it-py                     3.0.0                /usr/local/lib/python3.10/dist-packages uv\n",
            "MarkupSafe                         3.0.2                /usr/local/lib/python3.10/dist-packages uv\n",
            "matplotlib                         3.7.1                /usr/local/lib/python3.10/dist-packages uv\n",
            "matplotlib-inline                  0.1.7                /usr/local/lib/python3.10/dist-packages uv\n",
            "matplotlib-venn                    1.1.1                /usr/local/lib/python3.10/dist-packages uv\n",
            "mdit-py-plugins                    0.4.2                /usr/local/lib/python3.10/dist-packages uv\n",
            "mdurl                              0.1.2                /usr/local/lib/python3.10/dist-packages uv\n",
            "miniKanren                         1.0.3                /usr/local/lib/python3.10/dist-packages uv\n",
            "missingno                          0.5.2                /usr/local/lib/python3.10/dist-packages uv\n",
            "mistune                            0.8.4                /usr/local/lib/python3.10/dist-packages uv\n",
            "mizani                             0.11.4               /usr/local/lib/python3.10/dist-packages uv\n",
            "mkl                                2024.2.2             /usr/local/lib/python3.10/dist-packages uv\n",
            "ml-dtypes                          0.4.1                /usr/local/lib/python3.10/dist-packages uv\n",
            "mlxtend                            0.23.1               /usr/local/lib/python3.10/dist-packages uv\n",
            "more-itertools                     10.5.0               /usr/local/lib/python3.10/dist-packages uv\n",
            "moviepy                            1.0.3                /usr/local/lib/python3.10/dist-packages uv\n",
            "mpmath                             1.3.0                /usr/local/lib/python3.10/dist-packages uv\n",
            "msgpack                            1.1.0                /usr/local/lib/python3.10/dist-packages uv\n",
            "multidict                          6.1.0                /usr/local/lib/python3.10/dist-packages uv\n",
            "multipledispatch                   1.0.0                /usr/local/lib/python3.10/dist-packages uv\n",
            "multitasking                       0.0.11               /usr/local/lib/python3.10/dist-packages uv\n",
            "murmurhash                         1.0.10               /usr/local/lib/python3.10/dist-packages uv\n",
            "music21                            9.1.0                /usr/local/lib/python3.10/dist-packages uv\n",
            "namex                              0.0.8                /usr/local/lib/python3.10/dist-packages uv\n",
            "natsort                            8.4.0                /usr/local/lib/python3.10/dist-packages uv\n",
            "nbclassic                          1.1.0                /usr/local/lib/python3.10/dist-packages uv\n",
            "nbclient                           0.10.0               /usr/local/lib/python3.10/dist-packages uv\n",
            "nbconvert                          6.5.4                /usr/local/lib/python3.10/dist-packages uv\n",
            "nbformat                           5.10.4               /usr/local/lib/python3.10/dist-packages uv\n",
            "nest-asyncio                       1.6.0                /usr/local/lib/python3.10/dist-packages uv\n",
            "networkx                           3.4.1                /usr/local/lib/python3.10/dist-packages uv\n",
            "nibabel                            5.2.1                /usr/local/lib/python3.10/dist-packages uv\n",
            "nltk                               3.8.1                /usr/local/lib/python3.10/dist-packages uv\n",
            "notebook                           6.5.5                /usr/local/lib/python3.10/dist-packages uv\n",
            "notebook_shim                      0.2.4                /usr/local/lib/python3.10/dist-packages uv\n",
            "numba                              0.60.0               /usr/local/lib/python3.10/dist-packages uv\n",
            "numexpr                            2.10.1               /usr/local/lib/python3.10/dist-packages uv\n",
            "numpy                              1.26.4               /usr/local/lib/python3.10/dist-packages uv\n",
            "nvidia-cublas-cu12                 12.6.3.3             /usr/local/lib/python3.10/dist-packages uv\n",
            "nvidia-cuda-cupti-cu12             12.6.80              /usr/local/lib/python3.10/dist-packages uv\n",
            "nvidia-cuda-nvcc-cu12              12.6.77              /usr/local/lib/python3.10/dist-packages uv\n",
            "nvidia-cuda-runtime-cu12           12.6.77              /usr/local/lib/python3.10/dist-packages uv\n",
            "nvidia-cudnn-cu12                  9.5.0.50             /usr/local/lib/python3.10/dist-packages uv\n",
            "nvidia-cufft-cu12                  11.3.0.4             /usr/local/lib/python3.10/dist-packages uv\n",
            "nvidia-curand-cu12                 10.3.7.77            /usr/local/lib/python3.10/dist-packages uv\n",
            "nvidia-cusolver-cu12               11.7.1.2             /usr/local/lib/python3.10/dist-packages uv\n",
            "nvidia-cusparse-cu12               12.5.4.2             /usr/local/lib/python3.10/dist-packages uv\n",
            "nvidia-nccl-cu12                   2.23.4               /usr/local/lib/python3.10/dist-packages uv\n",
            "nvidia-nvjitlink-cu12              12.6.77              /usr/local/lib/python3.10/dist-packages uv\n",
            "nvtx                               0.2.10               /usr/local/lib/python3.10/dist-packages uv\n",
            "nx-cugraph-cu12                    24.10.0              /usr/local/lib/python3.10/dist-packages uv\n",
            "oauth2client                       4.1.3                /usr/local/lib/python3.10/dist-packages uv\n",
            "oauthlib                           3.2.2                /usr/local/lib/python3.10/dist-packages uv\n",
            "opencv-contrib-python              4.10.0.84            /usr/local/lib/python3.10/dist-packages uv\n",
            "opencv-python                      4.10.0.84            /usr/local/lib/python3.10/dist-packages uv\n",
            "opencv-python-headless             4.10.0.84            /usr/local/lib/python3.10/dist-packages uv\n",
            "openpyxl                           3.1.5                /usr/local/lib/python3.10/dist-packages uv\n",
            "opentelemetry-api                  1.16.0               /usr/local/lib/python3.10/dist-packages uv\n",
            "opentelemetry-sdk                  1.16.0               /usr/local/lib/python3.10/dist-packages uv\n",
            "opentelemetry-semantic-conventions 0.37b0               /usr/local/lib/python3.10/dist-packages uv\n",
            "opt_einsum                         3.4.0                /usr/local/lib/python3.10/dist-packages uv\n",
            "optax                              0.2.3                /usr/local/lib/python3.10/dist-packages uv\n",
            "optree                             0.13.0               /usr/local/lib/python3.10/dist-packages uv\n",
            "orbax-checkpoint                   0.6.4                /usr/local/lib/python3.10/dist-packages uv\n",
            "osqp                               0.6.7.post3          /usr/local/lib/python3.10/dist-packages uv\n",
            "packaging                          24.1                 /usr/local/lib/python3.10/dist-packages uv\n",
            "pandas                             2.2.2                /usr/local/lib/python3.10/dist-packages uv\n",
            "pandas-datareader                  0.10.0               /usr/local/lib/python3.10/dist-packages uv\n",
            "pandas-gbq                         0.23.2               /usr/local/lib/python3.10/dist-packages uv\n",
            "pandas-stubs                       2.2.2.240909         /usr/local/lib/python3.10/dist-packages uv\n",
            "pandocfilters                      1.5.1                /usr/local/lib/python3.10/dist-packages uv\n",
            "panel                              1.4.5                /usr/local/lib/python3.10/dist-packages uv\n",
            "param                              2.1.1                /usr/local/lib/python3.10/dist-packages uv\n",
            "parso                              0.8.4                /usr/local/lib/python3.10/dist-packages uv\n",
            "parsy                              2.1                  /usr/local/lib/python3.10/dist-packages uv\n",
            "partd                              1.4.2                /usr/local/lib/python3.10/dist-packages uv\n",
            "pathlib                            1.0.1                /usr/local/lib/python3.10/dist-packages uv\n",
            "patsy                              0.5.6                /usr/local/lib/python3.10/dist-packages uv\n",
            "peewee                             3.17.7               /usr/local/lib/python3.10/dist-packages uv\n",
            "pexpect                            4.9.0                /usr/local/lib/python3.10/dist-packages uv\n",
            "pickleshare                        0.7.5                /usr/local/lib/python3.10/dist-packages uv\n",
            "pillow                             10.4.0               /usr/local/lib/python3.10/dist-packages uv\n",
            "pip                                24.0                 /usr/local/lib/python3.10/dist-packages pip\n",
            "platformdirs                       4.3.6                /usr/local/lib/python3.10/dist-packages uv\n",
            "plotly                             5.24.1               /usr/local/lib/python3.10/dist-packages uv\n",
            "plotnine                           0.13.6               /usr/local/lib/python3.10/dist-packages uv\n",
            "pluggy                             1.5.0                /usr/local/lib/python3.10/dist-packages uv\n",
            "polars                             1.7.1                /usr/local/lib/python3.10/dist-packages uv\n",
            "pooch                              1.8.2                /usr/local/lib/python3.10/dist-packages uv\n",
            "portpicker                         1.5.2                /usr/local/lib/python3.10/dist-packages uv\n",
            "preshed                            3.0.9                /usr/local/lib/python3.10/dist-packages uv\n",
            "prettytable                        3.11.0               /usr/local/lib/python3.10/dist-packages uv\n",
            "proglog                            0.1.10               /usr/local/lib/python3.10/dist-packages uv\n",
            "progressbar2                       4.5.0                /usr/local/lib/python3.10/dist-packages uv\n",
            "prometheus_client                  0.21.0               /usr/local/lib/python3.10/dist-packages uv\n",
            "promise                            2.3                  /usr/local/lib/python3.10/dist-packages uv\n",
            "prompt_toolkit                     3.0.48               /usr/local/lib/python3.10/dist-packages uv\n",
            "propcache                          0.2.0                /usr/local/lib/python3.10/dist-packages uv\n",
            "prophet                            1.1.6                /usr/local/lib/python3.10/dist-packages uv\n",
            "proto-plus                         1.24.0               /usr/local/lib/python3.10/dist-packages uv\n",
            "protobuf                           3.20.3               /usr/local/lib/python3.10/dist-packages uv\n",
            "psutil                             5.9.5                /usr/local/lib/python3.10/dist-packages uv\n",
            "psycopg2                           2.9.10               /usr/local/lib/python3.10/dist-packages uv\n",
            "ptyprocess                         0.7.0                /usr/local/lib/python3.10/dist-packages uv\n",
            "py-cpuinfo                         9.0.0                /usr/local/lib/python3.10/dist-packages uv\n",
            "py4j                               0.10.9.7             /usr/local/lib/python3.10/dist-packages uv\n",
            "pyarrow                            16.1.0               /usr/local/lib/python3.10/dist-packages uv\n",
            "pyarrow-hotfix                     0.6                  /usr/local/lib/python3.10/dist-packages uv\n",
            "pyasn1                             0.6.1                /usr/local/lib/python3.10/dist-packages uv\n",
            "pyasn1_modules                     0.4.1                /usr/local/lib/python3.10/dist-packages uv\n",
            "pycocotools                        2.0.8                /usr/local/lib/python3.10/dist-packages uv\n",
            "pycparser                          2.22                 /usr/local/lib/python3.10/dist-packages uv\n",
            "pydantic                           2.9.2                /usr/local/lib/python3.10/dist-packages uv\n",
            "pydantic_core                      2.23.4               /usr/local/lib/python3.10/dist-packages uv\n",
            "pydata-google-auth                 1.8.2                /usr/local/lib/python3.10/dist-packages uv\n",
            "pydot                              3.0.2                /usr/local/lib/python3.10/dist-packages uv\n",
            "pydotplus                          2.0.2                /usr/local/lib/python3.10/dist-packages uv\n",
            "PyDrive                            1.3.1                /usr/local/lib/python3.10/dist-packages uv\n",
            "PyDrive2                           1.20.0               /usr/local/lib/python3.10/dist-packages uv\n",
            "pyerfa                             2.0.1.4              /usr/local/lib/python3.10/dist-packages uv\n",
            "pygame                             2.6.1                /usr/local/lib/python3.10/dist-packages uv\n",
            "pygit2                             1.15.1               /usr/local/lib/python3.10/dist-packages uv\n",
            "Pygments                           2.18.0               /usr/local/lib/python3.10/dist-packages uv\n",
            "PyGObject                          3.42.1               /usr/lib/python3/dist-packages\n",
            "PyJWT                              2.9.0                /usr/local/lib/python3.10/dist-packages uv\n",
            "pylibcudf-cu12                     24.10.1              /usr/local/lib/python3.10/dist-packages uv\n",
            "pylibcugraph-cu12                  24.10.0              /usr/local/lib/python3.10/dist-packages uv\n",
            "pylibraft-cu12                     24.10.0              /usr/local/lib/python3.10/dist-packages uv\n",
            "pymc                               5.16.2               /usr/local/lib/python3.10/dist-packages uv\n",
            "pymystem3                          0.2.0                /usr/local/lib/python3.10/dist-packages uv\n",
            "pynvjitlink-cu12                   0.3.0                /usr/local/lib/python3.10/dist-packages uv\n",
            "pyogrio                            0.10.0               /usr/local/lib/python3.10/dist-packages uv\n",
            "PyOpenGL                           3.1.7                /usr/local/lib/python3.10/dist-packages uv\n",
            "pyOpenSSL                          24.2.1               /usr/local/lib/python3.10/dist-packages uv\n",
            "pyparsing                          3.2.0                /usr/local/lib/python3.10/dist-packages uv\n",
            "pyperclip                          1.9.0                /usr/local/lib/python3.10/dist-packages uv\n",
            "pyproj                             3.7.0                /usr/local/lib/python3.10/dist-packages uv\n",
            "pyshp                              2.3.1                /usr/local/lib/python3.10/dist-packages uv\n",
            "PySocks                            1.7.1                /usr/local/lib/python3.10/dist-packages uv\n",
            "pyspark                            3.5.3                /usr/local/lib/python3.10/dist-packages uv\n",
            "pytensor                           2.25.5               /usr/local/lib/python3.10/dist-packages uv\n",
            "pytest                             7.4.4                /usr/local/lib/python3.10/dist-packages uv\n",
            "python-apt                         0.0.0                /usr/local/lib/python3.10/dist-packages\n",
            "python-box                         7.2.0                /usr/local/lib/python3.10/dist-packages uv\n",
            "python-dateutil                    2.8.2                /usr/local/lib/python3.10/dist-packages uv\n",
            "python-louvain                     0.16                 /usr/local/lib/python3.10/dist-packages uv\n",
            "python-slugify                     8.0.4                /usr/local/lib/python3.10/dist-packages uv\n",
            "python-utils                       3.9.0                /usr/local/lib/python3.10/dist-packages uv\n",
            "pytz                               2024.2               /usr/local/lib/python3.10/dist-packages uv\n",
            "pyviz_comms                        3.0.3                /usr/local/lib/python3.10/dist-packages uv\n",
            "PyYAML                             6.0.2                /usr/local/lib/python3.10/dist-packages uv\n",
            "pyzmq                              24.0.1               /usr/local/lib/python3.10/dist-packages uv\n",
            "qdldl                              0.1.7.post4          /usr/local/lib/python3.10/dist-packages uv\n",
            "ratelim                            0.1.6                /usr/local/lib/python3.10/dist-packages uv\n",
            "referencing                        0.35.1               /usr/local/lib/python3.10/dist-packages uv\n",
            "regex                              2024.9.11            /usr/local/lib/python3.10/dist-packages uv\n",
            "requests                           2.32.3               /usr/local/lib/python3.10/dist-packages uv\n",
            "requests-oauthlib                  1.3.1                /usr/local/lib/python3.10/dist-packages uv\n",
            "requirements-parser                0.9.0                /usr/local/lib/python3.10/dist-packages uv\n",
            "rich                               13.9.2               /usr/local/lib/python3.10/dist-packages uv\n",
            "rmm-cu12                           24.10.0              /usr/local/lib/python3.10/dist-packages uv\n",
            "rpds-py                            0.20.0               /usr/local/lib/python3.10/dist-packages uv\n",
            "rpy2                               3.4.2                /usr/local/lib/python3.10/dist-packages uv\n",
            "rsa                                4.9                  /usr/local/lib/python3.10/dist-packages uv\n",
            "safetensors                        0.4.5                /usr/local/lib/python3.10/dist-packages uv\n",
            "scikit-image                       0.24.0               /usr/local/lib/python3.10/dist-packages uv\n",
            "scikit-learn                       1.5.2                /usr/local/lib/python3.10/dist-packages uv\n",
            "scipy                              1.13.1               /usr/local/lib/python3.10/dist-packages uv\n",
            "scooby                             0.10.0               /usr/local/lib/python3.10/dist-packages uv\n",
            "scs                                3.2.7                /usr/local/lib/python3.10/dist-packages uv\n",
            "seaborn                            0.13.2               /usr/local/lib/python3.10/dist-packages uv\n",
            "SecretStorage                      3.3.1                /usr/lib/python3/dist-packages\n",
            "Send2Trash                         1.8.3                /usr/local/lib/python3.10/dist-packages uv\n",
            "sentencepiece                      0.2.0                /usr/local/lib/python3.10/dist-packages uv\n",
            "sentry-sdk                         2.17.0               /usr/local/lib/python3.10/dist-packages uv\n",
            "setproctitle                       1.3.3                /usr/local/lib/python3.10/dist-packages uv\n",
            "setuptools                         75.1.0               /usr/local/lib/python3.10/dist-packages uv\n",
            "shap                               0.46.0               /usr/local/lib/python3.10/dist-packages uv\n",
            "shapely                            2.0.6                /usr/local/lib/python3.10/dist-packages uv\n",
            "shellingham                        1.5.4                /usr/local/lib/python3.10/dist-packages uv\n",
            "simple-parsing                     0.1.6                /usr/local/lib/python3.10/dist-packages uv\n",
            "six                                1.16.0               /usr/local/lib/python3.10/dist-packages uv\n",
            "sklearn-pandas                     2.2.0                /usr/local/lib/python3.10/dist-packages uv\n",
            "slicer                             0.0.8                /usr/local/lib/python3.10/dist-packages uv\n",
            "smart-open                         7.0.5                /usr/local/lib/python3.10/dist-packages uv\n",
            "smmap                              5.0.1                /usr/local/lib/python3.10/dist-packages uv\n",
            "sniffio                            1.3.1                /usr/local/lib/python3.10/dist-packages uv\n",
            "snowballstemmer                    2.2.0                /usr/local/lib/python3.10/dist-packages uv\n",
            "soundfile                          0.12.1               /usr/local/lib/python3.10/dist-packages uv\n",
            "soupsieve                          2.6                  /usr/local/lib/python3.10/dist-packages uv\n",
            "soxr                               0.5.0.post1          /usr/local/lib/python3.10/dist-packages uv\n",
            "spacy                              3.7.5                /usr/local/lib/python3.10/dist-packages uv\n",
            "spacy-legacy                       3.0.12               /usr/local/lib/python3.10/dist-packages uv\n",
            "spacy-loggers                      1.0.5                /usr/local/lib/python3.10/dist-packages uv\n",
            "Sphinx                             5.0.2                /usr/local/lib/python3.10/dist-packages uv\n",
            "sphinxcontrib-applehelp            2.0.0                /usr/local/lib/python3.10/dist-packages uv\n",
            "sphinxcontrib-devhelp              2.0.0                /usr/local/lib/python3.10/dist-packages uv\n",
            "sphinxcontrib-htmlhelp             2.1.0                /usr/local/lib/python3.10/dist-packages uv\n",
            "sphinxcontrib-jsmath               1.0.1                /usr/local/lib/python3.10/dist-packages uv\n",
            "sphinxcontrib-qthelp               2.0.0                /usr/local/lib/python3.10/dist-packages uv\n",
            "sphinxcontrib-serializinghtml      2.0.0                /usr/local/lib/python3.10/dist-packages uv\n",
            "SQLAlchemy                         2.0.36               /usr/local/lib/python3.10/dist-packages uv\n",
            "sqlglot                            25.1.0               /usr/local/lib/python3.10/dist-packages uv\n",
            "sqlparse                           0.5.1                /usr/local/lib/python3.10/dist-packages uv\n",
            "srsly                              2.4.8                /usr/local/lib/python3.10/dist-packages uv\n",
            "stanio                             0.5.1                /usr/local/lib/python3.10/dist-packages uv\n",
            "statsmodels                        0.14.4               /usr/local/lib/python3.10/dist-packages uv\n",
            "StrEnum                            0.4.15               /usr/local/lib/python3.10/dist-packages uv\n",
            "sympy                              1.13.3               /usr/local/lib/python3.10/dist-packages uv\n",
            "tables                             3.8.0                /usr/local/lib/python3.10/dist-packages uv\n",
            "tabulate                           0.9.0                /usr/local/lib/python3.10/dist-packages uv\n",
            "tbb                                2021.13.1            /usr/local/lib/python3.10/dist-packages uv\n",
            "tenacity                           9.0.0                /usr/local/lib/python3.10/dist-packages uv\n",
            "tensorboard                        2.17.0               /usr/local/lib/python3.10/dist-packages uv\n",
            "tensorboard-data-server            0.7.2                /usr/local/lib/python3.10/dist-packages uv\n",
            "tensorflow                         2.17.0               /usr/local/lib/python3.10/dist-packages uv\n",
            "tensorflow-datasets                4.9.6                /usr/local/lib/python3.10/dist-packages uv\n",
            "tensorflow-hub                     0.16.1               /usr/local/lib/python3.10/dist-packages uv\n",
            "tensorflow-io-gcs-filesystem       0.37.1               /usr/local/lib/python3.10/dist-packages uv\n",
            "tensorflow-metadata                1.16.1               /usr/local/lib/python3.10/dist-packages uv\n",
            "tensorflow-probability             0.24.0               /usr/local/lib/python3.10/dist-packages uv\n",
            "tensorstore                        0.1.66               /usr/local/lib/python3.10/dist-packages uv\n",
            "termcolor                          2.5.0                /usr/local/lib/python3.10/dist-packages uv\n",
            "terminado                          0.18.1               /usr/local/lib/python3.10/dist-packages uv\n",
            "text-unidecode                     1.3                  /usr/local/lib/python3.10/dist-packages uv\n",
            "textblob                           0.17.1               /usr/local/lib/python3.10/dist-packages uv\n",
            "tf_keras                           2.17.0               /usr/local/lib/python3.10/dist-packages uv\n",
            "tf-slim                            1.1.0                /usr/local/lib/python3.10/dist-packages uv\n",
            "thinc                              8.2.5                /usr/local/lib/python3.10/dist-packages uv\n",
            "threadpoolctl                      3.5.0                /usr/local/lib/python3.10/dist-packages uv\n",
            "tifffile                           2024.9.20            /usr/local/lib/python3.10/dist-packages uv\n",
            "timm                               1.0.11               /usr/local/lib/python3.10/dist-packages uv\n",
            "tinycss2                           1.3.0                /usr/local/lib/python3.10/dist-packages uv\n",
            "tokenizers                         0.19.1               /usr/local/lib/python3.10/dist-packages uv\n",
            "toml                               0.10.2               /usr/local/lib/python3.10/dist-packages uv\n",
            "tomli                              2.0.2                /usr/local/lib/python3.10/dist-packages uv\n",
            "toolz                              0.12.1               /usr/local/lib/python3.10/dist-packages uv\n",
            "torch                              2.4.1+cu121          /usr/local/lib/python3.10/dist-packages uv\n",
            "torchaudio                         2.4.1+cu121          /usr/local/lib/python3.10/dist-packages uv\n",
            "torchsummary                       1.5.1                /usr/local/lib/python3.10/dist-packages uv\n",
            "torchvision                        0.19.1+cu121         /usr/local/lib/python3.10/dist-packages uv\n",
            "tornado                            6.3.3                /usr/local/lib/python3.10/dist-packages uv\n",
            "tqdm                               4.66.5               /usr/local/lib/python3.10/dist-packages uv\n",
            "traitlets                          5.7.1                /usr/local/lib/python3.10/dist-packages uv\n",
            "traittypes                         0.2.1                /usr/local/lib/python3.10/dist-packages uv\n",
            "transformers                       4.44.2               /usr/local/lib/python3.10/dist-packages uv\n",
            "tweepy                             4.14.0               /usr/local/lib/python3.10/dist-packages uv\n",
            "typeguard                          4.3.0                /usr/local/lib/python3.10/dist-packages uv\n",
            "typer                              0.12.5               /usr/local/lib/python3.10/dist-packages uv\n",
            "types-pytz                         2024.2.0.20241003    /usr/local/lib/python3.10/dist-packages uv\n",
            "types-setuptools                   75.2.0.20241019      /usr/local/lib/python3.10/dist-packages uv\n",
            "typing_extensions                  4.12.2               /usr/local/lib/python3.10/dist-packages uv\n",
            "tzdata                             2024.2               /usr/local/lib/python3.10/dist-packages uv\n",
            "tzlocal                            5.2                  /usr/local/lib/python3.10/dist-packages uv\n",
            "uc-micro-py                        1.0.3                /usr/local/lib/python3.10/dist-packages uv\n",
            "uritemplate                        4.1.1                /usr/local/lib/python3.10/dist-packages uv\n",
            "urllib3                            2.2.3                /usr/local/lib/python3.10/dist-packages uv\n",
            "vega-datasets                      0.9.0                /usr/local/lib/python3.10/dist-packages uv\n",
            "wadllib                            1.3.6                /usr/lib/python3/dist-packages\n",
            "wandb                              0.18.5               /usr/local/lib/python3.10/dist-packages uv\n",
            "wasabi                             1.1.3                /usr/local/lib/python3.10/dist-packages uv\n",
            "wcwidth                            0.2.13               /usr/local/lib/python3.10/dist-packages uv\n",
            "weasel                             0.4.1                /usr/local/lib/python3.10/dist-packages uv\n",
            "webcolors                          24.8.0               /usr/local/lib/python3.10/dist-packages uv\n",
            "webencodings                       0.5.1                /usr/local/lib/python3.10/dist-packages uv\n",
            "websocket-client                   1.8.0                /usr/local/lib/python3.10/dist-packages uv\n",
            "Werkzeug                           3.0.4                /usr/local/lib/python3.10/dist-packages uv\n",
            "wheel                              0.44.0               /usr/local/lib/python3.10/dist-packages uv\n",
            "widgetsnbextension                 3.6.9                /usr/local/lib/python3.10/dist-packages uv\n",
            "wordcloud                          1.9.3                /usr/local/lib/python3.10/dist-packages uv\n",
            "wrapt                              1.16.0               /usr/local/lib/python3.10/dist-packages uv\n",
            "xarray                             2024.9.0             /usr/local/lib/python3.10/dist-packages uv\n",
            "xarray-einstats                    0.8.0                /usr/local/lib/python3.10/dist-packages uv\n",
            "xgboost                            2.1.1                /usr/local/lib/python3.10/dist-packages uv\n",
            "xlrd                               2.0.1                /usr/local/lib/python3.10/dist-packages uv\n",
            "xyzservices                        2024.9.0             /usr/local/lib/python3.10/dist-packages uv\n",
            "yarl                               1.15.4               /usr/local/lib/python3.10/dist-packages uv\n",
            "yellowbrick                        1.5                  /usr/local/lib/python3.10/dist-packages uv\n",
            "yfinance                           0.2.44               /usr/local/lib/python3.10/dist-packages uv\n",
            "zipp                               3.20.2               /usr/local/lib/python3.10/dist-packages uv\n"
          ]
        }
      ]
    },
    {
      "cell_type": "markdown",
      "source": [
        "## 1.2 Enabling and testing the GPU\n",
        "\n",
        "When training your model, having a GPU is convenient, as the training can be well parallelized.\n",
        "\n",
        "First, let's enable GPUs for this notebook:\n",
        "\n",
        "- Navigate to \"**Edit**\" → \"**Notebook Settings**\"\n",
        "- Select GPU from the **Hardware Accelerator** list\n",
        "\n",
        "Next, we'll check if we can connect to the GPU with PyTorch:"
      ],
      "metadata": {
        "id": "J1phZKfAH7Tv"
      }
    },
    {
      "cell_type": "code",
      "source": [
        "import torch\n",
        "\n",
        "if torch.cuda.is_available():\n",
        "    device = torch.cuda.current_device()\n",
        "    print('Current device:', torch.cuda.get_device_name(device))\n",
        "else:\n",
        "    print('Failed to find GPU. Will use CPU.')\n",
        "    device = 'cpu'"
      ],
      "metadata": {
        "id": "i-FDe-eiIJ0T",
        "colab": {
          "base_uri": "https://localhost:8080/"
        },
        "outputId": "7cfd12ed-1f7d-46fd-b19c-1a5f2edfe6b9"
      },
      "execution_count": null,
      "outputs": [
        {
          "output_type": "stream",
          "name": "stdout",
          "text": [
            "Current device: Tesla T4\n"
          ]
        }
      ]
    },
    {
      "cell_type": "markdown",
      "source": [
        "## 1.3 What are we doing for this lab?\n",
        "\n",
        "We will first walk through an example of training an English-to-German text-to-text translation model.\n",
        "\n",
        "We will use the [fairseq](https://github.com/facebookresearch/fairseq) toolkit [(Ott et al., 2019)](https://aclanthology.org/N19-4009.pdf).\n",
        "\n",
        "Afterwards, you will build a translation model for a translation direction of your choice."
      ],
      "metadata": {
        "id": "zyfNg2iqZPoL"
      }
    },
    {
      "cell_type": "markdown",
      "source": [
        "## 1.4 Saving local files (only relevant when using Colab)\n",
        "\n",
        "If you are working with a **hosted** runtime, your local files (including the trained models!) will be **removed** when you disconnect the runtime.\n",
        "\n",
        "To save these files, you might want to **mount** your Google Drive as local storage (see Section 6.1 for details).\n",
        "\n",
        "A downside, however, is that the storage is capped by your Google drive **storage limit**.\n"
      ],
      "metadata": {
        "id": "_MOu-x2lPkyK"
      }
    },
    {
      "cell_type": "markdown",
      "source": [
        "## 1.5 Installing fairseq"
      ],
      "metadata": {
        "id": "6275we_xOhYy"
      }
    },
    {
      "cell_type": "code",
      "source": [
        "# Cloing fairseq repo from github\n",
        "!git clone https://github.com/facebookresearch/fairseq.git"
      ],
      "metadata": {
        "id": "PovusCuqOzbR",
        "colab": {
          "base_uri": "https://localhost:8080/"
        },
        "outputId": "6e80063f-b700-48e5-c408-ffe41a75e0f3"
      },
      "execution_count": null,
      "outputs": [
        {
          "output_type": "stream",
          "name": "stdout",
          "text": [
            "Cloning into 'fairseq'...\n",
            "remote: Enumerating objects: 35385, done.\u001b[K\n",
            "remote: Counting objects: 100% (48/48), done.\u001b[K\n",
            "remote: Compressing objects: 100% (35/35), done.\u001b[K\n",
            "remote: Total 35385 (delta 10), reused 38 (delta 10), pack-reused 35337 (from 1)\u001b[K\n",
            "Receiving objects: 100% (35385/35385), 25.47 MiB | 19.38 MiB/s, done.\n",
            "Resolving deltas: 100% (25538/25538), done.\n"
          ]
        }
      ]
    },
    {
      "cell_type": "markdown",
      "source": [
        "After cloing the repo, we will install fairseq as a library:"
      ],
      "metadata": {
        "id": "K06gzA5FQXQm"
      }
    },
    {
      "cell_type": "code",
      "source": [
        "%cd fairseq\n",
        "!pip install --editable ./"
      ],
      "metadata": {
        "id": "vwsNu-sLQW_6",
        "colab": {
          "base_uri": "https://localhost:8080/"
        },
        "outputId": "e01404b0-a226-43ad-bb37-0e84431653db"
      },
      "execution_count": null,
      "outputs": [
        {
          "output_type": "stream",
          "name": "stdout",
          "text": [
            "/content/fairseq\n",
            "Obtaining file:///content/fairseq\n",
            "  Installing build dependencies ... \u001b[?25l\u001b[?25hdone\n",
            "  Checking if build backend supports build_editable ... \u001b[?25l\u001b[?25hdone\n",
            "  Getting requirements to build editable ... \u001b[?25l\u001b[?25hdone\n",
            "  Preparing editable metadata (pyproject.toml) ... \u001b[?25l\u001b[?25hdone\n",
            "Requirement already satisfied: cffi in /usr/local/lib/python3.10/dist-packages (from fairseq==0.12.2) (1.17.1)\n",
            "Requirement already satisfied: cython in /usr/local/lib/python3.10/dist-packages (from fairseq==0.12.2) (3.0.11)\n",
            "Collecting hydra-core<1.1,>=1.0.7 (from fairseq==0.12.2)\n",
            "  Downloading hydra_core-1.0.7-py3-none-any.whl.metadata (3.7 kB)\n",
            "Collecting omegaconf<2.1 (from fairseq==0.12.2)\n",
            "  Downloading omegaconf-2.0.6-py3-none-any.whl.metadata (3.0 kB)\n",
            "Requirement already satisfied: numpy>=1.21.3 in /usr/local/lib/python3.10/dist-packages (from fairseq==0.12.2) (1.26.4)\n",
            "Requirement already satisfied: regex in /usr/local/lib/python3.10/dist-packages (from fairseq==0.12.2) (2024.9.11)\n",
            "Collecting sacrebleu>=1.4.12 (from fairseq==0.12.2)\n",
            "  Downloading sacrebleu-2.4.3-py3-none-any.whl.metadata (51 kB)\n",
            "\u001b[2K     \u001b[90m━━━━━━━━━━━━━━━━━━━━━━━━━━━━━━━━━━━━━━━━\u001b[0m \u001b[32m51.8/51.8 kB\u001b[0m \u001b[31m2.1 MB/s\u001b[0m eta \u001b[36m0:00:00\u001b[0m\n",
            "\u001b[?25hRequirement already satisfied: torch>=1.13 in /usr/local/lib/python3.10/dist-packages (from fairseq==0.12.2) (2.4.1+cu121)\n",
            "Requirement already satisfied: tqdm in /usr/local/lib/python3.10/dist-packages (from fairseq==0.12.2) (4.66.5)\n",
            "Collecting bitarray (from fairseq==0.12.2)\n",
            "  Downloading bitarray-3.0.0-cp310-cp310-manylinux_2_17_x86_64.manylinux2014_x86_64.whl.metadata (32 kB)\n",
            "Requirement already satisfied: torchaudio>=0.8.0 in /usr/local/lib/python3.10/dist-packages (from fairseq==0.12.2) (2.4.1+cu121)\n",
            "Requirement already satisfied: scikit-learn in /usr/local/lib/python3.10/dist-packages (from fairseq==0.12.2) (1.5.2)\n",
            "Requirement already satisfied: packaging in /usr/local/lib/python3.10/dist-packages (from fairseq==0.12.2) (24.1)\n",
            "Collecting antlr4-python3-runtime==4.8 (from hydra-core<1.1,>=1.0.7->fairseq==0.12.2)\n",
            "  Downloading antlr4-python3-runtime-4.8.tar.gz (112 kB)\n",
            "\u001b[2K     \u001b[90m━━━━━━━━━━━━━━━━━━━━━━━━━━━━━━━━━━━━━━━━\u001b[0m \u001b[32m112.4/112.4 kB\u001b[0m \u001b[31m5.9 MB/s\u001b[0m eta \u001b[36m0:00:00\u001b[0m\n",
            "\u001b[?25h  Preparing metadata (setup.py) ... \u001b[?25l\u001b[?25hdone\n",
            "Requirement already satisfied: PyYAML>=5.1.* in /usr/local/lib/python3.10/dist-packages (from omegaconf<2.1->fairseq==0.12.2) (6.0.2)\n",
            "Requirement already satisfied: typing-extensions in /usr/local/lib/python3.10/dist-packages (from omegaconf<2.1->fairseq==0.12.2) (4.12.2)\n",
            "Collecting portalocker (from sacrebleu>=1.4.12->fairseq==0.12.2)\n",
            "  Downloading portalocker-2.10.1-py3-none-any.whl.metadata (8.5 kB)\n",
            "Requirement already satisfied: tabulate>=0.8.9 in /usr/local/lib/python3.10/dist-packages (from sacrebleu>=1.4.12->fairseq==0.12.2) (0.9.0)\n",
            "Collecting colorama (from sacrebleu>=1.4.12->fairseq==0.12.2)\n",
            "  Downloading colorama-0.4.6-py2.py3-none-any.whl.metadata (17 kB)\n",
            "Requirement already satisfied: lxml in /usr/local/lib/python3.10/dist-packages (from sacrebleu>=1.4.12->fairseq==0.12.2) (4.9.4)\n",
            "Requirement already satisfied: filelock in /usr/local/lib/python3.10/dist-packages (from torch>=1.13->fairseq==0.12.2) (3.16.1)\n",
            "Requirement already satisfied: sympy in /usr/local/lib/python3.10/dist-packages (from torch>=1.13->fairseq==0.12.2) (1.13.3)\n",
            "Requirement already satisfied: networkx in /usr/local/lib/python3.10/dist-packages (from torch>=1.13->fairseq==0.12.2) (3.4.1)\n",
            "Requirement already satisfied: jinja2 in /usr/local/lib/python3.10/dist-packages (from torch>=1.13->fairseq==0.12.2) (3.1.4)\n",
            "Requirement already satisfied: fsspec in /usr/local/lib/python3.10/dist-packages (from torch>=1.13->fairseq==0.12.2) (2024.6.1)\n",
            "Requirement already satisfied: pycparser in /usr/local/lib/python3.10/dist-packages (from cffi->fairseq==0.12.2) (2.22)\n",
            "Requirement already satisfied: scipy>=1.6.0 in /usr/local/lib/python3.10/dist-packages (from scikit-learn->fairseq==0.12.2) (1.13.1)\n",
            "Requirement already satisfied: joblib>=1.2.0 in /usr/local/lib/python3.10/dist-packages (from scikit-learn->fairseq==0.12.2) (1.4.2)\n",
            "Requirement already satisfied: threadpoolctl>=3.1.0 in /usr/local/lib/python3.10/dist-packages (from scikit-learn->fairseq==0.12.2) (3.5.0)\n",
            "Requirement already satisfied: MarkupSafe>=2.0 in /usr/local/lib/python3.10/dist-packages (from jinja2->torch>=1.13->fairseq==0.12.2) (3.0.2)\n",
            "Requirement already satisfied: mpmath<1.4,>=1.1.0 in /usr/local/lib/python3.10/dist-packages (from sympy->torch>=1.13->fairseq==0.12.2) (1.3.0)\n",
            "Downloading hydra_core-1.0.7-py3-none-any.whl (123 kB)\n",
            "\u001b[2K   \u001b[90m━━━━━━━━━━━━━━━━━━━━━━━━━━━━━━━━━━━━━━━━\u001b[0m \u001b[32m123.8/123.8 kB\u001b[0m \u001b[31m7.6 MB/s\u001b[0m eta \u001b[36m0:00:00\u001b[0m\n",
            "\u001b[?25hDownloading omegaconf-2.0.6-py3-none-any.whl (36 kB)\n",
            "Downloading sacrebleu-2.4.3-py3-none-any.whl (103 kB)\n",
            "\u001b[2K   \u001b[90m━━━━━━━━━━━━━━━━━━━━━━━━━━━━━━━━━━━━━━━━\u001b[0m \u001b[32m104.0/104.0 kB\u001b[0m \u001b[31m6.6 MB/s\u001b[0m eta \u001b[36m0:00:00\u001b[0m\n",
            "\u001b[?25hDownloading bitarray-3.0.0-cp310-cp310-manylinux_2_17_x86_64.manylinux2014_x86_64.whl (278 kB)\n",
            "\u001b[2K   \u001b[90m━━━━━━━━━━━━━━━━━━━━━━━━━━━━━━━━━━━━━━━━\u001b[0m \u001b[32m278.3/278.3 kB\u001b[0m \u001b[31m9.2 MB/s\u001b[0m eta \u001b[36m0:00:00\u001b[0m\n",
            "\u001b[?25hDownloading colorama-0.4.6-py2.py3-none-any.whl (25 kB)\n",
            "Downloading portalocker-2.10.1-py3-none-any.whl (18 kB)\n",
            "Building wheels for collected packages: fairseq, antlr4-python3-runtime\n",
            "  Building editable for fairseq (pyproject.toml) ... \u001b[?25l\u001b[?25hdone\n",
            "  Created wheel for fairseq: filename=fairseq-0.12.2-0.editable-cp310-cp310-linux_x86_64.whl size=9554 sha256=30964ebafc37a3ceae98f7ab559fd62b56376fab49547fac4d24a57118faf4e6\n",
            "  Stored in directory: /tmp/pip-ephem-wheel-cache-ig1lrgcj/wheels/c6/d7/db/bc419b1daa8266aa8de2a7c4d29f62dbfa814e8701fe4695a2\n",
            "  Building wheel for antlr4-python3-runtime (setup.py) ... \u001b[?25l\u001b[?25hdone\n",
            "  Created wheel for antlr4-python3-runtime: filename=antlr4_python3_runtime-4.8-py3-none-any.whl size=141214 sha256=3ab6ceb05b6468249e7f2fc351a9a83a8c1c024765ed15a08817256e85b1868c\n",
            "  Stored in directory: /root/.cache/pip/wheels/a7/20/bd/e1477d664f22d99989fd28ee1a43d6633dddb5cb9e801350d5\n",
            "Successfully built fairseq antlr4-python3-runtime\n",
            "\u001b[33mDEPRECATION: omegaconf 2.0.6 has a non-standard dependency specifier PyYAML>=5.1.*. pip 24.1 will enforce this behaviour change. A possible replacement is to upgrade to a newer version of omegaconf or contact the author to suggest that they release a version with a conforming dependency specifiers. Discussion can be found at https://github.com/pypa/pip/issues/12063\u001b[0m\u001b[33m\n",
            "\u001b[0mInstalling collected packages: bitarray, antlr4-python3-runtime, portalocker, omegaconf, colorama, sacrebleu, hydra-core, fairseq\n",
            "Successfully installed antlr4-python3-runtime-4.8 bitarray-3.0.0 colorama-0.4.6 fairseq-0.12.2 hydra-core-1.0.7 omegaconf-2.0.6 portalocker-2.10.1 sacrebleu-2.4.3\n"
          ]
        }
      ]
    },
    {
      "cell_type": "markdown",
      "source": [
        "Add fairseq to Python path:"
      ],
      "metadata": {
        "id": "ILERVOdHQK2Y"
      }
    },
    {
      "cell_type": "code",
      "source": [
        "!echo $PYTHONPATH\n",
        "\n",
        "import os\n",
        "os.environ['PYTHONPATH'] += \":/content/fairseq/\"\n",
        "\n",
        "!echo $PYTHONPATH"
      ],
      "metadata": {
        "id": "HTqeFtVIOg3_",
        "colab": {
          "base_uri": "https://localhost:8080/"
        },
        "outputId": "53d4eed8-4f1c-4ebf-c0d2-242357961373"
      },
      "execution_count": null,
      "outputs": [
        {
          "output_type": "stream",
          "name": "stdout",
          "text": [
            "/env/python\n",
            "/env/python:/content/fairseq/\n"
          ]
        }
      ]
    },
    {
      "cell_type": "markdown",
      "source": [
        "We also need some other libraries:"
      ],
      "metadata": {
        "id": "gEIoW6gPxyaR"
      }
    },
    {
      "cell_type": "code",
      "source": [
        "!pip install sacremoses"
      ],
      "metadata": {
        "id": "c5reNmcJXDWM",
        "colab": {
          "base_uri": "https://localhost:8080/"
        },
        "outputId": "ec7e475c-389b-4740-905c-11a7bf77f9be"
      },
      "execution_count": null,
      "outputs": [
        {
          "output_type": "stream",
          "name": "stdout",
          "text": [
            "Collecting sacremoses\n",
            "  Downloading sacremoses-0.1.1-py3-none-any.whl.metadata (8.3 kB)\n",
            "Requirement already satisfied: regex in /usr/local/lib/python3.10/dist-packages (from sacremoses) (2024.9.11)\n",
            "Requirement already satisfied: click in /usr/local/lib/python3.10/dist-packages (from sacremoses) (8.1.7)\n",
            "Requirement already satisfied: joblib in /usr/local/lib/python3.10/dist-packages (from sacremoses) (1.4.2)\n",
            "Requirement already satisfied: tqdm in /usr/local/lib/python3.10/dist-packages (from sacremoses) (4.66.5)\n",
            "Downloading sacremoses-0.1.1-py3-none-any.whl (897 kB)\n",
            "\u001b[?25l   \u001b[90m━━━━━━━━━━━━━━━━━━━━━━━━━━━━━━━━━━━━━━━━\u001b[0m \u001b[32m0.0/897.5 kB\u001b[0m \u001b[31m?\u001b[0m eta \u001b[36m-:--:--\u001b[0m\r\u001b[2K   \u001b[91m━━━━━━━━━\u001b[0m\u001b[90m╺\u001b[0m\u001b[90m━━━━━━━━━━━━━━━━━━━━━━━━━━━━━━\u001b[0m \u001b[32m204.8/897.5 kB\u001b[0m \u001b[31m5.9 MB/s\u001b[0m eta \u001b[36m0:00:01\u001b[0m\r\u001b[2K   \u001b[91m━━━━━━━━━━━━━━━━━━━━━━━━━━\u001b[0m\u001b[91m╸\u001b[0m\u001b[90m━━━━━━━━━━━━━\u001b[0m \u001b[32m604.2/897.5 kB\u001b[0m \u001b[31m8.7 MB/s\u001b[0m eta \u001b[36m0:00:01\u001b[0m\r\u001b[2K   \u001b[90m━━━━━━━━━━━━━━━━━━━━━━━━━━━━━━━━━━━━━━━━\u001b[0m \u001b[32m897.5/897.5 kB\u001b[0m \u001b[31m8.8 MB/s\u001b[0m eta \u001b[36m0:00:00\u001b[0m\n",
            "\u001b[?25h\u001b[33mDEPRECATION: omegaconf 2.0.6 has a non-standard dependency specifier PyYAML>=5.1.*. pip 24.1 will enforce this behaviour change. A possible replacement is to upgrade to a newer version of omegaconf or contact the author to suggest that they release a version with a conforming dependency specifiers. Discussion can be found at https://github.com/pypa/pip/issues/12063\u001b[0m\u001b[33m\n",
            "\u001b[0mInstalling collected packages: sacremoses\n",
            "Successfully installed sacremoses-0.1.1\n"
          ]
        }
      ]
    },
    {
      "cell_type": "markdown",
      "source": [
        "# Section 2. Data Preparation\n"
      ],
      "metadata": {
        "id": "kyqONHbtImjl"
      }
    },
    {
      "cell_type": "markdown",
      "source": [
        "Before training we first preprocess the data."
      ],
      "metadata": {
        "id": "us8KXkJPR4cK"
      }
    },
    {
      "cell_type": "code",
      "source": [
        "%cd /content/fairseq/examples/translation"
      ],
      "metadata": {
        "id": "bt53aabEOg61",
        "colab": {
          "base_uri": "https://localhost:8080/"
        },
        "outputId": "730a92ff-06e1-4475-b693-24edcd12c47a"
      },
      "execution_count": null,
      "outputs": [
        {
          "output_type": "stream",
          "name": "stdout",
          "text": [
            "/content/fairseq/examples/translation\n"
          ]
        }
      ]
    },
    {
      "cell_type": "markdown",
      "source": [
        "Let's fetch some sample data.\n",
        "\n",
        "The data are TED talk transcripts (English) and translations (German) from the evaluation campaign [IWSLT 2014](https://aclanthology.org/2014.iwslt-evaluation.1.pdf)."
      ],
      "metadata": {
        "id": "6WBZ9WH0R6JK"
      }
    },
    {
      "cell_type": "code",
      "source": [
        "!wget -nc -O sample_data.zip https://bwsyncandshare.kit.edu/s/7oo2AG8jRriLZKg/download?path=%2F&files=data.zip&downloadStartSecret=tk6qdncox5\n",
        "!unzip sample_data.zip"
      ],
      "metadata": {
        "id": "KKT1IndQ2w9o",
        "colab": {
          "base_uri": "https://localhost:8080/"
        },
        "outputId": "b805da8f-bf92-4773-d888-1053286fe059"
      },
      "execution_count": null,
      "outputs": [
        {
          "output_type": "stream",
          "name": "stdout",
          "text": [
            "--2024-10-23 08:58:01--  https://bwsyncandshare.kit.edu/s/7oo2AG8jRriLZKg/download?path=%2F\n",
            "Resolving bwsyncandshare.kit.edu (bwsyncandshare.kit.edu)... 141.3.135.129, 2a00:1398:b::8d03:8781\n",
            "Connecting to bwsyncandshare.kit.edu (bwsyncandshare.kit.edu)|141.3.135.129|:443... connected.\n",
            "HTTP request sent, awaiting response... 200 OK\n",
            "Length: unspecified [application/zip]\n",
            "Saving to: ‘sample_data.zip’\n",
            "\n",
            "sample_data.zip         [       <=>          ]   2.19G  8.70MB/s    in 3m 33s  \n",
            "\n",
            "2024-10-23 09:01:36 (10.5 MB/s) - ‘sample_data.zip’ saved [2350518515]\n",
            "\n",
            "Archive:  sample_data.zip\n",
            "   creating: sample_data/\n",
            "   creating: sample_data/2014-01/\n",
            "   creating: sample_data/2014-01/scores/\n",
            "   creating: sample_data/2014-01/scores/ar/\n",
            "   creating: sample_data/2014-01/scores/ar/en/\n",
            " extracting: sample_data/2014-01/scores/ar/en/.info  \n",
            " extracting: sample_data/2014-01/scores/ar/en/IWSLT14.TED.tst2010.ar-en.ar.tok_3.0.trans  \n",
            "   creating: sample_data/2014-01/scores/de/\n",
            "   creating: sample_data/2014-01/scores/de/en/\n",
            " extracting: sample_data/2014-01/scores/de/en/.info  \n",
            " extracting: sample_data/2014-01/scores/de/en/IWSLT14.TED.tst2010.de-en.de.tok.trans  \n",
            "   creating: sample_data/2014-01/scores/en/\n",
            "   creating: sample_data/2014-01/scores/en/ar/\n",
            " extracting: sample_data/2014-01/scores/en/ar/.info  \n",
            " extracting: sample_data/2014-01/scores/en/ar/IWSLT14.TED.tst2010.en-ar.en.tok.trans  \n",
            "   creating: sample_data/2014-01/scores/en/de/\n",
            " extracting: sample_data/2014-01/scores/en/de/.info  \n",
            " extracting: sample_data/2014-01/scores/en/de/IWSLT14.TED.tst2010.en-de.en.tok.trans  \n",
            "   creating: sample_data/2014-01/scores/en/es/\n",
            " extracting: sample_data/2014-01/scores/en/es/.info  \n",
            " extracting: sample_data/2014-01/scores/en/es/IWSLT14.TED.tst2010.en-es.en.tok.trans  \n",
            "   creating: sample_data/2014-01/scores/en/fa/\n",
            " extracting: sample_data/2014-01/scores/en/fa/.info  \n",
            " extracting: sample_data/2014-01/scores/en/fa/IWSLT14.TED.tst2010.en-fa.en.tok.trans  \n",
            "   creating: sample_data/2014-01/scores/en/fr/\n",
            " extracting: sample_data/2014-01/scores/en/fr/.info  \n",
            " extracting: sample_data/2014-01/scores/en/fr/IWSLT14.TED.tst2010.en-fr.en.tok.trans  \n",
            "   creating: sample_data/2014-01/scores/en/he/\n",
            " extracting: sample_data/2014-01/scores/en/he/.info  \n",
            " extracting: sample_data/2014-01/scores/en/he/IWSLT14.TED.tst2010.en-he.en.tok.trans  \n",
            "   creating: sample_data/2014-01/scores/en/it/\n",
            " extracting: sample_data/2014-01/scores/en/it/.info  \n",
            " extracting: sample_data/2014-01/scores/en/it/IWSLT14.TED.tst2010.en-it.en.tok.trans  \n",
            "   creating: sample_data/2014-01/scores/en/nl/\n",
            " extracting: sample_data/2014-01/scores/en/nl/.info  \n",
            " extracting: sample_data/2014-01/scores/en/nl/IWSLT14.TED.tst2010.en-nl.en.tok.trans  \n",
            "   creating: sample_data/2014-01/scores/en/pl/\n",
            " extracting: sample_data/2014-01/scores/en/pl/.info  \n",
            " extracting: sample_data/2014-01/scores/en/pl/IWSLT14.TED.tst2010.en-pl.en.tok.trans  \n",
            "   creating: sample_data/2014-01/scores/en/pt-br/\n",
            " extracting: sample_data/2014-01/scores/en/pt-br/.info  \n",
            " extracting: sample_data/2014-01/scores/en/pt-br/IWSLT14.TED.tst2010.en-pt-br.en.tok.trans  \n",
            "   creating: sample_data/2014-01/scores/en/ro/\n",
            " extracting: sample_data/2014-01/scores/en/ro/.info  \n",
            " extracting: sample_data/2014-01/scores/en/ro/IWSLT14.TED.tst2010.en-ro.en.tok.trans  \n",
            "   creating: sample_data/2014-01/scores/en/ru/\n",
            " extracting: sample_data/2014-01/scores/en/ru/.info  \n",
            " extracting: sample_data/2014-01/scores/en/ru/IWSLT14.TED.tst2010.en-ru.en.tok.trans  \n",
            "   creating: sample_data/2014-01/scores/en/sl/\n",
            " extracting: sample_data/2014-01/scores/en/sl/.info  \n",
            " extracting: sample_data/2014-01/scores/en/sl/IWSLT14.TED.dev2012.en-sl.en.tok.trans  \n",
            "   creating: sample_data/2014-01/scores/en/tr/\n",
            " extracting: sample_data/2014-01/scores/en/tr/.info  \n",
            " extracting: sample_data/2014-01/scores/en/tr/IWSLT14.TED.tst2010.en-tr.en.tok.trans  \n",
            "   creating: sample_data/2014-01/scores/en/zh/\n",
            " extracting: sample_data/2014-01/scores/en/zh/.info  \n",
            " extracting: sample_data/2014-01/scores/en/zh/IWSLT14.TED.tst2010.en-zh.en.tok.trans  \n",
            "   creating: sample_data/2014-01/scores/es/\n",
            "   creating: sample_data/2014-01/scores/es/en/\n",
            " extracting: sample_data/2014-01/scores/es/en/.info  \n",
            " extracting: sample_data/2014-01/scores/es/en/IWSLT14.TED.tst2010.es-en.es.tok.trans  \n",
            "   creating: sample_data/2014-01/scores/fa/\n",
            "   creating: sample_data/2014-01/scores/fa/en/\n",
            " extracting: sample_data/2014-01/scores/fa/en/.info  \n",
            " extracting: sample_data/2014-01/scores/fa/en/IWSLT14.TED.tst2010.fa-en.fa.tok.trans  \n",
            "   creating: sample_data/2014-01/scores/he/\n",
            "   creating: sample_data/2014-01/scores/he/en/\n",
            " extracting: sample_data/2014-01/scores/he/en/.info  \n",
            " extracting: sample_data/2014-01/scores/he/en/IWSLT14.TED.tst2010.he-en.he.tok.trans  \n",
            "   creating: sample_data/2014-01/scores/it/\n",
            "   creating: sample_data/2014-01/scores/it/en/\n",
            " extracting: sample_data/2014-01/scores/it/en/.info  \n",
            " extracting: sample_data/2014-01/scores/it/en/IWSLT14.TED.tst2010.it-en.it.tok.trans  \n",
            "   creating: sample_data/2014-01/scores/nl/\n",
            "   creating: sample_data/2014-01/scores/nl/en/\n",
            " extracting: sample_data/2014-01/scores/nl/en/.info  \n",
            " extracting: sample_data/2014-01/scores/nl/en/IWSLT14.TED.tst2010.nl-en.nl.tok.trans  \n",
            "   creating: sample_data/2014-01/scores/pl/\n",
            "   creating: sample_data/2014-01/scores/pl/en/\n",
            " extracting: sample_data/2014-01/scores/pl/en/.info  \n",
            " extracting: sample_data/2014-01/scores/pl/en/IWSLT14.TED.tst2010.pl-en.pl.tok.trans  \n",
            "   creating: sample_data/2014-01/scores/pt-br/\n",
            "   creating: sample_data/2014-01/scores/pt-br/en/\n",
            " extracting: sample_data/2014-01/scores/pt-br/en/.info  \n",
            " extracting: sample_data/2014-01/scores/pt-br/en/IWSLT14.TED.tst2010.pt-br-en.pt-br.tok.trans  \n",
            "   creating: sample_data/2014-01/scores/ro/\n",
            "   creating: sample_data/2014-01/scores/ro/en/\n",
            " extracting: sample_data/2014-01/scores/ro/en/.info  \n",
            " extracting: sample_data/2014-01/scores/ro/en/IWSLT14.TED.tst2010.ro-en.ro.tok.trans  \n",
            "   creating: sample_data/2014-01/scores/ru/\n",
            "   creating: sample_data/2014-01/scores/ru/en/\n",
            " extracting: sample_data/2014-01/scores/ru/en/.info  \n",
            " extracting: sample_data/2014-01/scores/ru/en/IWSLT14.TED.tst2010.ru-en.ru.tok.trans  \n",
            "   creating: sample_data/2014-01/scores/sl/\n",
            "   creating: sample_data/2014-01/scores/sl/en/\n",
            " extracting: sample_data/2014-01/scores/sl/en/.info  \n",
            " extracting: sample_data/2014-01/scores/sl/en/IWSLT14.TED.dev2012.sl-en.sl.tok.trans  \n",
            "   creating: sample_data/2014-01/scores/tr/\n",
            "   creating: sample_data/2014-01/scores/tr/en/\n",
            " extracting: sample_data/2014-01/scores/tr/en/.info  \n",
            " extracting: sample_data/2014-01/scores/tr/en/IWSLT14.TED.tst2010.tr-en.tr.tok.trans  \n",
            "   creating: sample_data/2014-01/scores/zh/\n",
            "   creating: sample_data/2014-01/scores/zh/en/\n",
            " extracting: sample_data/2014-01/scores/zh/en/.info  \n",
            " extracting: sample_data/2014-01/scores/zh/en/IWSLT14.TED.tst2010.zh-en.zh.tok.trans  \n",
            " extracting: sample_data/2014-01/scores.html  \n",
            "   creating: sample_data/2014-01/subeval_files/\n",
            " extracting: sample_data/2014-01/subeval_files/IWSLT14-HE-RELEASE.zip  \n",
            " extracting: sample_data/2014-01/subjeval.html  \n",
            "   creating: sample_data/2014-01/texts/\n",
            "   creating: sample_data/2014-01/texts/ar/\n",
            "   creating: sample_data/2014-01/texts/ar/en/\n",
            " extracting: sample_data/2014-01/texts/ar/en/.eval  \n",
            " extracting: sample_data/2014-01/texts/ar/en/.info  \n",
            " extracting: sample_data/2014-01/texts/ar/en/ar-en.tgz  \n",
            "   creating: sample_data/2014-01/texts/de/\n",
            "   creating: sample_data/2014-01/texts/de/en/\n",
            " extracting: sample_data/2014-01/texts/de/en/.eval  \n",
            " extracting: sample_data/2014-01/texts/de/en/.info  \n",
            "   creating: sample_data/2014-01/texts/de/en/de-en/\n",
            " extracting: sample_data/2014-01/texts/de/en/de-en/IWSLT14.TED.dev2010.de-en.de.xml  \n",
            " extracting: sample_data/2014-01/texts/de/en/de-en/IWSLT14.TED.dev2010.de-en.en.xml  \n",
            " extracting: sample_data/2014-01/texts/de/en/de-en/IWSLT14.TED.tst2010.de-en.de.xml  \n",
            " extracting: sample_data/2014-01/texts/de/en/de-en/IWSLT14.TED.tst2010.de-en.en.xml  \n",
            " extracting: sample_data/2014-01/texts/de/en/de-en/IWSLT14.TED.tst2011.de-en.de.xml  \n",
            " extracting: sample_data/2014-01/texts/de/en/de-en/IWSLT14.TED.tst2011.de-en.en.xml  \n",
            " extracting: sample_data/2014-01/texts/de/en/de-en/IWSLT14.TED.tst2012.de-en.de.xml  \n",
            " extracting: sample_data/2014-01/texts/de/en/de-en/IWSLT14.TED.tst2012.de-en.en.xml  \n",
            " extracting: sample_data/2014-01/texts/de/en/de-en/IWSLT14.TEDX.dev2012.de-en.de.xml  \n",
            " extracting: sample_data/2014-01/texts/de/en/de-en/IWSLT14.TEDX.dev2012.de-en.en.xml  \n",
            " extracting: sample_data/2014-01/texts/de/en/de-en/README  \n",
            " extracting: sample_data/2014-01/texts/de/en/de-en/train.en  \n",
            " extracting: sample_data/2014-01/texts/de/en/de-en/train.tags.de-en.de  \n",
            " extracting: sample_data/2014-01/texts/de/en/de-en/train.tags.de-en.en  \n",
            " extracting: sample_data/2014-01/texts/de/en/de-en.tgz  \n",
            "   creating: sample_data/2014-01/texts/en/\n",
            "   creating: sample_data/2014-01/texts/en/ar/\n",
            " extracting: sample_data/2014-01/texts/en/ar/.eval  \n",
            " extracting: sample_data/2014-01/texts/en/ar/.info  \n",
            " extracting: sample_data/2014-01/texts/en/ar/en-ar.tgz  \n",
            "   creating: sample_data/2014-01/texts/en/de/\n",
            " extracting: sample_data/2014-01/texts/en/de/.eval  \n",
            " extracting: sample_data/2014-01/texts/en/de/.info  \n",
            " extracting: sample_data/2014-01/texts/en/de/en-de.tgz  \n",
            "   creating: sample_data/2014-01/texts/en/es/\n",
            " extracting: sample_data/2014-01/texts/en/es/.eval  \n",
            " extracting: sample_data/2014-01/texts/en/es/.info  \n",
            " extracting: sample_data/2014-01/texts/en/es/en-es.tgz  \n",
            "   creating: sample_data/2014-01/texts/en/fa/\n",
            " extracting: sample_data/2014-01/texts/en/fa/.eval  \n",
            " extracting: sample_data/2014-01/texts/en/fa/.info  \n",
            " extracting: sample_data/2014-01/texts/en/fa/en-fa.tgz  \n",
            "   creating: sample_data/2014-01/texts/en/fr/\n",
            " extracting: sample_data/2014-01/texts/en/fr/.eval  \n",
            " extracting: sample_data/2014-01/texts/en/fr/.info  \n",
            " extracting: sample_data/2014-01/texts/en/fr/en-fr.tgz  \n",
            "   creating: sample_data/2014-01/texts/en/he/\n",
            " extracting: sample_data/2014-01/texts/en/he/.eval  \n",
            " extracting: sample_data/2014-01/texts/en/he/.info  \n",
            " extracting: sample_data/2014-01/texts/en/he/en-he.tgz  \n",
            "   creating: sample_data/2014-01/texts/en/it/\n",
            " extracting: sample_data/2014-01/texts/en/it/.eval  \n",
            " extracting: sample_data/2014-01/texts/en/it/.info  \n",
            " extracting: sample_data/2014-01/texts/en/it/en-it.tgz  \n",
            "   creating: sample_data/2014-01/texts/en/nl/\n",
            " extracting: sample_data/2014-01/texts/en/nl/.eval  \n",
            " extracting: sample_data/2014-01/texts/en/nl/.info  \n",
            " extracting: sample_data/2014-01/texts/en/nl/en-nl.tgz  \n",
            "   creating: sample_data/2014-01/texts/en/pl/\n",
            " extracting: sample_data/2014-01/texts/en/pl/.eval  \n",
            " extracting: sample_data/2014-01/texts/en/pl/.info  \n",
            " extracting: sample_data/2014-01/texts/en/pl/en-pl.tgz  \n",
            "   creating: sample_data/2014-01/texts/en/pt-br/\n",
            " extracting: sample_data/2014-01/texts/en/pt-br/.eval  \n",
            " extracting: sample_data/2014-01/texts/en/pt-br/.info  \n",
            " extracting: sample_data/2014-01/texts/en/pt-br/en-pt-br.tgz  \n",
            "   creating: sample_data/2014-01/texts/en/ro/\n",
            " extracting: sample_data/2014-01/texts/en/ro/.eval  \n",
            " extracting: sample_data/2014-01/texts/en/ro/.info  \n",
            " extracting: sample_data/2014-01/texts/en/ro/en-ro.tgz  \n",
            "   creating: sample_data/2014-01/texts/en/ru/\n",
            " extracting: sample_data/2014-01/texts/en/ru/.eval  \n",
            " extracting: sample_data/2014-01/texts/en/ru/.info  \n",
            " extracting: sample_data/2014-01/texts/en/ru/en-ru.tgz  \n",
            "   creating: sample_data/2014-01/texts/en/sl/\n",
            " extracting: sample_data/2014-01/texts/en/sl/.eval  \n",
            " extracting: sample_data/2014-01/texts/en/sl/.info  \n",
            " extracting: sample_data/2014-01/texts/en/sl/en-sl.tgz  \n",
            "   creating: sample_data/2014-01/texts/en/tr/\n",
            " extracting: sample_data/2014-01/texts/en/tr/.eval  \n",
            " extracting: sample_data/2014-01/texts/en/tr/.info  \n",
            " extracting: sample_data/2014-01/texts/en/tr/en-tr.tgz  \n",
            "   creating: sample_data/2014-01/texts/en/zh/\n",
            " extracting: sample_data/2014-01/texts/en/zh/.eval  \n",
            " extracting: sample_data/2014-01/texts/en/zh/.info  \n",
            " extracting: sample_data/2014-01/texts/en/zh/en-zh.tgz  \n",
            "   creating: sample_data/2014-01/texts/es/\n",
            "   creating: sample_data/2014-01/texts/es/en/\n",
            " extracting: sample_data/2014-01/texts/es/en/.eval  \n",
            " extracting: sample_data/2014-01/texts/es/en/.info  \n",
            " extracting: sample_data/2014-01/texts/es/en/es-en.tgz  \n",
            "   creating: sample_data/2014-01/texts/fa/\n",
            "   creating: sample_data/2014-01/texts/fa/en/\n",
            " extracting: sample_data/2014-01/texts/fa/en/.eval  \n",
            " extracting: sample_data/2014-01/texts/fa/en/.info  \n",
            " extracting: sample_data/2014-01/texts/fa/en/fa-en.tgz  \n",
            "   creating: sample_data/2014-01/texts/he/\n",
            "   creating: sample_data/2014-01/texts/he/en/\n",
            " extracting: sample_data/2014-01/texts/he/en/.eval  \n",
            " extracting: sample_data/2014-01/texts/he/en/.info  \n",
            " extracting: sample_data/2014-01/texts/he/en/he-en.tgz  \n",
            "   creating: sample_data/2014-01/texts/it/\n",
            "   creating: sample_data/2014-01/texts/it/en/\n",
            " extracting: sample_data/2014-01/texts/it/en/.eval  \n",
            " extracting: sample_data/2014-01/texts/it/en/.info  \n",
            " extracting: sample_data/2014-01/texts/it/en/it-en.tgz  \n",
            "   creating: sample_data/2014-01/texts/nl/\n",
            "   creating: sample_data/2014-01/texts/nl/en/\n",
            " extracting: sample_data/2014-01/texts/nl/en/.eval  \n",
            " extracting: sample_data/2014-01/texts/nl/en/.info  \n",
            " extracting: sample_data/2014-01/texts/nl/en/nl-en.tgz  \n",
            "   creating: sample_data/2014-01/texts/pl/\n",
            "   creating: sample_data/2014-01/texts/pl/en/\n",
            " extracting: sample_data/2014-01/texts/pl/en/.eval  \n",
            " extracting: sample_data/2014-01/texts/pl/en/.info  \n",
            " extracting: sample_data/2014-01/texts/pl/en/pl-en.tgz  \n",
            "   creating: sample_data/2014-01/texts/pt-br/\n",
            "   creating: sample_data/2014-01/texts/pt-br/en/\n",
            " extracting: sample_data/2014-01/texts/pt-br/en/.eval  \n",
            " extracting: sample_data/2014-01/texts/pt-br/en/.info  \n",
            " extracting: sample_data/2014-01/texts/pt-br/en/pt-br-en.tgz  \n",
            "   creating: sample_data/2014-01/texts/ro/\n",
            "   creating: sample_data/2014-01/texts/ro/en/\n",
            " extracting: sample_data/2014-01/texts/ro/en/.eval  \n",
            " extracting: sample_data/2014-01/texts/ro/en/.info  \n",
            " extracting: sample_data/2014-01/texts/ro/en/ro-en.tgz  \n",
            "   creating: sample_data/2014-01/texts/ru/\n",
            "   creating: sample_data/2014-01/texts/ru/en/\n",
            " extracting: sample_data/2014-01/texts/ru/en/.eval  \n",
            " extracting: sample_data/2014-01/texts/ru/en/.info  \n",
            " extracting: sample_data/2014-01/texts/ru/en/ru-en.tgz  \n",
            "   creating: sample_data/2014-01/texts/sl/\n",
            "   creating: sample_data/2014-01/texts/sl/en/\n",
            " extracting: sample_data/2014-01/texts/sl/en/.eval  \n",
            " extracting: sample_data/2014-01/texts/sl/en/.info  \n",
            " extracting: sample_data/2014-01/texts/sl/en/sl-en.tgz  \n",
            "   creating: sample_data/2014-01/texts/tr/\n",
            "   creating: sample_data/2014-01/texts/tr/en/\n",
            " extracting: sample_data/2014-01/texts/tr/en/.eval  \n",
            " extracting: sample_data/2014-01/texts/tr/en/.info  \n",
            " extracting: sample_data/2014-01/texts/tr/en/tr-en.tgz  \n",
            "   creating: sample_data/2014-01/texts/zh/\n",
            "   creating: sample_data/2014-01/texts/zh/en/\n",
            " extracting: sample_data/2014-01/texts/zh/en/.eval  \n",
            " extracting: sample_data/2014-01/texts/zh/en/.info  \n",
            " extracting: sample_data/2014-01/texts/zh/en/zh-en.tgz  \n",
            " extracting: sample_data/2014-01/texts.html  \n",
            "   creating: sample_data/2014-01/texts_last/\n",
            "   creating: sample_data/2014-01/texts_last/ar/\n",
            "   creating: sample_data/2014-01/texts_last/ar/en/\n",
            " extracting: sample_data/2014-01/texts_last/ar/en/.eval  \n",
            " extracting: sample_data/2014-01/texts_last/ar/en/.info  \n",
            " extracting: sample_data/2014-01/texts_last/ar/en/ar-en.tgz  \n",
            "   creating: sample_data/2014-01/texts_last/de/\n",
            "   creating: sample_data/2014-01/texts_last/de/en/\n",
            " extracting: sample_data/2014-01/texts_last/de/en/.eval  \n",
            " extracting: sample_data/2014-01/texts_last/de/en/.info  \n",
            "   creating: sample_data/2014-01/texts_last/de/en/de-en/\n",
            " extracting: sample_data/2014-01/texts_last/de/en/de-en/IWSLT14.TED.dev2010.de-en.de.xml  \n",
            " extracting: sample_data/2014-01/texts_last/de/en/de-en/IWSLT14.TED.dev2010.de-en.en.xml  \n",
            " extracting: sample_data/2014-01/texts_last/de/en/de-en/IWSLT14.TED.tst2010.de-en.de.xml  \n",
            " extracting: sample_data/2014-01/texts_last/de/en/de-en/IWSLT14.TED.tst2010.de-en.en.xml  \n",
            " extracting: sample_data/2014-01/texts_last/de/en/de-en/IWSLT14.TED.tst2011.de-en.de.xml  \n",
            " extracting: sample_data/2014-01/texts_last/de/en/de-en/IWSLT14.TED.tst2011.de-en.en.xml  \n",
            " extracting: sample_data/2014-01/texts_last/de/en/de-en/IWSLT14.TED.tst2012.de-en.de.xml  \n",
            " extracting: sample_data/2014-01/texts_last/de/en/de-en/IWSLT14.TED.tst2012.de-en.en.xml  \n",
            " extracting: sample_data/2014-01/texts_last/de/en/de-en/IWSLT14.TEDX.dev2012.de-en.de.xml  \n",
            " extracting: sample_data/2014-01/texts_last/de/en/de-en/IWSLT14.TEDX.dev2012.de-en.en.xml  \n",
            " extracting: sample_data/2014-01/texts_last/de/en/de-en/README  \n",
            " extracting: sample_data/2014-01/texts_last/de/en/de-en/train.en  \n",
            " extracting: sample_data/2014-01/texts_last/de/en/de-en/train.tags.de-en.de  \n",
            " extracting: sample_data/2014-01/texts_last/de/en/de-en/train.tags.de-en.en  \n",
            " extracting: sample_data/2014-01/texts_last/de/en/de-en.tgz  \n",
            "   creating: sample_data/2014-01/texts_last/en/\n",
            "   creating: sample_data/2014-01/texts_last/en/ar/\n",
            " extracting: sample_data/2014-01/texts_last/en/ar/.eval  \n",
            " extracting: sample_data/2014-01/texts_last/en/ar/.info  \n",
            " extracting: sample_data/2014-01/texts_last/en/ar/en-ar.tgz  \n",
            "   creating: sample_data/2014-01/texts_last/en/de/\n",
            " extracting: sample_data/2014-01/texts_last/en/de/.eval  \n",
            " extracting: sample_data/2014-01/texts_last/en/de/.info  \n",
            " extracting: sample_data/2014-01/texts_last/en/de/en-de.tgz  \n",
            "   creating: sample_data/2014-01/texts_last/en/es/\n",
            " extracting: sample_data/2014-01/texts_last/en/es/.eval  \n",
            " extracting: sample_data/2014-01/texts_last/en/es/.info  \n",
            " extracting: sample_data/2014-01/texts_last/en/es/en-es.tgz  \n",
            "   creating: sample_data/2014-01/texts_last/en/fa/\n",
            " extracting: sample_data/2014-01/texts_last/en/fa/.eval  \n",
            " extracting: sample_data/2014-01/texts_last/en/fa/.info  \n",
            " extracting: sample_data/2014-01/texts_last/en/fa/en-fa.tgz  \n",
            "   creating: sample_data/2014-01/texts_last/en/fr/\n",
            " extracting: sample_data/2014-01/texts_last/en/fr/.eval  \n",
            " extracting: sample_data/2014-01/texts_last/en/fr/.info  \n",
            " extracting: sample_data/2014-01/texts_last/en/fr/en-fr.tgz  \n",
            "   creating: sample_data/2014-01/texts_last/en/he/\n",
            " extracting: sample_data/2014-01/texts_last/en/he/.eval  \n",
            " extracting: sample_data/2014-01/texts_last/en/he/.info  \n",
            " extracting: sample_data/2014-01/texts_last/en/he/en-he.tgz  \n",
            "   creating: sample_data/2014-01/texts_last/en/it/\n",
            " extracting: sample_data/2014-01/texts_last/en/it/.eval  \n",
            " extracting: sample_data/2014-01/texts_last/en/it/.info  \n",
            " extracting: sample_data/2014-01/texts_last/en/it/en-it.tgz  \n",
            "   creating: sample_data/2014-01/texts_last/en/nl/\n",
            " extracting: sample_data/2014-01/texts_last/en/nl/.eval  \n",
            " extracting: sample_data/2014-01/texts_last/en/nl/.info  \n",
            " extracting: sample_data/2014-01/texts_last/en/nl/en-nl.tgz  \n",
            "   creating: sample_data/2014-01/texts_last/en/pl/\n",
            " extracting: sample_data/2014-01/texts_last/en/pl/.eval  \n",
            " extracting: sample_data/2014-01/texts_last/en/pl/.info  \n",
            " extracting: sample_data/2014-01/texts_last/en/pl/en-pl.tgz  \n",
            "   creating: sample_data/2014-01/texts_last/en/pt-br/\n",
            " extracting: sample_data/2014-01/texts_last/en/pt-br/.eval  \n",
            " extracting: sample_data/2014-01/texts_last/en/pt-br/.info  \n",
            " extracting: sample_data/2014-01/texts_last/en/pt-br/en-pt-br.tgz  \n",
            "   creating: sample_data/2014-01/texts_last/en/ro/\n",
            " extracting: sample_data/2014-01/texts_last/en/ro/.eval  \n",
            " extracting: sample_data/2014-01/texts_last/en/ro/.info  \n",
            " extracting: sample_data/2014-01/texts_last/en/ro/en-ro.tgz  \n",
            "   creating: sample_data/2014-01/texts_last/en/ru/\n",
            " extracting: sample_data/2014-01/texts_last/en/ru/.eval  \n",
            " extracting: sample_data/2014-01/texts_last/en/ru/.info  \n",
            " extracting: sample_data/2014-01/texts_last/en/ru/en-ru.tgz  \n",
            "   creating: sample_data/2014-01/texts_last/en/sl/\n",
            " extracting: sample_data/2014-01/texts_last/en/sl/.eval  \n",
            " extracting: sample_data/2014-01/texts_last/en/sl/.info  \n",
            " extracting: sample_data/2014-01/texts_last/en/sl/en-sl.tgz  \n",
            "   creating: sample_data/2014-01/texts_last/en/tr/\n",
            " extracting: sample_data/2014-01/texts_last/en/tr/.eval  \n",
            " extracting: sample_data/2014-01/texts_last/en/tr/.info  \n",
            " extracting: sample_data/2014-01/texts_last/en/tr/en-tr.tgz  \n",
            "   creating: sample_data/2014-01/texts_last/en/zh/\n",
            " extracting: sample_data/2014-01/texts_last/en/zh/.eval  \n",
            " extracting: sample_data/2014-01/texts_last/en/zh/.info  \n",
            " extracting: sample_data/2014-01/texts_last/en/zh/en-zh.tgz  \n",
            "   creating: sample_data/2014-01/texts_last/es/\n",
            "   creating: sample_data/2014-01/texts_last/es/en/\n",
            " extracting: sample_data/2014-01/texts_last/es/en/.eval  \n",
            " extracting: sample_data/2014-01/texts_last/es/en/.info  \n",
            " extracting: sample_data/2014-01/texts_last/es/en/es-en.tgz  \n",
            "   creating: sample_data/2014-01/texts_last/fa/\n",
            "   creating: sample_data/2014-01/texts_last/fa/en/\n",
            " extracting: sample_data/2014-01/texts_last/fa/en/.eval  \n",
            " extracting: sample_data/2014-01/texts_last/fa/en/.info  \n",
            " extracting: sample_data/2014-01/texts_last/fa/en/fa-en.tgz  \n",
            "   creating: sample_data/2014-01/texts_last/he/\n",
            "   creating: sample_data/2014-01/texts_last/he/en/\n",
            " extracting: sample_data/2014-01/texts_last/he/en/.eval  \n",
            " extracting: sample_data/2014-01/texts_last/he/en/.info  \n",
            " extracting: sample_data/2014-01/texts_last/he/en/he-en.tgz  \n",
            "   creating: sample_data/2014-01/texts_last/it/\n",
            "   creating: sample_data/2014-01/texts_last/it/en/\n",
            " extracting: sample_data/2014-01/texts_last/it/en/.eval  \n",
            " extracting: sample_data/2014-01/texts_last/it/en/.info  \n",
            " extracting: sample_data/2014-01/texts_last/it/en/it-en.tgz  \n",
            "   creating: sample_data/2014-01/texts_last/nl/\n",
            "   creating: sample_data/2014-01/texts_last/nl/en/\n",
            " extracting: sample_data/2014-01/texts_last/nl/en/.eval  \n",
            " extracting: sample_data/2014-01/texts_last/nl/en/.info  \n",
            " extracting: sample_data/2014-01/texts_last/nl/en/nl-en.tgz  \n",
            "   creating: sample_data/2014-01/texts_last/pl/\n",
            "   creating: sample_data/2014-01/texts_last/pl/en/\n",
            " extracting: sample_data/2014-01/texts_last/pl/en/.eval  \n",
            " extracting: sample_data/2014-01/texts_last/pl/en/.info  \n",
            " extracting: sample_data/2014-01/texts_last/pl/en/pl-en.tgz  \n",
            "   creating: sample_data/2014-01/texts_last/pt-br/\n",
            "   creating: sample_data/2014-01/texts_last/pt-br/en/\n",
            " extracting: sample_data/2014-01/texts_last/pt-br/en/.eval  \n",
            " extracting: sample_data/2014-01/texts_last/pt-br/en/.info  \n",
            " extracting: sample_data/2014-01/texts_last/pt-br/en/pt-br-en.tgz  \n",
            "   creating: sample_data/2014-01/texts_last/ro/\n",
            "   creating: sample_data/2014-01/texts_last/ro/en/\n",
            " extracting: sample_data/2014-01/texts_last/ro/en/.eval  \n",
            " extracting: sample_data/2014-01/texts_last/ro/en/.info  \n",
            " extracting: sample_data/2014-01/texts_last/ro/en/ro-en.tgz  \n",
            "   creating: sample_data/2014-01/texts_last/ru/\n",
            "   creating: sample_data/2014-01/texts_last/ru/en/\n",
            " extracting: sample_data/2014-01/texts_last/ru/en/.eval  \n",
            " extracting: sample_data/2014-01/texts_last/ru/en/.info  \n",
            " extracting: sample_data/2014-01/texts_last/ru/en/ru-en.tgz  \n",
            "   creating: sample_data/2014-01/texts_last/sl/\n",
            "   creating: sample_data/2014-01/texts_last/sl/en/\n",
            " extracting: sample_data/2014-01/texts_last/sl/en/.eval  \n",
            " extracting: sample_data/2014-01/texts_last/sl/en/.info  \n",
            " extracting: sample_data/2014-01/texts_last/sl/en/sl-en.tgz  \n",
            "   creating: sample_data/2014-01/texts_last/tr/\n",
            "   creating: sample_data/2014-01/texts_last/tr/en/\n",
            " extracting: sample_data/2014-01/texts_last/tr/en/.eval  \n",
            " extracting: sample_data/2014-01/texts_last/tr/en/.info  \n",
            " extracting: sample_data/2014-01/texts_last/tr/en/tr-en.tgz  \n",
            "   creating: sample_data/2014-01/texts_last/zh/\n",
            "   creating: sample_data/2014-01/texts_last/zh/en/\n",
            " extracting: sample_data/2014-01/texts_last/zh/en/.eval  \n",
            " extracting: sample_data/2014-01/texts_last/zh/en/.info  \n",
            " extracting: sample_data/2014-01/texts_last/zh/en/zh-en.tgz  \n",
            "   creating: sample_data/2014-01/tools/\n",
            " extracting: sample_data/2014-01/tools.html  \n",
            " extracting: sample_data/2014-01.tgz  \n",
            " extracting: sample_data/data.zip    \n",
            " extracting: sample_data/dev.de-en.de  \n",
            " extracting: sample_data/dev.de-en.en  \n",
            " extracting: sample_data/train.de-en.de  \n",
            " extracting: sample_data/train.de-en.en  \n",
            " extracting: sample_data/tst.de-en.de  \n",
            " extracting: sample_data/tst.de-en.en  \n"
          ]
        }
      ]
    },
    {
      "cell_type": "code",
      "source": [
        "# List files in downloaded `sample_data`\n",
        "!ls -ltr sample_data\n",
        "\n",
        "!echo -e \"\\nFirst lines of English:\\n\"\n",
        "!head sample_data/train.de-en.en\n",
        "!echo -e \"\\nFirst lines of German:\\n\"\n",
        "!head sample_data/train.de-en.de"
      ],
      "metadata": {
        "id": "7Z1Fm_9kRkpi",
        "colab": {
          "base_uri": "https://localhost:8080/"
        },
        "outputId": "5b9ec91a-cb39-4c92-f725-e82ab73466be"
      },
      "execution_count": null,
      "outputs": [
        {
          "output_type": "stream",
          "name": "stdout",
          "text": [
            "total 1116788\n",
            "-rw-r--r-- 1 root root     199632 Oct 24  2022 dev.de-en.en\n",
            "-rw-r--r-- 1 root root     223089 Oct 24  2022 dev.de-en.de\n",
            "-rw-r--r-- 1 root root     418647 Oct 24  2022 tst.de-en.en\n",
            "-rw-r--r-- 1 root root     473219 Oct 24  2022 tst.de-en.de\n",
            "-rw-r--r-- 1 root root   18496311 Oct 24  2022 train.de-en.de\n",
            "-rw-r--r-- 1 root root   16663248 Oct 24  2022 train.de-en.en\n",
            "-rw-r--r-- 1 root root   13535860 Oct 24  2022 data.zip\n",
            "-rw-r--r-- 1 root root 1093557157 Feb 29  2024 2014-01.tgz\n",
            "drwxr-xr-x 7 root root       4096 Oct 23 08:58 2014-01\n",
            "\n",
            "First lines of English:\n",
            "\n",
            "It can be a very complicated thing, the ocean.\n",
            "And it can be a very complicated thing, what human health is.\n",
            "And bringing those two together might seem a very daunting task, but what I'm going to try to say is that even in that complexity, there's some simple themes that I think, if we understand, we can really move forward.\n",
            "And those simple themes aren't really themes about the complex science of what's going on, but things that we all pretty well know.\n",
            "And I'm going to start with this one: If momma ain't happy, ain't nobody happy.\n",
            "We know that, right? We've experienced that.\n",
            "And if we just take that and we build from there, then we can go to the next step, which is that if the ocean ain't happy, ain't nobody happy.\n",
            "That's the theme of my talk.\n",
            "And we're making the ocean pretty unhappy in a lot of different ways.\n",
            "This is a shot of Cannery Row in 1932.\n",
            "\n",
            "First lines of German:\n",
            "\n",
            "Das Meer kann ziemlich kompliziert sein.\n",
            "Und was menschliche Gesundheit ist, kann auch ziemlich kompliziert sein.\n",
            "Und diese zwei zusammen zu bringen, erscheint vielleicht wie eine gewaltige Aufgabe. Aber was ich Ihnen zu sagen versuche ist, dass es trotz dieser Komplexität einige einfache Themen gibt, von denen ich denke, wenn wir diese verstehen, können wir uns wirklich weiter entwickeln.\n",
            "Und diese einfachen Themen sind eigentlich keine komplexen wissenschaftlichen Zusammenhänge, sondern Tatsachen,die wir alle gut kennen.\n",
            "Und ich werde mit dieser hier anfangen: Wenn die Mama nicht glücklich ist, ist keiner glücklich.\n",
            "Kennen wir das nicht alle? Das haben wir alle schon erlebt.\n",
            "Wenn wir das nehmen und darauf aufbauen, dann können wir einen Schritt weiter gehen: Wenn das Meer nicht glücklich ist, ist keiner glücklich.\n",
            "Darum geht es in meinem Vortrag.\n",
            "Wir machen das Meer auf viele verschiedene Arten ziemlich unglücklich.\n",
            "Das ist ein Bild der Cannery Row von 1932.\n"
          ]
        }
      ]
    },
    {
      "cell_type": "markdown",
      "source": [
        "We segment the text into *subwords* using *byte pair encoding* [(BPE; Sennrich et al. 2017)](https://aclanthology.org/P16-1162.pdf).\n",
        "\n",
        "We will use the [sentencepiece](https://github.com/google/sentencepiece) package to segment the subwords.\n",
        "\n",
        "\n"
      ],
      "metadata": {
        "id": "yVtlgjf66aBb"
      }
    },
    {
      "cell_type": "code",
      "source": [
        "!pip install sentencepiece"
      ],
      "metadata": {
        "id": "XTQSE6QN4y70",
        "colab": {
          "base_uri": "https://localhost:8080/"
        },
        "outputId": "a97b1605-02f7-4bba-bc20-b9d6e077d44b"
      },
      "execution_count": null,
      "outputs": [
        {
          "output_type": "stream",
          "name": "stdout",
          "text": [
            "Requirement already satisfied: sentencepiece in /usr/local/lib/python3.10/dist-packages (0.2.0)\n",
            "\u001b[33mDEPRECATION: omegaconf 2.0.6 has a non-standard dependency specifier PyYAML>=5.1.*. pip 24.1 will enforce this behaviour change. A possible replacement is to upgrade to a newer version of omegaconf or contact the author to suggest that they release a version with a conforming dependency specifiers. Discussion can be found at https://github.com/pypa/pip/issues/12063\u001b[0m\u001b[33m\n",
            "\u001b[0m"
          ]
        }
      ]
    },
    {
      "cell_type": "code",
      "source": [
        "import sentencepiece as spm\n",
        "\n",
        "spm.SentencePieceTrainer.train(input=\"sample_data/train.de-en.en,sample_data/train.de-en.de\",\n",
        "                               model_prefix=\"bpe\",\n",
        "                               vocab_size=10000)\n",
        "\n",
        "print('Finished training sentencepiece model.')"
      ],
      "metadata": {
        "id": "ZOTmL8q65HRd",
        "colab": {
          "base_uri": "https://localhost:8080/"
        },
        "outputId": "b28798a0-2f9c-48a6-b0a4-8390bc3f3ac6"
      },
      "execution_count": null,
      "outputs": [
        {
          "output_type": "stream",
          "name": "stdout",
          "text": [
            "Finished training sentencepiece model.\n"
          ]
        }
      ]
    },
    {
      "cell_type": "markdown",
      "source": [
        "Now we use the trained segmentation model to preprocess the sentences from train/dev/test sets:"
      ],
      "metadata": {
        "id": "ORp65AXDDAsD"
      }
    },
    {
      "cell_type": "code",
      "source": [
        "# Load the trained sentencepiece model\n",
        "spm_model = spm.SentencePieceProcessor(model_file=\"bpe.model\")\n",
        "\n",
        "for partition in [\"train\", \"dev\", \"tst\"]:\n",
        "    for lang in [\"de\", \"en\"]:\n",
        "        f_out = open(f\"sample_data/spm.{partition}.de-en.{lang}\", \"w\")\n",
        "\n",
        "        with open(f\"sample_data/{partition}.de-en.{lang}\", \"r\") as f_in:\n",
        "            for line_idx, line in enumerate(f_in.readlines()):\n",
        "                # Segmented into subwords\n",
        "                line_segmented = spm_model.encode(line.strip(), out_type=str)\n",
        "                # Join the subwords into a string\n",
        "                line_segmented = \" \".join(line_segmented)\n",
        "                f_out.write(line_segmented + \"\\n\")\n",
        "\n",
        "        f_out.close()"
      ],
      "metadata": {
        "id": "nvl3Idj564CO"
      },
      "execution_count": null,
      "outputs": []
    },
    {
      "cell_type": "markdown",
      "source": [
        "Now check the first lines of the segmented sentences.\n",
        "\n",
        "❓ Do you observe any patterns?"
      ],
      "metadata": {
        "id": "YOhiTShpjn2x"
      }
    },
    {
      "cell_type": "code",
      "source": [
        "# Your code here"
      ],
      "metadata": {
        "id": "herwQ6_bjlvw"
      },
      "execution_count": null,
      "outputs": []
    },
    {
      "cell_type": "markdown",
      "source": [
        "❓ What would be the problem when we use whole words instead of subwords?"
      ],
      "metadata": {
        "id": "zdUgnkabjDVe"
      }
    },
    {
      "cell_type": "markdown",
      "source": [
        "Now, we will binarize the data for training with fairseq."
      ],
      "metadata": {
        "id": "T7S0n_lWUnfh"
      }
    },
    {
      "cell_type": "code",
      "source": [
        "# Preprocess/binarize the data\n",
        "TEXT=\"/content/fairseq/examples/translation/sample_data\"\n",
        "!echo $TEXT\n",
        "# Binarize the data for training\n",
        "!fairseq-preprocess \\\n",
        "    --source-lang en --target-lang de \\\n",
        "    --trainpref $TEXT/spm.train.de-en \\\n",
        "    --validpref $TEXT/spm.dev.de-en \\\n",
        "    --testpref $TEXT/spm.tst.de-en \\\n",
        "    --destdir data-bin/iwslt14.de-en \\\n",
        "    --thresholdtgt 0 --thresholdsrc 0 \\\n",
        "    --workers 8"
      ],
      "metadata": {
        "id": "nlQWvCOjSB5s",
        "colab": {
          "base_uri": "https://localhost:8080/"
        },
        "outputId": "52807682-fc39-4765-b839-cbd3abe91343"
      },
      "execution_count": null,
      "outputs": [
        {
          "output_type": "stream",
          "name": "stdout",
          "text": [
            "/content/fairseq/examples/translation/sample_data\n",
            "2024-10-23 09:03:47.036921: E external/local_xla/xla/stream_executor/cuda/cuda_fft.cc:485] Unable to register cuFFT factory: Attempting to register factory for plugin cuFFT when one has already been registered\n",
            "2024-10-23 09:03:47.275467: E external/local_xla/xla/stream_executor/cuda/cuda_dnn.cc:8454] Unable to register cuDNN factory: Attempting to register factory for plugin cuDNN when one has already been registered\n",
            "2024-10-23 09:03:47.342093: E external/local_xla/xla/stream_executor/cuda/cuda_blas.cc:1452] Unable to register cuBLAS factory: Attempting to register factory for plugin cuBLAS when one has already been registered\n",
            "2024-10-23 09:03:47.756996: I tensorflow/core/platform/cpu_feature_guard.cc:210] This TensorFlow binary is optimized to use available CPU instructions in performance-critical operations.\n",
            "To enable the following instructions: AVX2 AVX512F FMA, in other operations, rebuild TensorFlow with the appropriate compiler flags.\n",
            "2024-10-23 09:03:49.406485: W tensorflow/compiler/tf2tensorrt/utils/py_utils.cc:38] TF-TRT Warning: Could not find TensorRT\n",
            "/content/fairseq/fairseq/tasks/multires_hubert_pretraining.py:154: SyntaxWarning: \"is not\" with a literal. Did you mean \"!=\"?\n",
            "  dictionaries = [ (Dictionary.load(f\"{label_dir}/dict.{label}.txt\") if label is not \"\" else None ) for label in self.cfg.labels]\n",
            "INFO:fairseq.tasks.text_to_speech:Please install tensorboardX: pip install tensorboardX\n",
            "INFO:fairseq_cli.preprocess:Namespace(no_progress_bar=False, log_interval=100, log_format=None, log_file=None, aim_repo=None, aim_run_hash=None, tensorboard_logdir=None, wandb_project=None, azureml_logging=False, seed=1, cpu=False, tpu=False, bf16=False, memory_efficient_bf16=False, fp16=False, memory_efficient_fp16=False, fp16_no_flatten_grads=False, fp16_init_scale=128, fp16_scale_window=None, fp16_scale_tolerance=0.0, on_cpu_convert_precision=False, min_loss_scale=0.0001, threshold_loss_scale=None, amp=False, amp_batch_retries=2, amp_init_scale=128, amp_scale_window=None, user_dir=None, empty_cache_freq=0, all_gather_list_size=16384, model_parallel_size=1, quantization_config_path=None, profile=False, reset_logging=False, suppress_crashes=False, use_plasma_view=False, plasma_path='/tmp/plasma', criterion='cross_entropy', tokenizer=None, bpe=None, optimizer=None, lr_scheduler='fixed', simul_type=None, scoring='bleu', task='translation', source_lang='en', target_lang='de', trainpref='/content/fairseq/examples/translation/sample_data/spm.train.de-en', validpref='/content/fairseq/examples/translation/sample_data/spm.dev.de-en', testpref='/content/fairseq/examples/translation/sample_data/spm.tst.de-en', align_suffix=None, destdir='data-bin/iwslt14.de-en', thresholdtgt=0, thresholdsrc=0, tgtdict=None, srcdict=None, nwordstgt=-1, nwordssrc=-1, alignfile=None, dataset_impl='mmap', joined_dictionary=False, only_source=False, padding_factor=8, workers=8, dict_only=False)\n",
            "INFO:fairseq_cli.preprocess:[en] Dictionary: 6104 types\n",
            "INFO:fairseq_cli.preprocess:[en] /content/fairseq/examples/translation/sample_data/spm.train.de-en.en: 174443 sents, 4459960 tokens, 0.0% replaced (by <unk>)\n",
            "INFO:fairseq_cli.preprocess:[en] Dictionary: 6104 types\n",
            "INFO:fairseq_cli.preprocess:[en] /content/fairseq/examples/translation/sample_data/spm.dev.de-en.en: 2052 sents, 52288 tokens, 0.0325% replaced (by <unk>)\n",
            "INFO:fairseq_cli.preprocess:[en] Dictionary: 6104 types\n",
            "INFO:fairseq_cli.preprocess:[en] /content/fairseq/examples/translation/sample_data/spm.tst.de-en.en: 4698 sents, 111669 tokens, 0.00627% replaced (by <unk>)\n",
            "INFO:fairseq_cli.preprocess:[de] Dictionary: 7600 types\n",
            "INFO:fairseq_cli.preprocess:[de] /content/fairseq/examples/translation/sample_data/spm.train.de-en.de: 174443 sents, 4506136 tokens, 0.0% replaced (by <unk>)\n",
            "INFO:fairseq_cli.preprocess:[de] Dictionary: 7600 types\n",
            "INFO:fairseq_cli.preprocess:[de] /content/fairseq/examples/translation/sample_data/spm.dev.de-en.de: 2052 sents, 53846 tokens, 0.113% replaced (by <unk>)\n",
            "INFO:fairseq_cli.preprocess:[de] Dictionary: 7600 types\n",
            "INFO:fairseq_cli.preprocess:[de] /content/fairseq/examples/translation/sample_data/spm.tst.de-en.de: 4698 sents, 114389 tokens, 0.0105% replaced (by <unk>)\n",
            "INFO:fairseq_cli.preprocess:Wrote preprocessed data to data-bin/iwslt14.de-en\n"
          ]
        }
      ]
    },
    {
      "cell_type": "markdown",
      "source": [
        "Feel free to check the [documentation](https://fairseq.readthedocs.io/en/latest/command_line_tools.html) of fairseq commands."
      ],
      "metadata": {
        "id": "O5TtxO3Ji2ys"
      }
    },
    {
      "cell_type": "markdown",
      "source": [
        "# Section 3. Training\n",
        "\n",
        "After data preparation, it's time do train a model!\n",
        "\n",
        "We will train a [Transformer (Vaswani et al. 2017)](https://proceedings.neurips.cc/paper/2017/file/3f5ee243547dee91fbd053c1c4a845aa-Paper.pdf) model of \"base\" configuration.\n",
        "\n",
        "This will be the most time-consuming step out of all sections.\n",
        "\n",
        "With our data, on a Tesla T4 GPU, one epoch will take around 3 minutes.\n",
        "\n"
      ],
      "metadata": {
        "id": "BYWsO8m1W10u"
      }
    },
    {
      "cell_type": "markdown",
      "source": [
        "❓ Check the training log to answer the following question:\n",
        "* How many sentence pairs are there in the training and dev set?\n",
        "* How many encoder layers are there?\n",
        "* How many decoder layers are there?\n",
        "* What is the vocabulary size for the source and target language?\n",
        "* What is the size of the embedding table of the source and target language?\n",
        "* How many parameters does the model have?\n",
        "    * How many of them are trainable?\n",
        "* What type of training objective (criterion) is used?\n",
        "* How does the learning rate (`lr`) change as training goes further?\n",
        "    * What do you think is the intuition behind this?"
      ],
      "metadata": {
        "id": "bFY_9Z_sjjIr"
      }
    },
    {
      "cell_type": "code",
      "source": [
        "!CUDA_VISIBLE_DEVICES=0 fairseq-train \\\n",
        "    /content/fairseq/examples/translation/data-bin/iwslt14.de-en \\\n",
        "    --arch transformer --share-decoder-input-output-embed \\\n",
        "    --optimizer adam --adam-betas '(0.9, 0.98)' --clip-norm 0.0 \\\n",
        "    --lr 5e-4 --lr-scheduler inverse_sqrt --warmup-updates 4000 \\\n",
        "    --dropout 0.3 --weight-decay 0.0001 \\\n",
        "    --criterion label_smoothed_cross_entropy --label-smoothing 0.1 \\\n",
        "    --keep-last-epochs 2 \\\n",
        "    --max-tokens 4096 \\\n",
        "    --max-epoch 20 \\\n",
        "    --fp16"
      ],
      "metadata": {
        "id": "IAkhWVZ_W6kC",
        "colab": {
          "base_uri": "https://localhost:8080/"
        },
        "outputId": "f0ff94da-a0be-4fab-9bb2-00e63c1690de"
      },
      "execution_count": null,
      "outputs": [
        {
          "output_type": "stream",
          "name": "stdout",
          "text": [
            "2024-10-23 09:05:53.807745: E external/local_xla/xla/stream_executor/cuda/cuda_fft.cc:485] Unable to register cuFFT factory: Attempting to register factory for plugin cuFFT when one has already been registered\n",
            "2024-10-23 09:05:53.841492: E external/local_xla/xla/stream_executor/cuda/cuda_dnn.cc:8454] Unable to register cuDNN factory: Attempting to register factory for plugin cuDNN when one has already been registered\n",
            "2024-10-23 09:05:53.851409: E external/local_xla/xla/stream_executor/cuda/cuda_blas.cc:1452] Unable to register cuBLAS factory: Attempting to register factory for plugin cuBLAS when one has already been registered\n",
            "2024-10-23 09:05:53.873730: I tensorflow/core/platform/cpu_feature_guard.cc:210] This TensorFlow binary is optimized to use available CPU instructions in performance-critical operations.\n",
            "To enable the following instructions: AVX2 AVX512F FMA, in other operations, rebuild TensorFlow with the appropriate compiler flags.\n",
            "2024-10-23 09:05:55.324171: W tensorflow/compiler/tf2tensorrt/utils/py_utils.cc:38] TF-TRT Warning: Could not find TensorRT\n",
            "2024-10-23 09:05:56 | INFO | numexpr.utils | NumExpr defaulting to 2 threads.\n",
            "2024-10-23 09:05:58 | INFO | fairseq.tasks.text_to_speech | Please install tensorboardX: pip install tensorboardX\n",
            "2024-10-23 09:06:00 | INFO | fairseq_cli.train | {'_name': None, 'common': {'_name': None, 'no_progress_bar': False, 'log_interval': 100, 'log_format': None, 'log_file': None, 'aim_repo': None, 'aim_run_hash': None, 'tensorboard_logdir': None, 'wandb_project': None, 'azureml_logging': False, 'seed': 1, 'cpu': False, 'tpu': False, 'bf16': False, 'memory_efficient_bf16': False, 'fp16': True, 'memory_efficient_fp16': False, 'fp16_no_flatten_grads': False, 'fp16_init_scale': 128, 'fp16_scale_window': None, 'fp16_scale_tolerance': 0.0, 'on_cpu_convert_precision': False, 'min_loss_scale': 0.0001, 'threshold_loss_scale': None, 'amp': False, 'amp_batch_retries': 2, 'amp_init_scale': 128, 'amp_scale_window': None, 'user_dir': None, 'empty_cache_freq': 0, 'all_gather_list_size': 16384, 'model_parallel_size': 1, 'quantization_config_path': None, 'profile': False, 'reset_logging': False, 'suppress_crashes': False, 'use_plasma_view': False, 'plasma_path': '/tmp/plasma'}, 'common_eval': {'_name': None, 'path': None, 'post_process': None, 'quiet': False, 'model_overrides': '{}', 'results_path': None}, 'distributed_training': {'_name': None, 'distributed_world_size': 1, 'distributed_num_procs': 1, 'distributed_rank': 0, 'distributed_backend': 'nccl', 'distributed_init_method': None, 'distributed_port': -1, 'device_id': 0, 'distributed_no_spawn': False, 'ddp_backend': 'pytorch_ddp', 'ddp_comm_hook': 'none', 'bucket_cap_mb': 25, 'fix_batches_to_gpus': False, 'find_unused_parameters': False, 'gradient_as_bucket_view': False, 'fast_stat_sync': False, 'heartbeat_timeout': -1, 'broadcast_buffers': False, 'slowmo_momentum': None, 'slowmo_base_algorithm': 'localsgd', 'localsgd_frequency': 3, 'nprocs_per_node': 1, 'pipeline_model_parallel': False, 'pipeline_balance': None, 'pipeline_devices': None, 'pipeline_chunks': 0, 'pipeline_encoder_balance': None, 'pipeline_encoder_devices': None, 'pipeline_decoder_balance': None, 'pipeline_decoder_devices': None, 'pipeline_checkpoint': 'never', 'zero_sharding': 'none', 'fp16': True, 'memory_efficient_fp16': False, 'tpu': False, 'no_reshard_after_forward': False, 'fp32_reduce_scatter': False, 'cpu_offload': False, 'use_sharded_state': False, 'not_fsdp_flatten_parameters': False}, 'dataset': {'_name': None, 'num_workers': 1, 'skip_invalid_size_inputs_valid_test': False, 'max_tokens': 4096, 'batch_size': None, 'required_batch_size_multiple': 8, 'required_seq_len_multiple': 1, 'dataset_impl': None, 'data_buffer_size': 10, 'train_subset': 'train', 'valid_subset': 'valid', 'combine_valid_subsets': None, 'ignore_unused_valid_subsets': False, 'validate_interval': 1, 'validate_interval_updates': 0, 'validate_after_updates': 0, 'fixed_validation_seed': None, 'disable_validation': False, 'max_tokens_valid': 4096, 'batch_size_valid': None, 'max_valid_steps': None, 'curriculum': 0, 'gen_subset': 'test', 'num_shards': 1, 'shard_id': 0, 'grouped_shuffling': False, 'update_epoch_batch_itr': False, 'update_ordered_indices_seed': False}, 'optimization': {'_name': None, 'max_epoch': 20, 'max_update': 0, 'stop_time_hours': 0.0, 'clip_norm': 0.0, 'sentence_avg': False, 'update_freq': [1], 'lr': [0.0005], 'stop_min_lr': -1.0, 'use_bmuf': False, 'skip_remainder_batch': False, 'debug_param_names': False}, 'checkpoint': {'_name': None, 'save_dir': 'checkpoints', 'restore_file': 'checkpoint_last.pt', 'continue_once': None, 'finetune_from_model': None, 'reset_dataloader': False, 'reset_lr_scheduler': False, 'reset_meters': False, 'reset_optimizer': False, 'optimizer_overrides': '{}', 'save_interval': 1, 'save_interval_updates': 0, 'keep_interval_updates': -1, 'keep_interval_updates_pattern': -1, 'keep_last_epochs': 2, 'keep_best_checkpoints': -1, 'no_save': False, 'no_epoch_checkpoints': False, 'no_last_checkpoints': False, 'no_save_optimizer_state': False, 'best_checkpoint_metric': 'loss', 'maximize_best_checkpoint_metric': False, 'patience': -1, 'checkpoint_suffix': '', 'checkpoint_shard_count': 1, 'load_checkpoint_on_all_dp_ranks': False, 'write_checkpoints_asynchronously': False, 'model_parallel_size': 1}, 'bmuf': {'_name': None, 'block_lr': 1.0, 'block_momentum': 0.875, 'global_sync_iter': 50, 'warmup_iterations': 500, 'use_nbm': False, 'average_sync': False, 'distributed_world_size': 1}, 'generation': {'_name': None, 'beam': 5, 'beam_mt': 0, 'nbest': 1, 'max_len_a': 0.0, 'max_len_b': 200, 'max_len_a_mt': 0.0, 'max_len_b_mt': 200, 'min_len': 1, 'match_source_len': False, 'unnormalized': False, 'no_early_stop': False, 'no_beamable_mm': False, 'lenpen': 1.0, 'lenpen_mt': 1.0, 'unkpen': 0.0, 'replace_unk': None, 'sacrebleu': False, 'score_reference': False, 'prefix_size': 0, 'no_repeat_ngram_size': 0, 'sampling': False, 'sampling_topk': -1, 'sampling_topp': -1.0, 'constraints': None, 'temperature': 1.0, 'diverse_beam_groups': -1, 'diverse_beam_strength': 0.5, 'diversity_rate': -1.0, 'print_alignment': None, 'print_step': False, 'lm_path': None, 'lm_weight': 0.0, 'iter_decode_eos_penalty': 0.0, 'iter_decode_max_iter': 10, 'iter_decode_force_max_iter': False, 'iter_decode_with_beam': 1, 'iter_decode_with_external_reranker': False, 'retain_iter_history': False, 'retain_dropout': False, 'retain_dropout_modules': None, 'decoding_format': None, 'no_seed_provided': False, 'eos_token': None}, 'eval_lm': {'_name': None, 'output_word_probs': False, 'output_word_stats': False, 'context_window': 0, 'softmax_batch': 9223372036854775807}, 'interactive': {'_name': None, 'buffer_size': 0, 'input': '-'}, 'model': Namespace(no_progress_bar=False, log_interval=100, log_format=None, log_file=None, aim_repo=None, aim_run_hash=None, tensorboard_logdir=None, wandb_project=None, azureml_logging=False, seed=1, cpu=False, tpu=False, bf16=False, memory_efficient_bf16=False, fp16=True, memory_efficient_fp16=False, fp16_no_flatten_grads=False, fp16_init_scale=128, fp16_scale_window=None, fp16_scale_tolerance=0.0, on_cpu_convert_precision=False, min_loss_scale=0.0001, threshold_loss_scale=None, amp=False, amp_batch_retries=2, amp_init_scale=128, amp_scale_window=None, user_dir=None, empty_cache_freq=0, all_gather_list_size=16384, model_parallel_size=1, quantization_config_path=None, profile=False, reset_logging=False, suppress_crashes=False, use_plasma_view=False, plasma_path='/tmp/plasma', criterion='label_smoothed_cross_entropy', tokenizer=None, bpe=None, optimizer='adam', lr_scheduler='inverse_sqrt', simul_type=None, scoring='bleu', task='translation', num_workers=1, skip_invalid_size_inputs_valid_test=False, max_tokens=4096, batch_size=None, required_batch_size_multiple=8, required_seq_len_multiple=1, dataset_impl=None, data_buffer_size=10, train_subset='train', valid_subset='valid', combine_valid_subsets=None, ignore_unused_valid_subsets=False, validate_interval=1, validate_interval_updates=0, validate_after_updates=0, fixed_validation_seed=None, disable_validation=False, max_tokens_valid=4096, batch_size_valid=None, max_valid_steps=None, curriculum=0, gen_subset='test', num_shards=1, shard_id=0, grouped_shuffling=False, update_epoch_batch_itr=False, update_ordered_indices_seed=False, distributed_world_size=1, distributed_num_procs=1, distributed_rank=0, distributed_backend='nccl', distributed_init_method=None, distributed_port=-1, device_id=0, distributed_no_spawn=False, ddp_backend='pytorch_ddp', ddp_comm_hook='none', bucket_cap_mb=25, fix_batches_to_gpus=False, find_unused_parameters=False, gradient_as_bucket_view=False, fast_stat_sync=False, heartbeat_timeout=-1, broadcast_buffers=False, slowmo_momentum=None, slowmo_base_algorithm='localsgd', localsgd_frequency=3, nprocs_per_node=1, pipeline_model_parallel=False, pipeline_balance=None, pipeline_devices=None, pipeline_chunks=0, pipeline_encoder_balance=None, pipeline_encoder_devices=None, pipeline_decoder_balance=None, pipeline_decoder_devices=None, pipeline_checkpoint='never', zero_sharding='none', no_reshard_after_forward=False, fp32_reduce_scatter=False, cpu_offload=False, use_sharded_state=False, not_fsdp_flatten_parameters=False, arch='transformer', max_epoch=20, max_update=0, stop_time_hours=0, clip_norm=0.0, sentence_avg=False, update_freq=[1], lr=[0.0005], stop_min_lr=-1.0, use_bmuf=False, skip_remainder_batch=False, debug_param_names=False, save_dir='checkpoints', restore_file='checkpoint_last.pt', continue_once=None, finetune_from_model=None, reset_dataloader=False, reset_lr_scheduler=False, reset_meters=False, reset_optimizer=False, optimizer_overrides='{}', save_interval=1, save_interval_updates=0, keep_interval_updates=-1, keep_interval_updates_pattern=-1, keep_last_epochs=2, keep_best_checkpoints=-1, no_save=False, no_epoch_checkpoints=False, no_last_checkpoints=False, no_save_optimizer_state=False, best_checkpoint_metric='loss', maximize_best_checkpoint_metric=False, patience=-1, checkpoint_suffix='', checkpoint_shard_count=1, load_checkpoint_on_all_dp_ranks=False, write_checkpoints_asynchronously=False, store_ema=False, ema_decay=0.9999, ema_start_update=0, ema_seed_model=None, ema_update_freq=1, ema_fp32=False, data='/content/fairseq/examples/translation/data-bin/iwslt14.de-en', source_lang=None, target_lang=None, load_alignments=False, left_pad_source=True, left_pad_target=False, upsample_primary=-1, truncate_source=False, num_batch_buckets=0, eval_bleu=False, eval_bleu_args='{}', eval_bleu_detok='space', eval_bleu_detok_args='{}', eval_tokenized_bleu=False, eval_bleu_remove_bpe=None, eval_bleu_print_samples=False, label_smoothing=0.1, report_accuracy=False, ignore_prefix_size=0, adam_betas='(0.9, 0.98)', adam_eps=1e-08, weight_decay=0.0001, use_old_adam=False, fp16_adam_stats=False, warmup_updates=4000, warmup_init_lr=-1, pad=1, eos=2, unk=3, share_decoder_input_output_embed=True, dropout=0.3, no_seed_provided=False, encoder_embed_path=None, encoder_embed_dim=512, encoder_ffn_embed_dim=2048, encoder_layers=6, encoder_attention_heads=8, encoder_normalize_before=False, encoder_learned_pos=False, decoder_embed_path=None, decoder_embed_dim=512, decoder_ffn_embed_dim=2048, decoder_layers=6, decoder_attention_heads=8, decoder_normalize_before=False, decoder_learned_pos=False, attention_dropout=0.0, activation_dropout=0.0, activation_fn='relu', adaptive_softmax_cutoff=None, adaptive_softmax_dropout=0, share_all_embeddings=False, merge_src_tgt_embed=False, no_token_positional_embeddings=False, adaptive_input=False, no_cross_attention=False, cross_self_attention=False, decoder_output_dim=512, decoder_input_dim=512, no_scale_embedding=False, layernorm_embedding=False, tie_adaptive_weights=False, checkpoint_activations=False, offload_activations=False, encoder_layers_to_keep=None, decoder_layers_to_keep=None, encoder_layerdrop=0, decoder_layerdrop=0, quant_noise_pq=0, quant_noise_pq_block_size=8, quant_noise_scalar=0, _name='transformer'), 'task': {'_name': 'translation', 'data': '/content/fairseq/examples/translation/data-bin/iwslt14.de-en', 'source_lang': None, 'target_lang': None, 'load_alignments': False, 'left_pad_source': True, 'left_pad_target': False, 'max_source_positions': 1024, 'max_target_positions': 1024, 'upsample_primary': -1, 'truncate_source': False, 'num_batch_buckets': 0, 'train_subset': 'train', 'dataset_impl': None, 'required_seq_len_multiple': 1, 'eval_bleu': False, 'eval_bleu_args': '{}', 'eval_bleu_detok': 'space', 'eval_bleu_detok_args': '{}', 'eval_tokenized_bleu': False, 'eval_bleu_remove_bpe': None, 'eval_bleu_print_samples': False}, 'criterion': {'_name': 'label_smoothed_cross_entropy', 'label_smoothing': 0.1, 'report_accuracy': False, 'ignore_prefix_size': 0, 'sentence_avg': False}, 'optimizer': {'_name': 'adam', 'adam_betas': '(0.9, 0.98)', 'adam_eps': 1e-08, 'weight_decay': 0.0001, 'use_old_adam': False, 'fp16_adam_stats': False, 'tpu': False, 'lr': [0.0005]}, 'lr_scheduler': {'_name': 'inverse_sqrt', 'warmup_updates': 4000, 'warmup_init_lr': -1.0, 'lr': [0.0005]}, 'scoring': {'_name': 'bleu', 'pad': 1, 'eos': 2, 'unk': 3}, 'bpe': None, 'tokenizer': None, 'ema': {'_name': None, 'store_ema': False, 'ema_decay': 0.9999, 'ema_start_update': 0, 'ema_seed_model': None, 'ema_update_freq': 1, 'ema_fp32': False}, 'simul_type': None}\n",
            "2024-10-23 09:06:00 | INFO | fairseq.tasks.translation | [en] dictionary: 6104 types\n",
            "2024-10-23 09:06:00 | INFO | fairseq.tasks.translation | [de] dictionary: 7600 types\n",
            "2024-10-23 09:06:00 | INFO | fairseq_cli.train | TransformerModel(\n",
            "  (encoder): TransformerEncoderBase(\n",
            "    (dropout_module): FairseqDropout()\n",
            "    (embed_tokens): Embedding(6104, 512, padding_idx=1)\n",
            "    (embed_positions): SinusoidalPositionalEmbedding()\n",
            "    (layers): ModuleList(\n",
            "      (0-5): 6 x TransformerEncoderLayerBase(\n",
            "        (self_attn): MultiheadAttention(\n",
            "          (dropout_module): FairseqDropout()\n",
            "          (k_proj): Linear(in_features=512, out_features=512, bias=True)\n",
            "          (v_proj): Linear(in_features=512, out_features=512, bias=True)\n",
            "          (q_proj): Linear(in_features=512, out_features=512, bias=True)\n",
            "          (out_proj): Linear(in_features=512, out_features=512, bias=True)\n",
            "        )\n",
            "        (self_attn_layer_norm): LayerNorm((512,), eps=1e-05, elementwise_affine=True)\n",
            "        (dropout_module): FairseqDropout()\n",
            "        (activation_dropout_module): FairseqDropout()\n",
            "        (fc1): Linear(in_features=512, out_features=2048, bias=True)\n",
            "        (fc2): Linear(in_features=2048, out_features=512, bias=True)\n",
            "        (final_layer_norm): LayerNorm((512,), eps=1e-05, elementwise_affine=True)\n",
            "      )\n",
            "    )\n",
            "  )\n",
            "  (decoder): TransformerDecoderBase(\n",
            "    (dropout_module): FairseqDropout()\n",
            "    (embed_tokens): Embedding(7600, 512, padding_idx=1)\n",
            "    (embed_positions): SinusoidalPositionalEmbedding()\n",
            "    (layers): ModuleList(\n",
            "      (0-5): 6 x TransformerDecoderLayerBase(\n",
            "        (dropout_module): FairseqDropout()\n",
            "        (self_attn): MultiheadAttention(\n",
            "          (dropout_module): FairseqDropout()\n",
            "          (k_proj): Linear(in_features=512, out_features=512, bias=True)\n",
            "          (v_proj): Linear(in_features=512, out_features=512, bias=True)\n",
            "          (q_proj): Linear(in_features=512, out_features=512, bias=True)\n",
            "          (out_proj): Linear(in_features=512, out_features=512, bias=True)\n",
            "        )\n",
            "        (activation_dropout_module): FairseqDropout()\n",
            "        (self_attn_layer_norm): LayerNorm((512,), eps=1e-05, elementwise_affine=True)\n",
            "        (encoder_attn): MultiheadAttention(\n",
            "          (dropout_module): FairseqDropout()\n",
            "          (k_proj): Linear(in_features=512, out_features=512, bias=True)\n",
            "          (v_proj): Linear(in_features=512, out_features=512, bias=True)\n",
            "          (q_proj): Linear(in_features=512, out_features=512, bias=True)\n",
            "          (out_proj): Linear(in_features=512, out_features=512, bias=True)\n",
            "        )\n",
            "        (encoder_attn_layer_norm): LayerNorm((512,), eps=1e-05, elementwise_affine=True)\n",
            "        (fc1): Linear(in_features=512, out_features=2048, bias=True)\n",
            "        (fc2): Linear(in_features=2048, out_features=512, bias=True)\n",
            "        (final_layer_norm): LayerNorm((512,), eps=1e-05, elementwise_affine=True)\n",
            "      )\n",
            "    )\n",
            "    (output_projection): Linear(in_features=512, out_features=7600, bias=False)\n",
            "  )\n",
            ")\n",
            "2024-10-23 09:06:00 | INFO | fairseq_cli.train | task: TranslationTask\n",
            "2024-10-23 09:06:00 | INFO | fairseq_cli.train | model: TransformerModel\n",
            "2024-10-23 09:06:00 | INFO | fairseq_cli.train | criterion: LabelSmoothedCrossEntropyCriterion\n",
            "2024-10-23 09:06:00 | INFO | fairseq_cli.train | num. shared model params: 51,154,944 (num. trained: 51,154,944)\n",
            "2024-10-23 09:06:00 | INFO | fairseq_cli.train | num. expert model params: 0 (num. trained: 0)\n",
            "2024-10-23 09:06:00 | INFO | fairseq.data.data_utils | loaded 2,052 examples from: /content/fairseq/examples/translation/data-bin/iwslt14.de-en/valid.en-de.en\n",
            "2024-10-23 09:06:00 | INFO | fairseq.data.data_utils | loaded 2,052 examples from: /content/fairseq/examples/translation/data-bin/iwslt14.de-en/valid.en-de.de\n",
            "2024-10-23 09:06:00 | INFO | fairseq.tasks.translation | /content/fairseq/examples/translation/data-bin/iwslt14.de-en valid en-de 2052 examples\n",
            "2024-10-23 09:06:01 | INFO | fairseq.trainer | detected shared parameter: decoder.embed_tokens.weight <- decoder.output_projection.weight\n",
            "2024-10-23 09:06:01 | INFO | fairseq.utils | ***********************CUDA enviroments for all 1 workers***********************\n",
            "2024-10-23 09:06:01 | INFO | fairseq.utils | rank   0: capabilities =  7.5  ; total memory = 14.748 GB ; name = Tesla T4                                \n",
            "2024-10-23 09:06:01 | INFO | fairseq.utils | ***********************CUDA enviroments for all 1 workers***********************\n",
            "2024-10-23 09:06:01 | INFO | fairseq_cli.train | training on 1 devices (GPUs/TPUs)\n",
            "2024-10-23 09:06:01 | INFO | fairseq_cli.train | max tokens per device = 4096 and max sentences per device = None\n",
            "2024-10-23 09:06:01 | INFO | fairseq.trainer | Preparing to load checkpoint checkpoints/checkpoint_last.pt\n",
            "2024-10-23 09:06:01 | INFO | fairseq.trainer | No existing checkpoint found checkpoints/checkpoint_last.pt\n",
            "2024-10-23 09:06:01 | INFO | fairseq.trainer | loading train data for epoch 1\n",
            "2024-10-23 09:06:01 | INFO | fairseq.data.data_utils | loaded 174,443 examples from: /content/fairseq/examples/translation/data-bin/iwslt14.de-en/train.en-de.en\n",
            "2024-10-23 09:06:01 | INFO | fairseq.data.data_utils | loaded 174,443 examples from: /content/fairseq/examples/translation/data-bin/iwslt14.de-en/train.en-de.de\n",
            "2024-10-23 09:06:01 | INFO | fairseq.tasks.translation | /content/fairseq/examples/translation/data-bin/iwslt14.de-en train en-de 174443 examples\n",
            "2024-10-23 09:06:01 | INFO | fairseq.tasks.fairseq_task | can_reuse_epoch_itr = True\n",
            "2024-10-23 09:06:01 | INFO | fairseq.tasks.fairseq_task | reuse_dataloader = True\n",
            "2024-10-23 09:06:01 | INFO | fairseq.tasks.fairseq_task | rebuild_batches = False\n",
            "2024-10-23 09:06:01 | INFO | fairseq.tasks.fairseq_task | creating new batches for epoch 1\n",
            "2024-10-23 09:06:02 | INFO | fairseq_cli.train | begin dry-run validation on \"valid\" subset\n",
            "2024-10-23 09:06:02 | INFO | fairseq.tasks.fairseq_task | can_reuse_epoch_itr = True\n",
            "2024-10-23 09:06:02 | INFO | fairseq.tasks.fairseq_task | reuse_dataloader = True\n",
            "2024-10-23 09:06:02 | INFO | fairseq.tasks.fairseq_task | rebuild_batches = False\n",
            "2024-10-23 09:06:02 | INFO | fairseq.tasks.fairseq_task | creating new batches for epoch 1\n",
            "2024-10-23 09:06:02 | INFO | fairseq.data.iterators | grouped total_num_itrs = 1270\n",
            "epoch 001:   0% 0/1270 [00:00<?, ?it/s]2024-10-23 09:06:02 | INFO | fairseq.trainer | begin training epoch 1\n",
            "2024-10-23 09:06:02 | INFO | fairseq_cli.train | Start iterating over samples\n",
            "/content/fairseq/fairseq/tasks/fairseq_task.py:531: FutureWarning: `torch.cuda.amp.autocast(args...)` is deprecated. Please use `torch.amp.autocast('cuda', args...)` instead.\n",
            "  with torch.cuda.amp.autocast(enabled=(isinstance(optimizer, AMPOptimizer))):\n",
            "/usr/local/lib/python3.10/dist-packages/torch/nn/functional.py:5193: UserWarning: Support for mismatched key_padding_mask and attn_mask is deprecated. Use same type for both instead.\n",
            "  warnings.warn(\n",
            "epoch 001:   0% 1/1270 [00:02<43:27,  2.05s/it]2024-10-23 09:06:04 | INFO | fairseq.trainer | NOTE: gradient overflow detected, ignoring gradient, setting loss scale to: 64.0\n",
            "epoch 001:   3% 32/1270 [00:06<02:41,  7.66it/s]2024-10-23 09:06:08 | INFO | fairseq.trainer | NOTE: gradient overflow detected, ignoring gradient, setting loss scale to: 32.0\n",
            "epoch 001: 100% 1269/1270 [02:44<00:00,  8.44it/s, loss=8.854, nll_loss=8.169, ppl=287.73, wps=27251.8, ups=7.7, wpb=3540.4, bsz=119.6, num_updates=1200, lr=0.00015, gnorm=1.496, loss_scale=32, train_wall=12, gb_free=12.7, wall=157]2024-10-23 09:08:46 | INFO | fairseq_cli.train | begin validation on \"valid\" subset\n",
            "2024-10-23 09:08:46 | INFO | fairseq.tasks.fairseq_task | can_reuse_epoch_itr = True\n",
            "\n",
            "epoch 001 | valid on 'valid' subset:   0% 0/27 [00:00<?, ?it/s]\u001b[A\n",
            "epoch 001 | valid on 'valid' subset:   7% 2/27 [00:00<00:01, 18.71it/s]\u001b[A\n",
            "epoch 001 | valid on 'valid' subset:  19% 5/27 [00:00<00:00, 23.17it/s]\u001b[A\n",
            "epoch 001 | valid on 'valid' subset:  30% 8/27 [00:00<00:00, 25.46it/s]\u001b[A\n",
            "epoch 001 | valid on 'valid' subset:  44% 12/27 [00:00<00:00, 27.71it/s]\u001b[A\n",
            "epoch 001 | valid on 'valid' subset:  56% 15/27 [00:00<00:00, 28.19it/s]\u001b[A\n",
            "epoch 001 | valid on 'valid' subset:  70% 19/27 [00:00<00:00, 28.73it/s]\u001b[A\n",
            "epoch 001 | valid on 'valid' subset:  85% 23/27 [00:00<00:00, 30.37it/s]\u001b[A\n",
            "epoch 001 | valid on 'valid' subset: 100% 27/27 [00:00<00:00, 30.92it/s]\u001b[A\n",
            "                                                                        \u001b[A2024-10-23 09:08:47 | INFO | valid | epoch 001 | valid on 'valid' subset | loss 8.509 | nll_loss 7.747 | ppl 214.77 | wps 59526.4 | wpb 1969.2 | bsz 75.9 | num_updates 1268\n",
            "2024-10-23 09:08:47 | INFO | fairseq.checkpoint_utils | Preparing to save checkpoint for epoch 1 @ 1268 updates\n",
            "2024-10-23 09:08:47 | INFO | fairseq.trainer | Saving checkpoint to /content/fairseq/examples/translation/checkpoints/checkpoint1.pt\n",
            "2024-10-23 09:08:56 | INFO | fairseq.trainer | Finished saving checkpoint to /content/fairseq/examples/translation/checkpoints/checkpoint1.pt\n",
            "2024-10-23 09:09:01 | INFO | fairseq.checkpoint_utils | Saved checkpoint checkpoints/checkpoint1.pt (epoch 1 @ 1268 updates, score 8.509) (writing took 13.487609920000068 seconds)\n",
            "2024-10-23 09:09:01 | INFO | fairseq_cli.train | end of epoch 1 (average epoch stats below)\n",
            "2024-10-23 09:09:01 | INFO | train | epoch 001 | loss 9.711 | nll_loss 9.175 | ppl 577.85 | wps 25387.8 | ups 7.16 | wpb 3545.1 | bsz 137.1 | num_updates 1268 | lr 0.0001585 | gnorm 1.674 | loss_scale 32 | train_wall 157 | gb_free 12.8 | wall 180\n",
            "2024-10-23 09:09:01 | INFO | fairseq.tasks.fairseq_task | can_reuse_epoch_itr = True\n",
            "2024-10-23 09:09:01 | INFO | fairseq.data.iterators | grouped total_num_itrs = 1270\n",
            "epoch 002:   0% 0/1270 [00:00<?, ?it/s]2024-10-23 09:09:01 | INFO | fairseq.trainer | begin training epoch 2\n",
            "2024-10-23 09:09:01 | INFO | fairseq_cli.train | Start iterating over samples\n",
            "epoch 002:  39% 495/1270 [01:04<01:36,  8.05it/s, loss=8.283, nll_loss=7.503, ppl=181.36, wps=27029.5, ups=7.62, wpb=3547, bsz=134.8, num_updates=1700, lr=0.0002125, gnorm=1.324, loss_scale=32, train_wall=13, gb_free=12.6, wall=237]2024-10-23 09:10:06 | INFO | fairseq.trainer | NOTE: gradient overflow detected, ignoring gradient, setting loss scale to: 16.0\n",
            "Traceback (most recent call last):\n",
            "  File \"/usr/local/bin/fairseq-train\", line 8, in <module>\n",
            "    sys.exit(cli_main())\n",
            "  File \"/content/fairseq/fairseq_cli/train.py\", line 574, in cli_main\n",
            "    distributed_utils.call_main(cfg, main)\n",
            "  File \"/content/fairseq/fairseq/distributed/utils.py\", line 404, in call_main\n",
            "    main(cfg, **kwargs)\n",
            "  File \"/content/fairseq/fairseq_cli/train.py\", line 205, in main\n",
            "    valid_losses, should_stop = train(cfg, trainer, task, epoch_itr)\n",
            "  File \"/usr/lib/python3.10/contextlib.py\", line 79, in inner\n",
            "    return func(*args, **kwds)\n",
            "  File \"/content/fairseq/fairseq_cli/train.py\", line 331, in train\n",
            "    log_output = trainer.train_step(samples)\n",
            "  File \"/usr/lib/python3.10/contextlib.py\", line 79, in inner\n",
            "    return func(*args, **kwds)\n",
            "  File \"/content/fairseq/fairseq/trainer.py\", line 843, in train_step\n",
            "    loss, sample_size_i, logging_output = self.task.train_step(\n",
            "  File \"/content/fairseq/fairseq/tasks/fairseq_task.py\", line 536, in train_step\n",
            "    optimizer.backward(loss)\n",
            "  File \"/content/fairseq/fairseq/optim/fp16_optimizer.py\", line 108, in backward\n",
            "    loss.backward()\n",
            "  File \"/usr/local/lib/python3.10/dist-packages/torch/_tensor.py\", line 521, in backward\n",
            "    torch.autograd.backward(\n",
            "  File \"/usr/local/lib/python3.10/dist-packages/torch/autograd/__init__.py\", line 289, in backward\n",
            "    _engine_run_backward(\n",
            "  File \"/usr/local/lib/python3.10/dist-packages/torch/autograd/graph.py\", line 769, in _engine_run_backward\n",
            "    return Variable._execution_engine.run_backward(  # Calls into the C++ engine to run the backward pass\n",
            "KeyboardInterrupt\n",
            "^C\n"
          ]
        }
      ]
    },
    {
      "cell_type": "markdown",
      "source": [
        "# Section 4. Decoding\n",
        "\n",
        "Now we can generate translations with the trained model."
      ],
      "metadata": {
        "id": "Lc4uXvxsLvGN"
      }
    },
    {
      "cell_type": "code",
      "source": [
        "TEST_INPUT=\"/content/fairseq/examples/translation/sample_data/spm.tst.de-en.de\"\n",
        "PRED_LOG=\"/content/fairseq/examples/translation/en-de.decode.log\"\n",
        "\n",
        "!fairseq-generate /content/fairseq/examples/translation/data-bin/iwslt14.de-en \\\n",
        "      --task translation \\\n",
        "      --source-lang en \\\n",
        "      --target-lang de \\\n",
        "      --path /content/fairseq/examples/translation/checkpoints/checkpoint_best.pt \\\n",
        "      --batch-size 256 \\\n",
        "      --beam 4 \\\n",
        "      --remove-bpe=sentencepiece > $PRED_LOG"
      ],
      "metadata": {
        "id": "j-Qai6g-ekUW",
        "colab": {
          "base_uri": "https://localhost:8080/"
        },
        "outputId": "0d1027c4-3358-4ceb-9aef-951ccb8fe47e"
      },
      "execution_count": null,
      "outputs": [
        {
          "output_type": "stream",
          "name": "stdout",
          "text": [
            "2024-10-23 09:11:29.661382: E external/local_xla/xla/stream_executor/cuda/cuda_fft.cc:485] Unable to register cuFFT factory: Attempting to register factory for plugin cuFFT when one has already been registered\n",
            "2024-10-23 09:11:29.681449: E external/local_xla/xla/stream_executor/cuda/cuda_dnn.cc:8454] Unable to register cuDNN factory: Attempting to register factory for plugin cuDNN when one has already been registered\n",
            "2024-10-23 09:11:29.687463: E external/local_xla/xla/stream_executor/cuda/cuda_blas.cc:1452] Unable to register cuBLAS factory: Attempting to register factory for plugin cuBLAS when one has already been registered\n",
            "2024-10-23 09:11:29.703231: I tensorflow/core/platform/cpu_feature_guard.cc:210] This TensorFlow binary is optimized to use available CPU instructions in performance-critical operations.\n",
            "To enable the following instructions: AVX2 AVX512F FMA, in other operations, rebuild TensorFlow with the appropriate compiler flags.\n",
            "2024-10-23 09:11:30.832584: W tensorflow/compiler/tf2tensorrt/utils/py_utils.cc:38] TF-TRT Warning: Could not find TensorRT\n",
            "INFO:fairseq.tasks.text_to_speech:Please install tensorboardX: pip install tensorboardX\n",
            "DEBUG:hydra.core.utils:Setting JobRuntime:name=UNKNOWN_NAME\n",
            "DEBUG:hydra.core.utils:Setting JobRuntime:name=utils\n",
            "INFO:fairseq_cli.generate:{'_name': None, 'common': {'_name': None, 'no_progress_bar': False, 'log_interval': 100, 'log_format': None, 'log_file': None, 'aim_repo': None, 'aim_run_hash': None, 'tensorboard_logdir': None, 'wandb_project': None, 'azureml_logging': False, 'seed': 1, 'cpu': False, 'tpu': False, 'bf16': False, 'memory_efficient_bf16': False, 'fp16': False, 'memory_efficient_fp16': False, 'fp16_no_flatten_grads': False, 'fp16_init_scale': 128, 'fp16_scale_window': None, 'fp16_scale_tolerance': 0.0, 'on_cpu_convert_precision': False, 'min_loss_scale': 0.0001, 'threshold_loss_scale': None, 'amp': False, 'amp_batch_retries': 2, 'amp_init_scale': 128, 'amp_scale_window': None, 'user_dir': None, 'empty_cache_freq': 0, 'all_gather_list_size': 16384, 'model_parallel_size': 1, 'quantization_config_path': None, 'profile': False, 'reset_logging': False, 'suppress_crashes': False, 'use_plasma_view': False, 'plasma_path': '/tmp/plasma'}, 'common_eval': {'_name': None, 'path': '/content/fairseq/examples/translation/checkpoints/checkpoint_best.pt', 'post_process': 'sentencepiece', 'quiet': False, 'model_overrides': '{}', 'results_path': None}, 'distributed_training': {'_name': None, 'distributed_world_size': 1, 'distributed_num_procs': 1, 'distributed_rank': 0, 'distributed_backend': 'nccl', 'distributed_init_method': None, 'distributed_port': -1, 'device_id': 0, 'distributed_no_spawn': False, 'ddp_backend': 'pytorch_ddp', 'ddp_comm_hook': 'none', 'bucket_cap_mb': 25, 'fix_batches_to_gpus': False, 'find_unused_parameters': False, 'gradient_as_bucket_view': False, 'fast_stat_sync': False, 'heartbeat_timeout': -1, 'broadcast_buffers': False, 'slowmo_momentum': None, 'slowmo_base_algorithm': 'localsgd', 'localsgd_frequency': 3, 'nprocs_per_node': 1, 'pipeline_model_parallel': False, 'pipeline_balance': None, 'pipeline_devices': None, 'pipeline_chunks': 0, 'pipeline_encoder_balance': None, 'pipeline_encoder_devices': None, 'pipeline_decoder_balance': None, 'pipeline_decoder_devices': None, 'pipeline_checkpoint': 'never', 'zero_sharding': 'none', 'fp16': False, 'memory_efficient_fp16': False, 'tpu': False, 'no_reshard_after_forward': False, 'fp32_reduce_scatter': False, 'cpu_offload': False, 'use_sharded_state': False, 'not_fsdp_flatten_parameters': False}, 'dataset': {'_name': None, 'num_workers': 1, 'skip_invalid_size_inputs_valid_test': False, 'max_tokens': None, 'batch_size': 256, 'required_batch_size_multiple': 8, 'required_seq_len_multiple': 1, 'dataset_impl': None, 'data_buffer_size': 10, 'train_subset': 'train', 'valid_subset': 'valid', 'combine_valid_subsets': None, 'ignore_unused_valid_subsets': False, 'validate_interval': 1, 'validate_interval_updates': 0, 'validate_after_updates': 0, 'fixed_validation_seed': None, 'disable_validation': False, 'max_tokens_valid': None, 'batch_size_valid': 256, 'max_valid_steps': None, 'curriculum': 0, 'gen_subset': 'test', 'num_shards': 1, 'shard_id': 0, 'grouped_shuffling': False, 'update_epoch_batch_itr': False, 'update_ordered_indices_seed': False}, 'optimization': {'_name': None, 'max_epoch': 0, 'max_update': 0, 'stop_time_hours': 0.0, 'clip_norm': 0.0, 'sentence_avg': False, 'update_freq': [1], 'lr': [0.25], 'stop_min_lr': -1.0, 'use_bmuf': False, 'skip_remainder_batch': False, 'debug_param_names': False}, 'checkpoint': {'_name': None, 'save_dir': 'checkpoints', 'restore_file': 'checkpoint_last.pt', 'continue_once': None, 'finetune_from_model': None, 'reset_dataloader': False, 'reset_lr_scheduler': False, 'reset_meters': False, 'reset_optimizer': False, 'optimizer_overrides': '{}', 'save_interval': 1, 'save_interval_updates': 0, 'keep_interval_updates': -1, 'keep_interval_updates_pattern': -1, 'keep_last_epochs': -1, 'keep_best_checkpoints': -1, 'no_save': False, 'no_epoch_checkpoints': False, 'no_last_checkpoints': False, 'no_save_optimizer_state': False, 'best_checkpoint_metric': 'loss', 'maximize_best_checkpoint_metric': False, 'patience': -1, 'checkpoint_suffix': '', 'checkpoint_shard_count': 1, 'load_checkpoint_on_all_dp_ranks': False, 'write_checkpoints_asynchronously': False, 'model_parallel_size': 1}, 'bmuf': {'_name': None, 'block_lr': 1.0, 'block_momentum': 0.875, 'global_sync_iter': 50, 'warmup_iterations': 500, 'use_nbm': False, 'average_sync': False, 'distributed_world_size': 1}, 'generation': {'_name': None, 'beam': 4, 'beam_mt': 0, 'nbest': 1, 'max_len_a': 0.0, 'max_len_b': 200, 'max_len_a_mt': 0.0, 'max_len_b_mt': 200, 'min_len': 1, 'match_source_len': False, 'unnormalized': False, 'no_early_stop': False, 'no_beamable_mm': False, 'lenpen': 1.0, 'lenpen_mt': 1.0, 'unkpen': 0.0, 'replace_unk': None, 'sacrebleu': False, 'score_reference': False, 'prefix_size': 0, 'no_repeat_ngram_size': 0, 'sampling': False, 'sampling_topk': -1, 'sampling_topp': -1.0, 'constraints': None, 'temperature': 1.0, 'diverse_beam_groups': -1, 'diverse_beam_strength': 0.5, 'diversity_rate': -1.0, 'print_alignment': None, 'print_step': False, 'lm_path': None, 'lm_weight': 0.0, 'iter_decode_eos_penalty': 0.0, 'iter_decode_max_iter': 10, 'iter_decode_force_max_iter': False, 'iter_decode_with_beam': 1, 'iter_decode_with_external_reranker': False, 'retain_iter_history': False, 'retain_dropout': False, 'retain_dropout_modules': None, 'decoding_format': None, 'no_seed_provided': False, 'eos_token': None}, 'eval_lm': {'_name': None, 'output_word_probs': False, 'output_word_stats': False, 'context_window': 0, 'softmax_batch': 9223372036854775807}, 'interactive': {'_name': None, 'buffer_size': 0, 'input': '-'}, 'model': {'_name': 'wav2vec2', 'extractor_mode': 'default', 'encoder_layers': 12, 'encoder_embed_dim': 768, 'encoder_ffn_embed_dim': 3072, 'encoder_attention_heads': 12, 'activation_fn': 'gelu', 'layer_type': 'transformer', 'dropout': 0.1, 'attention_dropout': 0.1, 'activation_dropout': 0.0, 'encoder_layerdrop': 0.0, 'dropout_input': 0.0, 'dropout_features': 0.0, 'final_dim': 0, 'layer_norm_first': False, 'conv_feature_layers': '[(512, 10, 5)] + [(512, 3, 2)] * 4 + [(512,2,2)] + [(512,2,2)]', 'conv_bias': False, 'logit_temp': 0.1, 'quantize_targets': False, 'quantize_input': False, 'same_quantizer': False, 'target_glu': False, 'feature_grad_mult': 1.0, 'quantizer_depth': 1, 'quantizer_factor': 3, 'latent_vars': 320, 'latent_groups': 2, 'latent_dim': 0, 'mask_length': 10, 'mask_prob': 0.65, 'mask_selection': 'static', 'mask_other': 0.0, 'no_mask_overlap': False, 'mask_min_space': 1, 'require_same_masks': True, 'mask_dropout': 0.0, 'mask_channel_length': 10, 'mask_channel_prob': 0.0, 'mask_channel_before': False, 'mask_channel_selection': 'static', 'mask_channel_other': 0.0, 'no_mask_channel_overlap': False, 'mask_channel_min_space': 1, 'num_negatives': 100, 'negatives_from_everywhere': False, 'cross_sample_negatives': 0, 'codebook_negatives': 0, 'conv_pos': 128, 'conv_pos_groups': 16, 'pos_conv_depth': 1, 'latent_temp': [2.0, 0.5, 0.999995], 'max_positions': 100000, 'checkpoint_activations': False, 'required_seq_len_multiple': 1, 'crop_seq_to_multiple': 1, 'depthwise_conv_kernel_size': 31, 'attn_type': '', 'pos_enc_type': 'abs', 'fp16': False, 'adp_num': -1, 'adp_dim': 64, 'adp_act_fn': 'relu', 'adp_trf_idx': 'all'}, 'task': {'_name': 'translation', 'data': '/content/fairseq/examples/translation/data-bin/iwslt14.de-en', 'source_lang': 'en', 'target_lang': 'de', 'load_alignments': False, 'left_pad_source': True, 'left_pad_target': False, 'max_source_positions': 1024, 'max_target_positions': 1024, 'upsample_primary': -1, 'truncate_source': False, 'num_batch_buckets': 0, 'train_subset': 'train', 'dataset_impl': None, 'required_seq_len_multiple': 1, 'eval_bleu': False, 'eval_bleu_args': '{}', 'eval_bleu_detok': 'space', 'eval_bleu_detok_args': '{}', 'eval_tokenized_bleu': False, 'eval_bleu_remove_bpe': None, 'eval_bleu_print_samples': False}, 'criterion': {'_name': 'cross_entropy', 'sentence_avg': True}, 'optimizer': None, 'lr_scheduler': {'_name': 'fixed', 'force_anneal': None, 'lr_shrink': 0.1, 'warmup_updates': 0, 'lr': [0.25]}, 'scoring': {'_name': 'bleu', 'pad': 1, 'eos': 2, 'unk': 3}, 'bpe': None, 'tokenizer': None, 'ema': {'_name': None, 'store_ema': False, 'ema_decay': 0.9999, 'ema_start_update': 0, 'ema_seed_model': None, 'ema_update_freq': 1, 'ema_fp32': False}, 'simul_type': None}\n",
            "INFO:fairseq.tasks.translation:[en] dictionary: 6104 types\n",
            "INFO:fairseq.tasks.translation:[de] dictionary: 7600 types\n",
            "INFO:fairseq_cli.generate:loading model(s) from /content/fairseq/examples/translation/checkpoints/checkpoint_best.pt\n",
            "/content/fairseq/fairseq/checkpoint_utils.py:340: FutureWarning: You are using `torch.load` with `weights_only=False` (the current default value), which uses the default pickle module implicitly. It is possible to construct malicious pickle data which will execute arbitrary code during unpickling (See https://github.com/pytorch/pytorch/blob/main/SECURITY.md#untrusted-models for more details). In a future release, the default value for `weights_only` will be flipped to `True`. This limits the functions that could be executed during unpickling. Arbitrary objects will no longer be allowed to be loaded via this mode unless they are explicitly allowlisted by the user via `torch.serialization.add_safe_globals`. We recommend you start setting `weights_only=True` for any use case where you don't have full control of the loaded file. Please open an issue on GitHub for any issues related to this experimental feature.\n",
            "  state = torch.load(f, map_location=torch.device(\"cpu\"))\n",
            "INFO:fairseq.data.data_utils:loaded 4,698 examples from: /content/fairseq/examples/translation/data-bin/iwslt14.de-en/test.en-de.en\n",
            "INFO:fairseq.data.data_utils:loaded 4,698 examples from: /content/fairseq/examples/translation/data-bin/iwslt14.de-en/test.en-de.de\n",
            "INFO:fairseq.tasks.translation:/content/fairseq/examples/translation/data-bin/iwslt14.de-en test en-de 4698 examples\n",
            "INFO:fairseq.tasks.fairseq_task:can_reuse_epoch_itr = True\n",
            "INFO:fairseq.tasks.fairseq_task:reuse_dataloader = True\n",
            "INFO:fairseq.tasks.fairseq_task:rebuild_batches = False\n",
            "INFO:fairseq.tasks.fairseq_task:creating new batches for epoch 1\n",
            "INFO:fairseq_cli.generate:NOTE: hypothesis and token scores are output in base 2\n",
            "INFO:fairseq_cli.generate:Translated 4,696 sentences (147,844 tokens) in 66.7s (70.44 sentences/s, 2217.64 tokens/s)\n"
          ]
        }
      ]
    },
    {
      "cell_type": "markdown",
      "source": [
        "We extract the hypotheses and references from the decoding log file."
      ],
      "metadata": {
        "id": "gVliJr8GvLjY"
      }
    },
    {
      "cell_type": "code",
      "source": [
        "!grep ^H $PRED_LOG | sed 's/^H-//g' | cut -f 3 | sed 's/ ##//g' > ./hyp.txt\n",
        "!grep ^T $PRED_LOG | sed 's/^T-//g' | cut -f 2 | sed 's/ ##//g' > ./ref.txt"
      ],
      "metadata": {
        "id": "TaYpYP63vMB_"
      },
      "execution_count": null,
      "outputs": []
    },
    {
      "cell_type": "code",
      "source": [
        "!head ./hyp.txt\n",
        "!head ./ref.txt"
      ],
      "metadata": {
        "id": "tNF0ovy3VbcB",
        "colab": {
          "base_uri": "https://localhost:8080/"
        },
        "outputId": "1282ebe4-30f0-469a-8692-2631a8eb8524"
      },
      "execution_count": null,
      "outputs": [
        {
          "output_type": "stream",
          "name": "stdout",
          "text": [
            "Das ist: Ja.\n",
            "Sie haben sie sie sie.\n",
            "Wir haben wir uns die Welt. Wir werden.\n",
            "Und ich glaube, dass ich glaube.\n",
            "Was das ist, was sie?\n",
            "Ich habe sie sie sie sie zu tun.\n",
            "Er sagte: \"Ich sagte: \"Ich sagte: \"Ich sagte: \"Ich sagte.\"\n",
            "Was ist die Frage?\n",
            "Und es ist es?\n",
            "Sie sagte: \"Ich sagte.\"\n",
            "DK: 60.000.\n",
            "Bewerte sie wieder.\n",
            "Wir heben ab.\n",
            "Ich dachte darüber nach.\n",
            "Was brauchen diese Menschen?\n",
            "Ich wollte sie unterstützten.\n",
            "\"Ja\", sagte er.\n",
            "Wer ist am erfolgreichsten?\n",
            "Und warum ist das so?\n",
            "So fühlen sie sich gut.\"\n"
          ]
        }
      ]
    },
    {
      "cell_type": "markdown",
      "source": [
        "# Section 5. Evaluation\n",
        "\n",
        "To evaluate the generated translation, a common metric is **BLEU** (**B**i**L**ingual **E**valuation **U**nderstudy; [Papineni et al., 2002](https://aclanthology.org/P02-1040.pdf)).\n",
        "\n",
        "BLEU is based on the overlaps between the MT system's output (a.k.a **hyptheses**) against **reference** translations."
      ],
      "metadata": {
        "id": "NjJ_g2WCLxXY"
      }
    },
    {
      "cell_type": "markdown",
      "source": [
        "## 5.1 sacreBLEU\n",
        "A widely-used toolkit for evaluating BLEU is [sacreBLEU](https://pypi.org/project/sacrebleu/) [(Post, 2018)](https://aclanthology.org/W18-6319.pdf).\n",
        "\n",
        "To intall sacrebleu in your environment:"
      ],
      "metadata": {
        "id": "eDaDhJj0yIIi"
      }
    },
    {
      "cell_type": "code",
      "source": [
        "!pip install sacrebleu"
      ],
      "metadata": {
        "id": "5F7EdCGSd6p9",
        "colab": {
          "base_uri": "https://localhost:8080/"
        },
        "outputId": "4584f3c7-26a6-4f96-9bbf-685de775b598"
      },
      "execution_count": null,
      "outputs": [
        {
          "output_type": "stream",
          "name": "stdout",
          "text": [
            "Requirement already satisfied: sacrebleu in /usr/local/lib/python3.10/dist-packages (2.4.3)\n",
            "Requirement already satisfied: portalocker in /usr/local/lib/python3.10/dist-packages (from sacrebleu) (2.10.1)\n",
            "Requirement already satisfied: regex in /usr/local/lib/python3.10/dist-packages (from sacrebleu) (2024.9.11)\n",
            "Requirement already satisfied: tabulate>=0.8.9 in /usr/local/lib/python3.10/dist-packages (from sacrebleu) (0.9.0)\n",
            "Requirement already satisfied: numpy>=1.17 in /usr/local/lib/python3.10/dist-packages (from sacrebleu) (1.26.4)\n",
            "Requirement already satisfied: colorama in /usr/local/lib/python3.10/dist-packages (from sacrebleu) (0.4.6)\n",
            "Requirement already satisfied: lxml in /usr/local/lib/python3.10/dist-packages (from sacrebleu) (4.9.4)\n",
            "\u001b[33mDEPRECATION: omegaconf 2.0.6 has a non-standard dependency specifier PyYAML>=5.1.*. pip 24.1 will enforce this behaviour change. A possible replacement is to upgrade to a newer version of omegaconf or contact the author to suggest that they release a version with a conforming dependency specifiers. Discussion can be found at https://github.com/pypa/pip/issues/12063\u001b[0m\u001b[33m\n",
            "\u001b[0m"
          ]
        }
      ]
    },
    {
      "cell_type": "markdown",
      "source": [
        "## 5.2 Evaluating Your System"
      ],
      "metadata": {
        "id": "kd7lVS3kckXV"
      }
    },
    {
      "cell_type": "code",
      "source": [
        "!cat ./hyp.txt | sacrebleu ref.txt"
      ],
      "metadata": {
        "id": "RbUbVhtFvWQ_",
        "colab": {
          "base_uri": "https://localhost:8080/"
        },
        "outputId": "223d70bc-53b2-4316-ce0b-06b92381625c"
      },
      "execution_count": null,
      "outputs": [
        {
          "output_type": "stream",
          "name": "stdout",
          "text": [
            "{\n",
            " \"name\": \"BLEU\",\n",
            " \"score\": 1.3,\n",
            " \"signature\": \"nrefs:1|case:mixed|eff:no|tok:13a|smooth:exp|version:2.4.3\",\n",
            " \"verbose_score\": \"17.1/3.0/0.6/0.1 (BP = 1.000 ratio = 1.635 hyp_len = 140120 ref_len = 85699)\",\n",
            " \"nrefs\": \"1\",\n",
            " \"case\": \"mixed\",\n",
            " \"eff\": \"no\",\n",
            " \"tok\": \"13a\",\n",
            " \"smooth\": \"exp\",\n",
            " \"version\": \"2.4.3\"\n",
            "}\n",
            "\u001b[0m"
          ]
        }
      ]
    },
    {
      "cell_type": "markdown",
      "source": [
        "Decode your model with difference beam sizes and evaluate the BLEU scores.\n",
        "\n",
        "| Beam Size | BLEU |\n",
        "|---|---|\n",
        "| 1 (greedy decoding)  |   |\n",
        "| 2  |   |  \n",
        "| 4  |   |  \n",
        "| 8  |   |  \n",
        "| 16  |   |"
      ],
      "metadata": {
        "id": "-Yece_e3l5my"
      }
    },
    {
      "cell_type": "markdown",
      "source": [
        "# Section 6. Next Steps"
      ],
      "metadata": {
        "id": "OLeN4FvZyQu7"
      }
    },
    {
      "cell_type": "markdown",
      "source": [
        "## 6.1 Saving Local Files\n",
        "To save files in from the hosted runtime to your local storage, you can use the following code to mount your Google Drive:"
      ],
      "metadata": {
        "id": "5B35YWx_vraw"
      }
    },
    {
      "cell_type": "code",
      "source": [
        "from google.colab import drive\n",
        "\n",
        "drive.mount('/content/drive')\n",
        "# Go to your drive\n",
        "%cd /content/drive/MyDrive\n",
        "# Make directory named ST1\n",
        "!mkdir -p ST1\n",
        "# Go to the newly created directory\n",
        "%cd ST1"
      ],
      "metadata": {
        "id": "JhjDasThvthD",
        "colab": {
          "base_uri": "https://localhost:8080/",
          "height": 356
        },
        "outputId": "ed9ff756-23af-4ee2-8de8-b420c4cd067f"
      },
      "execution_count": null,
      "outputs": [
        {
          "output_type": "error",
          "ename": "MessageError",
          "evalue": "Error: credential propagation was unsuccessful",
          "traceback": [
            "\u001b[0;31m---------------------------------------------------------------------------\u001b[0m",
            "\u001b[0;31mMessageError\u001b[0m                              Traceback (most recent call last)",
            "\u001b[0;32m<ipython-input-22-f2e03af16579>\u001b[0m in \u001b[0;36m<cell line: 3>\u001b[0;34m()\u001b[0m\n\u001b[1;32m      1\u001b[0m \u001b[0;32mfrom\u001b[0m \u001b[0mgoogle\u001b[0m\u001b[0;34m.\u001b[0m\u001b[0mcolab\u001b[0m \u001b[0;32mimport\u001b[0m \u001b[0mdrive\u001b[0m\u001b[0;34m\u001b[0m\u001b[0;34m\u001b[0m\u001b[0m\n\u001b[1;32m      2\u001b[0m \u001b[0;34m\u001b[0m\u001b[0m\n\u001b[0;32m----> 3\u001b[0;31m \u001b[0mdrive\u001b[0m\u001b[0;34m.\u001b[0m\u001b[0mmount\u001b[0m\u001b[0;34m(\u001b[0m\u001b[0;34m'/content/drive'\u001b[0m\u001b[0;34m)\u001b[0m\u001b[0;34m\u001b[0m\u001b[0;34m\u001b[0m\u001b[0m\n\u001b[0m\u001b[1;32m      4\u001b[0m \u001b[0;31m# Go to your drive\u001b[0m\u001b[0;34m\u001b[0m\u001b[0;34m\u001b[0m\u001b[0m\n\u001b[1;32m      5\u001b[0m \u001b[0mget_ipython\u001b[0m\u001b[0;34m(\u001b[0m\u001b[0;34m)\u001b[0m\u001b[0;34m.\u001b[0m\u001b[0mrun_line_magic\u001b[0m\u001b[0;34m(\u001b[0m\u001b[0;34m'cd'\u001b[0m\u001b[0;34m,\u001b[0m \u001b[0;34m'/content/drive/MyDrive'\u001b[0m\u001b[0;34m)\u001b[0m\u001b[0;34m\u001b[0m\u001b[0;34m\u001b[0m\u001b[0m\n",
            "\u001b[0;32m/usr/local/lib/python3.10/dist-packages/google/colab/drive.py\u001b[0m in \u001b[0;36mmount\u001b[0;34m(mountpoint, force_remount, timeout_ms, readonly)\u001b[0m\n\u001b[1;32m     98\u001b[0m \u001b[0;32mdef\u001b[0m \u001b[0mmount\u001b[0m\u001b[0;34m(\u001b[0m\u001b[0mmountpoint\u001b[0m\u001b[0;34m,\u001b[0m \u001b[0mforce_remount\u001b[0m\u001b[0;34m=\u001b[0m\u001b[0;32mFalse\u001b[0m\u001b[0;34m,\u001b[0m \u001b[0mtimeout_ms\u001b[0m\u001b[0;34m=\u001b[0m\u001b[0;36m120000\u001b[0m\u001b[0;34m,\u001b[0m \u001b[0mreadonly\u001b[0m\u001b[0;34m=\u001b[0m\u001b[0;32mFalse\u001b[0m\u001b[0;34m)\u001b[0m\u001b[0;34m:\u001b[0m\u001b[0;34m\u001b[0m\u001b[0;34m\u001b[0m\u001b[0m\n\u001b[1;32m     99\u001b[0m   \u001b[0;34m\"\"\"Mount your Google Drive at the specified mountpoint path.\"\"\"\u001b[0m\u001b[0;34m\u001b[0m\u001b[0;34m\u001b[0m\u001b[0m\n\u001b[0;32m--> 100\u001b[0;31m   return _mount(\n\u001b[0m\u001b[1;32m    101\u001b[0m       \u001b[0mmountpoint\u001b[0m\u001b[0;34m,\u001b[0m\u001b[0;34m\u001b[0m\u001b[0;34m\u001b[0m\u001b[0m\n\u001b[1;32m    102\u001b[0m       \u001b[0mforce_remount\u001b[0m\u001b[0;34m=\u001b[0m\u001b[0mforce_remount\u001b[0m\u001b[0;34m,\u001b[0m\u001b[0;34m\u001b[0m\u001b[0;34m\u001b[0m\u001b[0m\n",
            "\u001b[0;32m/usr/local/lib/python3.10/dist-packages/google/colab/drive.py\u001b[0m in \u001b[0;36m_mount\u001b[0;34m(mountpoint, force_remount, timeout_ms, ephemeral, readonly)\u001b[0m\n\u001b[1;32m    135\u001b[0m   )\n\u001b[1;32m    136\u001b[0m   \u001b[0;32mif\u001b[0m \u001b[0mephemeral\u001b[0m\u001b[0;34m:\u001b[0m\u001b[0;34m\u001b[0m\u001b[0;34m\u001b[0m\u001b[0m\n\u001b[0;32m--> 137\u001b[0;31m     _message.blocking_request(\n\u001b[0m\u001b[1;32m    138\u001b[0m         \u001b[0;34m'request_auth'\u001b[0m\u001b[0;34m,\u001b[0m\u001b[0;34m\u001b[0m\u001b[0;34m\u001b[0m\u001b[0m\n\u001b[1;32m    139\u001b[0m         \u001b[0mrequest\u001b[0m\u001b[0;34m=\u001b[0m\u001b[0;34m{\u001b[0m\u001b[0;34m'authType'\u001b[0m\u001b[0;34m:\u001b[0m \u001b[0;34m'dfs_ephemeral'\u001b[0m\u001b[0;34m}\u001b[0m\u001b[0;34m,\u001b[0m\u001b[0;34m\u001b[0m\u001b[0;34m\u001b[0m\u001b[0m\n",
            "\u001b[0;32m/usr/local/lib/python3.10/dist-packages/google/colab/_message.py\u001b[0m in \u001b[0;36mblocking_request\u001b[0;34m(request_type, request, timeout_sec, parent)\u001b[0m\n\u001b[1;32m    174\u001b[0m       \u001b[0mrequest_type\u001b[0m\u001b[0;34m,\u001b[0m \u001b[0mrequest\u001b[0m\u001b[0;34m,\u001b[0m \u001b[0mparent\u001b[0m\u001b[0;34m=\u001b[0m\u001b[0mparent\u001b[0m\u001b[0;34m,\u001b[0m \u001b[0mexpect_reply\u001b[0m\u001b[0;34m=\u001b[0m\u001b[0;32mTrue\u001b[0m\u001b[0;34m\u001b[0m\u001b[0;34m\u001b[0m\u001b[0m\n\u001b[1;32m    175\u001b[0m   )\n\u001b[0;32m--> 176\u001b[0;31m   \u001b[0;32mreturn\u001b[0m \u001b[0mread_reply_from_input\u001b[0m\u001b[0;34m(\u001b[0m\u001b[0mrequest_id\u001b[0m\u001b[0;34m,\u001b[0m \u001b[0mtimeout_sec\u001b[0m\u001b[0;34m)\u001b[0m\u001b[0;34m\u001b[0m\u001b[0;34m\u001b[0m\u001b[0m\n\u001b[0m",
            "\u001b[0;32m/usr/local/lib/python3.10/dist-packages/google/colab/_message.py\u001b[0m in \u001b[0;36mread_reply_from_input\u001b[0;34m(message_id, timeout_sec)\u001b[0m\n\u001b[1;32m    101\u001b[0m     ):\n\u001b[1;32m    102\u001b[0m       \u001b[0;32mif\u001b[0m \u001b[0;34m'error'\u001b[0m \u001b[0;32min\u001b[0m \u001b[0mreply\u001b[0m\u001b[0;34m:\u001b[0m\u001b[0;34m\u001b[0m\u001b[0;34m\u001b[0m\u001b[0m\n\u001b[0;32m--> 103\u001b[0;31m         \u001b[0;32mraise\u001b[0m \u001b[0mMessageError\u001b[0m\u001b[0;34m(\u001b[0m\u001b[0mreply\u001b[0m\u001b[0;34m[\u001b[0m\u001b[0;34m'error'\u001b[0m\u001b[0;34m]\u001b[0m\u001b[0;34m)\u001b[0m\u001b[0;34m\u001b[0m\u001b[0;34m\u001b[0m\u001b[0m\n\u001b[0m\u001b[1;32m    104\u001b[0m       \u001b[0;32mreturn\u001b[0m \u001b[0mreply\u001b[0m\u001b[0;34m.\u001b[0m\u001b[0mget\u001b[0m\u001b[0;34m(\u001b[0m\u001b[0;34m'data'\u001b[0m\u001b[0;34m,\u001b[0m \u001b[0;32mNone\u001b[0m\u001b[0;34m)\u001b[0m\u001b[0;34m\u001b[0m\u001b[0;34m\u001b[0m\u001b[0m\n\u001b[1;32m    105\u001b[0m \u001b[0;34m\u001b[0m\u001b[0m\n",
            "\u001b[0;31mMessageError\u001b[0m: Error: credential propagation was unsuccessful"
          ]
        }
      ]
    },
    {
      "cell_type": "markdown",
      "source": [
        "After that, you can use `cp` to copy files from the hosted runtime to your local storage."
      ],
      "metadata": {
        "id": "-NDEcukgwjq5"
      }
    },
    {
      "cell_type": "markdown",
      "source": [
        "## 6.2 Action Items\n",
        "* Send me the members of your group\n",
        "\n",
        "* Decide on the translation direction(s) your team would like to work on. Some sources of parallel data include:\n",
        "    * [OPUS](https://opus.nlpl.eu/)\n",
        "    * [MuST-C](https://ict.fbk.eu/must-c/)\n",
        "* Train a machine translation model for your chosen direction(s).\n",
        "* Send me your lab report 2 days before the next session. When compiling the report, consider including the following information:\n",
        "    * **dataset** information (which corpus; size of train / dev / test sets)\n",
        "    * model **architecture**\n",
        "    * **performance** on dev and test sets\n",
        "    * **One page** should be enough to cover the important information\n",
        "    * mail to Tu Anh Dinh tu.dinh@kit.edu\n",
        "\n",
        "## 6.3 ❓ Food for Thought\n",
        "* So far, we assume the inputs to the MT system are **error-free** (i.e. fully accurate transcription of the spoken utterances). What would happen when the text comes out of an **ASR system**? What would be the impact on the MT performance?\n",
        "* When handling audio inputs, which part of the model can we **keep**, and which needs to be **adapted**?"
      ],
      "metadata": {
        "id": "eotAUwW3XcUd"
      }
    },
    {
      "cell_type": "code",
      "source": [],
      "metadata": {
        "id": "VO6hKxJDSHxU"
      },
      "execution_count": null,
      "outputs": []
    }
  ]
}